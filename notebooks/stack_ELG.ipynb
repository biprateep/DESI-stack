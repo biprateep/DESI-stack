{
 "cells": [
  {
   "cell_type": "markdown",
   "metadata": {},
   "source": [
    "### Model Ivar using sky"
   ]
  },
  {
   "cell_type": "code",
   "execution_count": 44,
   "metadata": {},
   "outputs": [
    {
     "data": {
      "text/html": [
       "\n",
       "    <div class=\"bk-root\">\n",
       "        <a href=\"https://bokeh.org\" target=\"_blank\" class=\"bk-logo bk-logo-small bk-logo-notebook\"></a>\n",
       "        <span id=\"1470\">Loading BokehJS ...</span>\n",
       "    </div>"
      ]
     },
     "metadata": {},
     "output_type": "display_data"
    },
    {
     "data": {
      "application/javascript": [
       "\n",
       "(function(root) {\n",
       "  function now() {\n",
       "    return new Date();\n",
       "  }\n",
       "\n",
       "  var force = true;\n",
       "\n",
       "  if (typeof root._bokeh_onload_callbacks === \"undefined\" || force === true) {\n",
       "    root._bokeh_onload_callbacks = [];\n",
       "    root._bokeh_is_loading = undefined;\n",
       "  }\n",
       "\n",
       "  var JS_MIME_TYPE = 'application/javascript';\n",
       "  var HTML_MIME_TYPE = 'text/html';\n",
       "  var EXEC_MIME_TYPE = 'application/vnd.bokehjs_exec.v0+json';\n",
       "  var CLASS_NAME = 'output_bokeh rendered_html';\n",
       "\n",
       "  /**\n",
       "   * Render data to the DOM node\n",
       "   */\n",
       "  function render(props, node) {\n",
       "    var script = document.createElement(\"script\");\n",
       "    node.appendChild(script);\n",
       "  }\n",
       "\n",
       "  /**\n",
       "   * Handle when an output is cleared or removed\n",
       "   */\n",
       "  function handleClearOutput(event, handle) {\n",
       "    var cell = handle.cell;\n",
       "\n",
       "    var id = cell.output_area._bokeh_element_id;\n",
       "    var server_id = cell.output_area._bokeh_server_id;\n",
       "    // Clean up Bokeh references\n",
       "    if (id != null && id in Bokeh.index) {\n",
       "      Bokeh.index[id].model.document.clear();\n",
       "      delete Bokeh.index[id];\n",
       "    }\n",
       "\n",
       "    if (server_id !== undefined) {\n",
       "      // Clean up Bokeh references\n",
       "      var cmd = \"from bokeh.io.state import curstate; print(curstate().uuid_to_server['\" + server_id + \"'].get_sessions()[0].document.roots[0]._id)\";\n",
       "      cell.notebook.kernel.execute(cmd, {\n",
       "        iopub: {\n",
       "          output: function(msg) {\n",
       "            var id = msg.content.text.trim();\n",
       "            if (id in Bokeh.index) {\n",
       "              Bokeh.index[id].model.document.clear();\n",
       "              delete Bokeh.index[id];\n",
       "            }\n",
       "          }\n",
       "        }\n",
       "      });\n",
       "      // Destroy server and session\n",
       "      var cmd = \"import bokeh.io.notebook as ion; ion.destroy_server('\" + server_id + \"')\";\n",
       "      cell.notebook.kernel.execute(cmd);\n",
       "    }\n",
       "  }\n",
       "\n",
       "  /**\n",
       "   * Handle when a new output is added\n",
       "   */\n",
       "  function handleAddOutput(event, handle) {\n",
       "    var output_area = handle.output_area;\n",
       "    var output = handle.output;\n",
       "\n",
       "    // limit handleAddOutput to display_data with EXEC_MIME_TYPE content only\n",
       "    if ((output.output_type != \"display_data\") || (!output.data.hasOwnProperty(EXEC_MIME_TYPE))) {\n",
       "      return\n",
       "    }\n",
       "\n",
       "    var toinsert = output_area.element.find(\".\" + CLASS_NAME.split(' ')[0]);\n",
       "\n",
       "    if (output.metadata[EXEC_MIME_TYPE][\"id\"] !== undefined) {\n",
       "      toinsert[toinsert.length - 1].firstChild.textContent = output.data[JS_MIME_TYPE];\n",
       "      // store reference to embed id on output_area\n",
       "      output_area._bokeh_element_id = output.metadata[EXEC_MIME_TYPE][\"id\"];\n",
       "    }\n",
       "    if (output.metadata[EXEC_MIME_TYPE][\"server_id\"] !== undefined) {\n",
       "      var bk_div = document.createElement(\"div\");\n",
       "      bk_div.innerHTML = output.data[HTML_MIME_TYPE];\n",
       "      var script_attrs = bk_div.children[0].attributes;\n",
       "      for (var i = 0; i < script_attrs.length; i++) {\n",
       "        toinsert[toinsert.length - 1].firstChild.setAttribute(script_attrs[i].name, script_attrs[i].value);\n",
       "        toinsert[toinsert.length - 1].firstChild.textContent = bk_div.children[0].textContent\n",
       "      }\n",
       "      // store reference to server id on output_area\n",
       "      output_area._bokeh_server_id = output.metadata[EXEC_MIME_TYPE][\"server_id\"];\n",
       "    }\n",
       "  }\n",
       "\n",
       "  function register_renderer(events, OutputArea) {\n",
       "\n",
       "    function append_mime(data, metadata, element) {\n",
       "      // create a DOM node to render to\n",
       "      var toinsert = this.create_output_subarea(\n",
       "        metadata,\n",
       "        CLASS_NAME,\n",
       "        EXEC_MIME_TYPE\n",
       "      );\n",
       "      this.keyboard_manager.register_events(toinsert);\n",
       "      // Render to node\n",
       "      var props = {data: data, metadata: metadata[EXEC_MIME_TYPE]};\n",
       "      render(props, toinsert[toinsert.length - 1]);\n",
       "      element.append(toinsert);\n",
       "      return toinsert\n",
       "    }\n",
       "\n",
       "    /* Handle when an output is cleared or removed */\n",
       "    events.on('clear_output.CodeCell', handleClearOutput);\n",
       "    events.on('delete.Cell', handleClearOutput);\n",
       "\n",
       "    /* Handle when a new output is added */\n",
       "    events.on('output_added.OutputArea', handleAddOutput);\n",
       "\n",
       "    /**\n",
       "     * Register the mime type and append_mime function with output_area\n",
       "     */\n",
       "    OutputArea.prototype.register_mime_type(EXEC_MIME_TYPE, append_mime, {\n",
       "      /* Is output safe? */\n",
       "      safe: true,\n",
       "      /* Index of renderer in `output_area.display_order` */\n",
       "      index: 0\n",
       "    });\n",
       "  }\n",
       "\n",
       "  // register the mime type if in Jupyter Notebook environment and previously unregistered\n",
       "  if (root.Jupyter !== undefined) {\n",
       "    var events = require('base/js/events');\n",
       "    var OutputArea = require('notebook/js/outputarea').OutputArea;\n",
       "\n",
       "    if (OutputArea.prototype.mime_types().indexOf(EXEC_MIME_TYPE) == -1) {\n",
       "      register_renderer(events, OutputArea);\n",
       "    }\n",
       "  }\n",
       "\n",
       "  \n",
       "  if (typeof (root._bokeh_timeout) === \"undefined\" || force === true) {\n",
       "    root._bokeh_timeout = Date.now() + 5000;\n",
       "    root._bokeh_failed_load = false;\n",
       "  }\n",
       "\n",
       "  var NB_LOAD_WARNING = {'data': {'text/html':\n",
       "     \"<div style='background-color: #fdd'>\\n\"+\n",
       "     \"<p>\\n\"+\n",
       "     \"BokehJS does not appear to have successfully loaded. If loading BokehJS from CDN, this \\n\"+\n",
       "     \"may be due to a slow or bad network connection. Possible fixes:\\n\"+\n",
       "     \"</p>\\n\"+\n",
       "     \"<ul>\\n\"+\n",
       "     \"<li>re-rerun `output_notebook()` to attempt to load from CDN again, or</li>\\n\"+\n",
       "     \"<li>use INLINE resources instead, as so:</li>\\n\"+\n",
       "     \"</ul>\\n\"+\n",
       "     \"<code>\\n\"+\n",
       "     \"from bokeh.resources import INLINE\\n\"+\n",
       "     \"output_notebook(resources=INLINE)\\n\"+\n",
       "     \"</code>\\n\"+\n",
       "     \"</div>\"}};\n",
       "\n",
       "  function display_loaded() {\n",
       "    var el = document.getElementById(\"1470\");\n",
       "    if (el != null) {\n",
       "      el.textContent = \"BokehJS is loading...\";\n",
       "    }\n",
       "    if (root.Bokeh !== undefined) {\n",
       "      if (el != null) {\n",
       "        el.textContent = \"BokehJS \" + root.Bokeh.version + \" successfully loaded.\";\n",
       "      }\n",
       "    } else if (Date.now() < root._bokeh_timeout) {\n",
       "      setTimeout(display_loaded, 100)\n",
       "    }\n",
       "  }\n",
       "\n",
       "\n",
       "  function run_callbacks() {\n",
       "    try {\n",
       "      root._bokeh_onload_callbacks.forEach(function(callback) {\n",
       "        if (callback != null)\n",
       "          callback();\n",
       "      });\n",
       "    } finally {\n",
       "      delete root._bokeh_onload_callbacks\n",
       "    }\n",
       "    console.debug(\"Bokeh: all callbacks have finished\");\n",
       "  }\n",
       "\n",
       "  function load_libs(css_urls, js_urls, callback) {\n",
       "    if (css_urls == null) css_urls = [];\n",
       "    if (js_urls == null) js_urls = [];\n",
       "\n",
       "    root._bokeh_onload_callbacks.push(callback);\n",
       "    if (root._bokeh_is_loading > 0) {\n",
       "      console.debug(\"Bokeh: BokehJS is being loaded, scheduling callback at\", now());\n",
       "      return null;\n",
       "    }\n",
       "    if (js_urls == null || js_urls.length === 0) {\n",
       "      run_callbacks();\n",
       "      return null;\n",
       "    }\n",
       "    console.debug(\"Bokeh: BokehJS not loaded, scheduling load and callback at\", now());\n",
       "    root._bokeh_is_loading = css_urls.length + js_urls.length;\n",
       "\n",
       "    function on_load() {\n",
       "      root._bokeh_is_loading--;\n",
       "      if (root._bokeh_is_loading === 0) {\n",
       "        console.debug(\"Bokeh: all BokehJS libraries/stylesheets loaded\");\n",
       "        run_callbacks()\n",
       "      }\n",
       "    }\n",
       "\n",
       "    function on_error() {\n",
       "      console.error(\"failed to load \" + url);\n",
       "    }\n",
       "\n",
       "    for (var i = 0; i < css_urls.length; i++) {\n",
       "      var url = css_urls[i];\n",
       "      const element = document.createElement(\"link\");\n",
       "      element.onload = on_load;\n",
       "      element.onerror = on_error;\n",
       "      element.rel = \"stylesheet\";\n",
       "      element.type = \"text/css\";\n",
       "      element.href = url;\n",
       "      console.debug(\"Bokeh: injecting link tag for BokehJS stylesheet: \", url);\n",
       "      document.body.appendChild(element);\n",
       "    }\n",
       "\n",
       "    const hashes = {\"https://cdn.bokeh.org/bokeh/release/bokeh-2.1.1.min.js\": \"kLr4fYcqcSpbuI95brIH3vnnYCquzzSxHPU6XGQCIkQRGJwhg0StNbj1eegrHs12\", \"https://cdn.bokeh.org/bokeh/release/bokeh-widgets-2.1.1.min.js\": \"xIGPmVtaOm+z0BqfSOMn4lOR6ciex448GIKG4eE61LsAvmGj48XcMQZtKcE/UXZe\", \"https://cdn.bokeh.org/bokeh/release/bokeh-tables-2.1.1.min.js\": \"Dc9u1wF/0zApGIWoBbH77iWEHtdmkuYWG839Uzmv8y8yBLXebjO9ZnERsde5Ln/P\", \"https://cdn.bokeh.org/bokeh/release/bokeh-gl-2.1.1.min.js\": \"cT9JaBz7GiRXdENrJLZNSC6eMNF3nh3fa5fTF51Svp+ukxPdwcU5kGXGPBgDCa2j\"};\n",
       "\n",
       "    for (var i = 0; i < js_urls.length; i++) {\n",
       "      var url = js_urls[i];\n",
       "      var element = document.createElement('script');\n",
       "      element.onload = on_load;\n",
       "      element.onerror = on_error;\n",
       "      element.async = false;\n",
       "      element.src = url;\n",
       "      if (url in hashes) {\n",
       "        element.crossOrigin = \"anonymous\";\n",
       "        element.integrity = \"sha384-\" + hashes[url];\n",
       "      }\n",
       "      console.debug(\"Bokeh: injecting script tag for BokehJS library: \", url);\n",
       "      document.head.appendChild(element);\n",
       "    }\n",
       "  };\n",
       "\n",
       "  function inject_raw_css(css) {\n",
       "    const element = document.createElement(\"style\");\n",
       "    element.appendChild(document.createTextNode(css));\n",
       "    document.body.appendChild(element);\n",
       "  }\n",
       "\n",
       "  \n",
       "  var js_urls = [\"https://cdn.bokeh.org/bokeh/release/bokeh-2.1.1.min.js\", \"https://cdn.bokeh.org/bokeh/release/bokeh-widgets-2.1.1.min.js\", \"https://cdn.bokeh.org/bokeh/release/bokeh-tables-2.1.1.min.js\", \"https://cdn.bokeh.org/bokeh/release/bokeh-gl-2.1.1.min.js\"];\n",
       "  var css_urls = [];\n",
       "  \n",
       "\n",
       "  var inline_js = [\n",
       "    function(Bokeh) {\n",
       "      Bokeh.set_log_level(\"info\");\n",
       "    },\n",
       "    function(Bokeh) {\n",
       "    \n",
       "    \n",
       "    }\n",
       "  ];\n",
       "\n",
       "  function run_inline_js() {\n",
       "    \n",
       "    if (root.Bokeh !== undefined || force === true) {\n",
       "      \n",
       "    for (var i = 0; i < inline_js.length; i++) {\n",
       "      inline_js[i].call(root, root.Bokeh);\n",
       "    }\n",
       "    if (force === true) {\n",
       "        display_loaded();\n",
       "      }} else if (Date.now() < root._bokeh_timeout) {\n",
       "      setTimeout(run_inline_js, 100);\n",
       "    } else if (!root._bokeh_failed_load) {\n",
       "      console.log(\"Bokeh: BokehJS failed to load within specified timeout.\");\n",
       "      root._bokeh_failed_load = true;\n",
       "    } else if (force !== true) {\n",
       "      var cell = $(document.getElementById(\"1470\")).parents('.cell').data().cell;\n",
       "      cell.output_area.append_execute_result(NB_LOAD_WARNING)\n",
       "    }\n",
       "\n",
       "  }\n",
       "\n",
       "  if (root._bokeh_is_loading === 0) {\n",
       "    console.debug(\"Bokeh: BokehJS loaded, going straight to plotting\");\n",
       "    run_inline_js();\n",
       "  } else {\n",
       "    load_libs(css_urls, js_urls, function() {\n",
       "      console.debug(\"Bokeh: BokehJS plotting callback run at\", now());\n",
       "      run_inline_js();\n",
       "    });\n",
       "  }\n",
       "}(window));"
      ],
      "application/vnd.bokehjs_load.v0+json": "\n(function(root) {\n  function now() {\n    return new Date();\n  }\n\n  var force = true;\n\n  if (typeof root._bokeh_onload_callbacks === \"undefined\" || force === true) {\n    root._bokeh_onload_callbacks = [];\n    root._bokeh_is_loading = undefined;\n  }\n\n  \n\n  \n  if (typeof (root._bokeh_timeout) === \"undefined\" || force === true) {\n    root._bokeh_timeout = Date.now() + 5000;\n    root._bokeh_failed_load = false;\n  }\n\n  var NB_LOAD_WARNING = {'data': {'text/html':\n     \"<div style='background-color: #fdd'>\\n\"+\n     \"<p>\\n\"+\n     \"BokehJS does not appear to have successfully loaded. If loading BokehJS from CDN, this \\n\"+\n     \"may be due to a slow or bad network connection. Possible fixes:\\n\"+\n     \"</p>\\n\"+\n     \"<ul>\\n\"+\n     \"<li>re-rerun `output_notebook()` to attempt to load from CDN again, or</li>\\n\"+\n     \"<li>use INLINE resources instead, as so:</li>\\n\"+\n     \"</ul>\\n\"+\n     \"<code>\\n\"+\n     \"from bokeh.resources import INLINE\\n\"+\n     \"output_notebook(resources=INLINE)\\n\"+\n     \"</code>\\n\"+\n     \"</div>\"}};\n\n  function display_loaded() {\n    var el = document.getElementById(\"1470\");\n    if (el != null) {\n      el.textContent = \"BokehJS is loading...\";\n    }\n    if (root.Bokeh !== undefined) {\n      if (el != null) {\n        el.textContent = \"BokehJS \" + root.Bokeh.version + \" successfully loaded.\";\n      }\n    } else if (Date.now() < root._bokeh_timeout) {\n      setTimeout(display_loaded, 100)\n    }\n  }\n\n\n  function run_callbacks() {\n    try {\n      root._bokeh_onload_callbacks.forEach(function(callback) {\n        if (callback != null)\n          callback();\n      });\n    } finally {\n      delete root._bokeh_onload_callbacks\n    }\n    console.debug(\"Bokeh: all callbacks have finished\");\n  }\n\n  function load_libs(css_urls, js_urls, callback) {\n    if (css_urls == null) css_urls = [];\n    if (js_urls == null) js_urls = [];\n\n    root._bokeh_onload_callbacks.push(callback);\n    if (root._bokeh_is_loading > 0) {\n      console.debug(\"Bokeh: BokehJS is being loaded, scheduling callback at\", now());\n      return null;\n    }\n    if (js_urls == null || js_urls.length === 0) {\n      run_callbacks();\n      return null;\n    }\n    console.debug(\"Bokeh: BokehJS not loaded, scheduling load and callback at\", now());\n    root._bokeh_is_loading = css_urls.length + js_urls.length;\n\n    function on_load() {\n      root._bokeh_is_loading--;\n      if (root._bokeh_is_loading === 0) {\n        console.debug(\"Bokeh: all BokehJS libraries/stylesheets loaded\");\n        run_callbacks()\n      }\n    }\n\n    function on_error() {\n      console.error(\"failed to load \" + url);\n    }\n\n    for (var i = 0; i < css_urls.length; i++) {\n      var url = css_urls[i];\n      const element = document.createElement(\"link\");\n      element.onload = on_load;\n      element.onerror = on_error;\n      element.rel = \"stylesheet\";\n      element.type = \"text/css\";\n      element.href = url;\n      console.debug(\"Bokeh: injecting link tag for BokehJS stylesheet: \", url);\n      document.body.appendChild(element);\n    }\n\n    const hashes = {\"https://cdn.bokeh.org/bokeh/release/bokeh-2.1.1.min.js\": \"kLr4fYcqcSpbuI95brIH3vnnYCquzzSxHPU6XGQCIkQRGJwhg0StNbj1eegrHs12\", \"https://cdn.bokeh.org/bokeh/release/bokeh-widgets-2.1.1.min.js\": \"xIGPmVtaOm+z0BqfSOMn4lOR6ciex448GIKG4eE61LsAvmGj48XcMQZtKcE/UXZe\", \"https://cdn.bokeh.org/bokeh/release/bokeh-tables-2.1.1.min.js\": \"Dc9u1wF/0zApGIWoBbH77iWEHtdmkuYWG839Uzmv8y8yBLXebjO9ZnERsde5Ln/P\", \"https://cdn.bokeh.org/bokeh/release/bokeh-gl-2.1.1.min.js\": \"cT9JaBz7GiRXdENrJLZNSC6eMNF3nh3fa5fTF51Svp+ukxPdwcU5kGXGPBgDCa2j\"};\n\n    for (var i = 0; i < js_urls.length; i++) {\n      var url = js_urls[i];\n      var element = document.createElement('script');\n      element.onload = on_load;\n      element.onerror = on_error;\n      element.async = false;\n      element.src = url;\n      if (url in hashes) {\n        element.crossOrigin = \"anonymous\";\n        element.integrity = \"sha384-\" + hashes[url];\n      }\n      console.debug(\"Bokeh: injecting script tag for BokehJS library: \", url);\n      document.head.appendChild(element);\n    }\n  };\n\n  function inject_raw_css(css) {\n    const element = document.createElement(\"style\");\n    element.appendChild(document.createTextNode(css));\n    document.body.appendChild(element);\n  }\n\n  \n  var js_urls = [\"https://cdn.bokeh.org/bokeh/release/bokeh-2.1.1.min.js\", \"https://cdn.bokeh.org/bokeh/release/bokeh-widgets-2.1.1.min.js\", \"https://cdn.bokeh.org/bokeh/release/bokeh-tables-2.1.1.min.js\", \"https://cdn.bokeh.org/bokeh/release/bokeh-gl-2.1.1.min.js\"];\n  var css_urls = [];\n  \n\n  var inline_js = [\n    function(Bokeh) {\n      Bokeh.set_log_level(\"info\");\n    },\n    function(Bokeh) {\n    \n    \n    }\n  ];\n\n  function run_inline_js() {\n    \n    if (root.Bokeh !== undefined || force === true) {\n      \n    for (var i = 0; i < inline_js.length; i++) {\n      inline_js[i].call(root, root.Bokeh);\n    }\n    if (force === true) {\n        display_loaded();\n      }} else if (Date.now() < root._bokeh_timeout) {\n      setTimeout(run_inline_js, 100);\n    } else if (!root._bokeh_failed_load) {\n      console.log(\"Bokeh: BokehJS failed to load within specified timeout.\");\n      root._bokeh_failed_load = true;\n    } else if (force !== true) {\n      var cell = $(document.getElementById(\"1470\")).parents('.cell').data().cell;\n      cell.output_area.append_execute_result(NB_LOAD_WARNING)\n    }\n\n  }\n\n  if (root._bokeh_is_loading === 0) {\n    console.debug(\"Bokeh: BokehJS loaded, going straight to plotting\");\n    run_inline_js();\n  } else {\n    load_libs(css_urls, js_urls, function() {\n      console.debug(\"Bokeh: BokehJS plotting callback run at\", now());\n      run_inline_js();\n    });\n  }\n}(window));"
     },
     "metadata": {},
     "output_type": "display_data"
    },
    {
     "data": {
      "text/plain": [
       "<module 'stack_spectra' from '../stack_spectra.py'>"
      ]
     },
     "execution_count": 44,
     "metadata": {},
     "output_type": "execute_result"
    }
   ],
   "source": [
    "import numpy as np\n",
    "from pathlib import Path\n",
    "from astropy.io import fits\n",
    "from astropy.table import Table, vstack, hstack, unique,join\n",
    "import matplotlib.pyplot as plt\n",
    "import pandas as pd\n",
    "import sys\n",
    "\n",
    "# sys.path.append(\"/global/u2/b/bid13/VI/prospect/py\")\n",
    "\n",
    "import desispec.coaddition\n",
    "import desispec.io\n",
    "import desispec.spectra\n",
    "# from desitarget.cmx.cmx_targetmask import cmx_mask\n",
    "from desitarget.sv1.sv1_targetmask import desi_mask\n",
    "from prospect import utilities,plotframes, myspecselect, myspecupdate\n",
    "from scipy.interpolate import interp1d\n",
    "from scipy.ndimage import median_filter\n",
    "from scipy.stats import binned_statistic\n",
    "from desispec.coaddition import coadd_cameras\n",
    "from prospect import utilities ,plotframes\n",
    "# from prospect_my import plotframes\n",
    "from bokeh.plotting import figure, show, save\n",
    "from bokeh.io import output_notebook\n",
    "from astropy.convolution import convolve, Box1DKernel, Gaussian1DKernel\n",
    "from astropy.modeling import models, fitting\n",
    "output_notebook()\n",
    "from sklearn.preprocessing import StandardScaler, PolynomialFeatures\n",
    "from sklearn.linear_model import LinearRegression, LassoCV\n",
    "\n",
    "sys.path.append(\"../\")\n",
    "from importlib import reload\n",
    "import stack_spectra\n",
    "reload(stack_spectra)"
   ]
  },
  {
   "cell_type": "code",
   "execution_count": 4,
   "metadata": {},
   "outputs": [],
   "source": [
    "my_path = Path(\"/global/cscratch1/sd/bid13/stack_spectra\")"
   ]
  },
  {
   "cell_type": "code",
   "execution_count": 5,
   "metadata": {},
   "outputs": [],
   "source": [
    "data = np.load(my_path / \"ELG_1.3_1.4_v0.npz\")"
   ]
  },
  {
   "cell_type": "code",
   "execution_count": 7,
   "metadata": {},
   "outputs": [],
   "source": [
    "flux = data[\"flux\"]\n",
    "ivar = data[\"ivar\"]\n",
    "wave = data[\"wave\"]\n",
    "z_table = data[\"z_table\"]\n",
    "\n",
    "sky_ivar = data[\"sky_ivar\"]"
   ]
  },
  {
   "cell_type": "code",
   "execution_count": 22,
   "metadata": {},
   "outputs": [
    {
     "name": "stderr",
     "output_type": "stream",
     "text": [
      "<ipython-input-22-920d6f407709>:1: RuntimeWarning: divide by zero encountered in true_divide\n",
      "  sky_mask = np.any(np.isfinite(1/sky_ivar), axis=-1)\n"
     ]
    }
   ],
   "source": [
    "sky_mask = np.any(np.isfinite(1/sky_ivar), axis=-1)"
   ]
  },
  {
   "cell_type": "code",
   "execution_count": 23,
   "metadata": {},
   "outputs": [],
   "source": [
    "flux = flux[sky_mask]\n",
    "ivar = ivar[sky_mask]\n",
    "z_table = z_table[sky_mask]\n",
    "\n",
    "sky_ivar = sky_ivar[sky_mask]"
   ]
  },
  {
   "cell_type": "code",
   "execution_count": null,
   "metadata": {},
   "outputs": [],
   "source": [
    "ivar_model = stack_spectra.model_ivar(ivar, sky_ivar, wave)"
   ]
  },
  {
   "cell_type": "code",
   "execution_count": 25,
   "metadata": {},
   "outputs": [
    {
     "name": "stderr",
     "output_type": "stream",
     "text": [
      "../spectral_resampling.py:236: RuntimeWarning: invalid value encountered in sqrt\n",
      "  err = np.sqrt(1 / ivar)\n"
     ]
    }
   ],
   "source": [
    "flux, ivar, wave = stack_spectra._common_grid(flux, wave, ivar_model, z_table[\"Z\"])"
   ]
  },
  {
   "cell_type": "code",
   "execution_count": 26,
   "metadata": {},
   "outputs": [],
   "source": [
    "flux, ivar = stack_spectra._normalize(flux, ivar)"
   ]
  },
  {
   "cell_type": "code",
   "execution_count": 35,
   "metadata": {},
   "outputs": [
    {
     "name": "stderr",
     "output_type": "stream",
     "text": [
      "<ipython-input-35-7fdbfd4c88e5>:1: RuntimeWarning: invalid value encountered in true_divide\n",
      "  avg = np.nansum(flux*ivar, axis=0)/np.nansum(ivar, axis=0)\n"
     ]
    }
   ],
   "source": [
    "avg = np.nansum(flux*ivar, axis=0)/np.nansum(ivar, axis=0)"
   ]
  },
  {
   "cell_type": "code",
   "execution_count": 37,
   "metadata": {},
   "outputs": [
    {
     "data": {
      "text/html": [
       "\n",
       "\n",
       "\n",
       "\n",
       "\n",
       "\n",
       "  <div class=\"bk-root\" id=\"ac33350a-8661-43c3-a494-57d2276a648e\" data-root-id=\"1340\"></div>\n"
      ]
     },
     "metadata": {},
     "output_type": "display_data"
    },
    {
     "data": {
      "application/javascript": [
       "(function(root) {\n",
       "  function embed_document(root) {\n",
       "    \n",
       "  var docs_json = {\"8f33fac5-c5b8-41db-b580-b6fc2bf30493\":{\"roots\":{\"references\":[{\"attributes\":{\"below\":[{\"id\":\"1351\"}],\"center\":[{\"id\":\"1354\"},{\"id\":\"1358\"},{\"id\":\"1388\"}],\"left\":[{\"id\":\"1355\"}],\"plot_height\":300,\"plot_width\":1000,\"renderers\":[{\"id\":\"1378\"}],\"title\":{\"id\":\"1341\"},\"toolbar\":{\"id\":\"1367\"},\"x_range\":{\"id\":\"1343\"},\"x_scale\":{\"id\":\"1347\"},\"y_range\":{\"id\":\"1345\"},\"y_scale\":{\"id\":\"1349\"}},\"id\":\"1340\",\"subtype\":\"Figure\",\"type\":\"Plot\"},{\"attributes\":{},\"id\":\"1347\",\"type\":\"LinearScale\"},{\"attributes\":{\"axis_label\":\"Flux\",\"formatter\":{\"id\":\"1381\"},\"ticker\":{\"id\":\"1356\"}},\"id\":\"1355\",\"type\":\"LinearAxis\"},{\"attributes\":{},\"id\":\"1360\",\"type\":\"WheelZoomTool\"},{\"attributes\":{},\"id\":\"1363\",\"type\":\"ResetTool\"},{\"attributes\":{\"axis\":{\"id\":\"1355\"},\"dimension\":1,\"ticker\":null},\"id\":\"1358\",\"type\":\"Grid\"},{\"attributes\":{},\"id\":\"1359\",\"type\":\"PanTool\"},{\"attributes\":{},\"id\":\"1364\",\"type\":\"HelpTool\"},{\"attributes\":{},\"id\":\"1352\",\"type\":\"BasicTicker\"},{\"attributes\":{},\"id\":\"1386\",\"type\":\"UnionRenderers\"},{\"attributes\":{},\"id\":\"1362\",\"type\":\"SaveTool\"},{\"attributes\":{\"line_color\":\"#1f77b4\",\"line_width\":2,\"x\":{\"field\":\"x\"},\"y\":{\"field\":\"y\"}},\"id\":\"1376\",\"type\":\"Line\"},{\"attributes\":{\"text\":\"Spectra\"},\"id\":\"1341\",\"type\":\"Title\"},{\"attributes\":{\"active_drag\":\"auto\",\"active_inspect\":\"auto\",\"active_multi\":null,\"active_scroll\":\"auto\",\"active_tap\":\"auto\",\"tools\":[{\"id\":\"1359\"},{\"id\":\"1360\"},{\"id\":\"1361\"},{\"id\":\"1362\"},{\"id\":\"1363\"},{\"id\":\"1364\"},{\"id\":\"1366\"}]},\"id\":\"1367\",\"type\":\"Toolbar\"},{\"attributes\":{\"overlay\":{\"id\":\"1365\"}},\"id\":\"1361\",\"type\":\"BoxZoomTool\"},{\"attributes\":{\"bottom_units\":\"screen\",\"fill_alpha\":0.5,\"fill_color\":\"lightgrey\",\"left_units\":\"screen\",\"level\":\"overlay\",\"line_alpha\":1.0,\"line_color\":\"black\",\"line_dash\":[4,4],\"line_width\":2,\"right_units\":\"screen\",\"top_units\":\"screen\"},\"id\":\"1365\",\"type\":\"BoxAnnotation\"},{\"attributes\":{\"callback\":null,\"tooltips\":[[\"x\",\"$x\"],[\"y\",\"$y\"]]},\"id\":\"1366\",\"type\":\"HoverTool\"},{\"attributes\":{\"items\":[{\"id\":\"1389\"}]},\"id\":\"1388\",\"type\":\"Legend\"},{\"attributes\":{\"source\":{\"id\":\"1375\"}},\"id\":\"1379\",\"type\":\"CDSView\"},{\"attributes\":{},\"id\":\"1383\",\"type\":\"BasicTickFormatter\"},{\"attributes\":{\"line_alpha\":0.1,\"line_color\":\"#1f77b4\",\"line_width\":2,\"x\":{\"field\":\"x\"},\"y\":{\"field\":\"y\"}},\"id\":\"1377\",\"type\":\"Line\"},{\"attributes\":{\"data_source\":{\"id\":\"1375\"},\"glyph\":{\"id\":\"1376\"},\"hover_glyph\":null,\"muted_glyph\":null,\"nonselection_glyph\":{\"id\":\"1377\"},\"selection_glyph\":null,\"view\":{\"id\":\"1379\"}},\"id\":\"1378\",\"type\":\"GlyphRenderer\"},{\"attributes\":{},\"id\":\"1381\",\"type\":\"BasicTickFormatter\"},{\"attributes\":{},\"id\":\"1385\",\"type\":\"Selection\"},{\"attributes\":{},\"id\":\"1349\",\"type\":\"LinearScale\"},{\"attributes\":{\"data\":{\"x\":{\"__ndarray__\":\"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\",\"dtype\":\"float64\",\"order\":\"little\",\"shape\":[3465]},\"y\":{\"__ndarray__\":\"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\",\"dtype\":\"float64\",\"order\":\"little\",\"shape\":[3465]}},\"selected\":{\"id\":\"1385\"},\"selection_policy\":{\"id\":\"1386\"}},\"id\":\"1375\",\"type\":\"ColumnDataSource\"},{\"attributes\":{\"axis\":{\"id\":\"1351\"},\"ticker\":null},\"id\":\"1354\",\"type\":\"Grid\"},{\"attributes\":{\"label\":{\"value\":\"Temp.\"},\"renderers\":[{\"id\":\"1378\"}]},\"id\":\"1389\",\"type\":\"LegendItem\"},{\"attributes\":{},\"id\":\"1345\",\"type\":\"DataRange1d\"},{\"attributes\":{},\"id\":\"1356\",\"type\":\"BasicTicker\"},{\"attributes\":{},\"id\":\"1343\",\"type\":\"DataRange1d\"},{\"attributes\":{\"axis_label\":\"Wavelength\",\"formatter\":{\"id\":\"1383\"},\"ticker\":{\"id\":\"1352\"}},\"id\":\"1351\",\"type\":\"LinearAxis\"}],\"root_ids\":[\"1340\"]},\"title\":\"Bokeh Application\",\"version\":\"2.1.1\"}};\n",
       "  var render_items = [{\"docid\":\"8f33fac5-c5b8-41db-b580-b6fc2bf30493\",\"root_ids\":[\"1340\"],\"roots\":{\"1340\":\"ac33350a-8661-43c3-a494-57d2276a648e\"}}];\n",
       "  root.Bokeh.embed.embed_items_notebook(docs_json, render_items);\n",
       "\n",
       "  }\n",
       "  if (root.Bokeh !== undefined) {\n",
       "    embed_document(root);\n",
       "  } else {\n",
       "    var attempts = 0;\n",
       "    var timer = setInterval(function(root) {\n",
       "      if (root.Bokeh !== undefined) {\n",
       "        clearInterval(timer);\n",
       "        embed_document(root);\n",
       "      } else {\n",
       "        attempts++;\n",
       "        if (attempts > 100) {\n",
       "          clearInterval(timer);\n",
       "          console.log(\"Bokeh: ERROR: Unable to run BokehJS code because BokehJS library is missing\");\n",
       "        }\n",
       "      }\n",
       "    }, 10, root)\n",
       "  }\n",
       "})(window);"
      ],
      "application/vnd.bokehjs_exec.v0+json": ""
     },
     "metadata": {
      "application/vnd.bokehjs_exec.v0+json": {
       "id": "1340"
      }
     },
     "output_type": "display_data"
    }
   ],
   "source": [
    "p = figure(title=\"Spectra\", x_axis_label='Wavelength', y_axis_label='Flux', plot_width=1000, plot_height=300, tooltips=[(\"Wavelength\", \"$x\"), (\"Flux\", \"$y\")]\n",
    "#            y_range=(-1, 3)\n",
    "          )\n",
    "p.line(wave, avg, legend_label=\"Temp.\", line_width=2)\n",
    "\n",
    "show(p)"
   ]
  },
  {
   "cell_type": "code",
   "execution_count": 144,
   "metadata": {},
   "outputs": [],
   "source": [
    "# mgII_mask1 = (wave>2792.5) & (wave<2796.5)\n",
    "mgII_mask1 = (wave>2800) & (wave<2804.5)"
   ]
  },
  {
   "cell_type": "code",
   "execution_count": 145,
   "metadata": {},
   "outputs": [],
   "source": [
    "x= wave[mgII_mask1]\n",
    "y = avg[mgII_mask1]"
   ]
  },
  {
   "cell_type": "code",
   "execution_count": 146,
   "metadata": {},
   "outputs": [
    {
     "name": "stdout",
     "output_type": "stream",
     "text": [
      "peak: 2801.811423205883\n"
     ]
    },
    {
     "data": {
      "image/png": "[encoded data removed]",
      "text/plain": [
       "<Figure size 576x360 with 1 Axes>"
      ]
     },
     "metadata": {
      "needs_background": "light"
     },
     "output_type": "display_data"
    }
   ],
   "source": [
    "line = models.Polynomial1D(2)\n",
    "# fit_g = fitting.LevMarLSQFitter()\n",
    "# fit_g = fitting.SLSQPLSQFitter()\n",
    "fit_g = fitting.LinearLSQFitter()\n",
    "g = fit_g(line, x, y)\n",
    "\n",
    "# Plot the data with the best-fit model\n",
    "plt.figure(figsize=(8,5))\n",
    "plt.plot(x, y, 'ko')\n",
    "x_p = np.linspace(x.min(), x.max(),100)\n",
    "plt.plot(x_p, g(x_p))\n",
    "plt.xlabel('wavelength')\n",
    "plt.ylabel('Flux')\n",
    "print(f\"peak: {-1*g.c1/(2*g.c2)}\")"
   ]
  },
  {
   "cell_type": "code",
   "execution_count": 90,
   "metadata": {},
   "outputs": [
    {
     "ename": "TypeError",
     "evalue": "Improper input: N=7 must not exceed M=5",
     "output_type": "error",
     "traceback": [
      "\u001b[0;31m---------------------------------------------------------------------------\u001b[0m",
      "\u001b[0;31mTypeError\u001b[0m                                 Traceback (most recent call last)",
      "\u001b[0;32m<ipython-input-90-df53542b6e48>\u001b[0m in \u001b[0;36m<module>\u001b[0;34m\u001b[0m\n\u001b[1;32m     11\u001b[0m \u001b[0mfit_g\u001b[0m \u001b[0;34m=\u001b[0m \u001b[0mfitting\u001b[0m\u001b[0;34m.\u001b[0m\u001b[0mLevMarLSQFitter\u001b[0m\u001b[0;34m(\u001b[0m\u001b[0;34m)\u001b[0m\u001b[0;34m\u001b[0m\u001b[0;34m\u001b[0m\u001b[0m\n\u001b[1;32m     12\u001b[0m \u001b[0;31m# fit_g = fitting.SLSQPLSQFitter()\u001b[0m\u001b[0;34m\u001b[0m\u001b[0;34m\u001b[0m\u001b[0;34m\u001b[0m\u001b[0m\n\u001b[0;32m---> 13\u001b[0;31m \u001b[0mg\u001b[0m \u001b[0;34m=\u001b[0m \u001b[0mfit_g\u001b[0m\u001b[0;34m(\u001b[0m\u001b[0mline1\u001b[0m\u001b[0;34m+\u001b[0m\u001b[0mline2\u001b[0m\u001b[0;34m+\u001b[0m\u001b[0mconst\u001b[0m\u001b[0;34m,\u001b[0m \u001b[0mx\u001b[0m\u001b[0;34m,\u001b[0m \u001b[0my\u001b[0m\u001b[0;34m)\u001b[0m\u001b[0;34m\u001b[0m\u001b[0;34m\u001b[0m\u001b[0m\n\u001b[0m\u001b[1;32m     14\u001b[0m \u001b[0;34m\u001b[0m\u001b[0m\n\u001b[1;32m     15\u001b[0m \u001b[0;31m# Plot the data with the best-fit model\u001b[0m\u001b[0;34m\u001b[0m\u001b[0;34m\u001b[0m\u001b[0;34m\u001b[0m\u001b[0m\n",
      "\u001b[0;32m/global/common/software/desi/cori/desiconda/20200801-1.4.0-spec/conda/lib/python3.8/site-packages/astropy/modeling/fitting.py\u001b[0m in \u001b[0;36mwrapper\u001b[0;34m(self, model, x, y, z, **kwargs)\u001b[0m\n\u001b[1;32m    173\u001b[0m         \u001b[0;32melse\u001b[0m\u001b[0;34m:\u001b[0m\u001b[0;34m\u001b[0m\u001b[0;34m\u001b[0m\u001b[0m\n\u001b[1;32m    174\u001b[0m \u001b[0;34m\u001b[0m\u001b[0m\n\u001b[0;32m--> 175\u001b[0;31m             \u001b[0;32mreturn\u001b[0m \u001b[0mfunc\u001b[0m\u001b[0;34m(\u001b[0m\u001b[0mself\u001b[0m\u001b[0;34m,\u001b[0m \u001b[0mmodel\u001b[0m\u001b[0;34m,\u001b[0m \u001b[0mx\u001b[0m\u001b[0;34m,\u001b[0m \u001b[0my\u001b[0m\u001b[0;34m,\u001b[0m \u001b[0mz\u001b[0m\u001b[0;34m=\u001b[0m\u001b[0mz\u001b[0m\u001b[0;34m,\u001b[0m \u001b[0;34m**\u001b[0m\u001b[0mkwargs\u001b[0m\u001b[0;34m)\u001b[0m\u001b[0;34m\u001b[0m\u001b[0;34m\u001b[0m\u001b[0m\n\u001b[0m\u001b[1;32m    176\u001b[0m \u001b[0;34m\u001b[0m\u001b[0m\n\u001b[1;32m    177\u001b[0m     \u001b[0;32mreturn\u001b[0m \u001b[0mwrapper\u001b[0m\u001b[0;34m\u001b[0m\u001b[0;34m\u001b[0m\u001b[0m\n",
      "\u001b[0;32m/global/common/software/desi/cori/desiconda/20200801-1.4.0-spec/conda/lib/python3.8/site-packages/astropy/modeling/fitting.py\u001b[0m in \u001b[0;36m__call__\u001b[0;34m(self, model, x, y, z, weights, maxiter, acc, epsilon, estimate_jacobian)\u001b[0m\n\u001b[1;32m    879\u001b[0m             \u001b[0mdfunc\u001b[0m \u001b[0;34m=\u001b[0m \u001b[0mself\u001b[0m\u001b[0;34m.\u001b[0m\u001b[0m_wrap_deriv\u001b[0m\u001b[0;34m\u001b[0m\u001b[0;34m\u001b[0m\u001b[0m\n\u001b[1;32m    880\u001b[0m         \u001b[0minit_values\u001b[0m\u001b[0;34m,\u001b[0m \u001b[0m_\u001b[0m \u001b[0;34m=\u001b[0m \u001b[0m_model_to_fit_params\u001b[0m\u001b[0;34m(\u001b[0m\u001b[0mmodel_copy\u001b[0m\u001b[0;34m)\u001b[0m\u001b[0;34m\u001b[0m\u001b[0;34m\u001b[0m\u001b[0m\n\u001b[0;32m--> 881\u001b[0;31m         fitparams, cov_x, dinfo, mess, ierr = optimize.leastsq(\n\u001b[0m\u001b[1;32m    882\u001b[0m             \u001b[0mself\u001b[0m\u001b[0;34m.\u001b[0m\u001b[0mobjective_function\u001b[0m\u001b[0;34m,\u001b[0m \u001b[0minit_values\u001b[0m\u001b[0;34m,\u001b[0m \u001b[0margs\u001b[0m\u001b[0;34m=\u001b[0m\u001b[0mfarg\u001b[0m\u001b[0;34m,\u001b[0m \u001b[0mDfun\u001b[0m\u001b[0;34m=\u001b[0m\u001b[0mdfunc\u001b[0m\u001b[0;34m,\u001b[0m\u001b[0;34m\u001b[0m\u001b[0;34m\u001b[0m\u001b[0m\n\u001b[1;32m    883\u001b[0m             \u001b[0mcol_deriv\u001b[0m\u001b[0;34m=\u001b[0m\u001b[0mmodel_copy\u001b[0m\u001b[0;34m.\u001b[0m\u001b[0mcol_fit_deriv\u001b[0m\u001b[0;34m,\u001b[0m \u001b[0mmaxfev\u001b[0m\u001b[0;34m=\u001b[0m\u001b[0mmaxiter\u001b[0m\u001b[0;34m,\u001b[0m \u001b[0mepsfcn\u001b[0m\u001b[0;34m=\u001b[0m\u001b[0mepsilon\u001b[0m\u001b[0;34m,\u001b[0m\u001b[0;34m\u001b[0m\u001b[0;34m\u001b[0m\u001b[0m\n",
      "\u001b[0;32m/global/common/software/desi/cori/desiconda/20200801-1.4.0-spec/conda/lib/python3.8/site-packages/scipy/optimize/minpack.py\u001b[0m in \u001b[0;36mleastsq\u001b[0;34m(func, x0, args, Dfun, full_output, col_deriv, ftol, xtol, gtol, maxfev, epsfcn, factor, diag)\u001b[0m\n\u001b[1;32m    412\u001b[0m \u001b[0;34m\u001b[0m\u001b[0m\n\u001b[1;32m    413\u001b[0m     \u001b[0;32mif\u001b[0m \u001b[0mn\u001b[0m \u001b[0;34m>\u001b[0m \u001b[0mm\u001b[0m\u001b[0;34m:\u001b[0m\u001b[0;34m\u001b[0m\u001b[0;34m\u001b[0m\u001b[0m\n\u001b[0;32m--> 414\u001b[0;31m         \u001b[0;32mraise\u001b[0m \u001b[0mTypeError\u001b[0m\u001b[0;34m(\u001b[0m\u001b[0;34m'Improper input: N=%s must not exceed M=%s'\u001b[0m \u001b[0;34m%\u001b[0m \u001b[0;34m(\u001b[0m\u001b[0mn\u001b[0m\u001b[0;34m,\u001b[0m \u001b[0mm\u001b[0m\u001b[0;34m)\u001b[0m\u001b[0;34m)\u001b[0m\u001b[0;34m\u001b[0m\u001b[0;34m\u001b[0m\u001b[0m\n\u001b[0m\u001b[1;32m    415\u001b[0m \u001b[0;34m\u001b[0m\u001b[0m\n\u001b[1;32m    416\u001b[0m     \u001b[0;32mif\u001b[0m \u001b[0mepsfcn\u001b[0m \u001b[0;32mis\u001b[0m \u001b[0;32mNone\u001b[0m\u001b[0;34m:\u001b[0m\u001b[0;34m\u001b[0m\u001b[0;34m\u001b[0m\u001b[0m\n",
      "\u001b[0;31mTypeError\u001b[0m: Improper input: N=7 must not exceed M=5"
     ]
    }
   ],
   "source": [
    "# line1 = models.Gaussian1D(amplitude=-1, mean=2795.53, stddev=1.)\n",
    "# line2 = models.Gaussian1D(amplitude=-1., mean=2802.71, stddev=1.)\n",
    "\n",
    "line1 = models.Lorentz1D(amplitude=-1, x_0=2795.53, fwhm=1.)\n",
    "# line2 = models.Lorentz1D(amplitude=-1., x_0=2802.71, fwhm=1.)\n",
    "\n",
    "# line1 = models.RickerWavelet1D(amplitude=-1, x_0=2795.53, sigma=1.)\n",
    "line2 = models.RickerWavelet1D(amplitude=-1., x_0=2802.71, sigma=1.)\n",
    "\n",
    "const = models.Const1D(amplitude=1)\n",
    "fit_g = fitting.LevMarLSQFitter()\n",
    "# fit_g = fitting.SLSQPLSQFitter()\n",
    "g = fit_g(line1+line2+const, x, y)\n",
    "\n",
    "# Plot the data with the best-fit model\n",
    "plt.figure(figsize=(8,5))\n",
    "plt.plot(x, y, 'ko')\n",
    "x_p = np.linspace(x.min(), x.max(),100)\n",
    "plt.plot(x_p, g(x_p))\n",
    "plt.xlabel('wavelength')\n",
    "plt.ylabel('Flux')"
   ]
  },
  {
   "cell_type": "code",
   "execution_count": 53,
   "metadata": {},
   "outputs": [
    {
     "data": {
      "text/plain": [
       "Parameter('amplitude', value=1.042638817822305)"
      ]
     },
     "execution_count": 53,
     "metadata": {},
     "output_type": "execute_result"
    }
   ],
   "source": [
    "g.amplitude_2"
   ]
  },
  {
   "cell_type": "code",
   "execution_count": null,
   "metadata": {},
   "outputs": [],
   "source": []
  }
 ],
 "metadata": {
  "kernelspec": {
   "display_name": "DESI master",
   "language": "python",
   "name": "desi-master"
  },
  "language_info": {
   "codemirror_mode": {
    "name": "ipython",
    "version": 3
   },
   "file_extension": ".py",
   "mimetype": "text/x-python",
   "name": "python",
   "nbconvert_exporter": "python",
   "pygments_lexer": "ipython3",
   "version": "3.8.3"
  }
 },
 "nbformat": 4,
 "nbformat_minor": 4
}
