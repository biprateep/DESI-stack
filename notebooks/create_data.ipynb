{
 "cells": [
  {
   "cell_type": "markdown",
   "metadata": {},
   "source": [
    "# Create data for stacking code testing"
   ]
  },
  {
   "cell_type": "code",
   "execution_count": 1,
   "metadata": {},
   "outputs": [],
   "source": [
    "import numpy as np\n",
    "from pathlib import Path\n",
    "from astropy.io import fits\n",
    "from astropy.table import Table, vstack, hstack, unique,join\n",
    "import matplotlib.pyplot as plt\n",
    "import pandas as pd\n",
    "import sys\n",
    "\n",
    "# sys.path.append(\"/global/u2/b/bid13/VI/prospect/py\")\n",
    "\n",
    "import desispec.coaddition\n",
    "import desispec.io\n",
    "import desispec.spectra\n",
    "# from desitarget.cmx.cmx_targetmask import cmx_mask\n",
    "from desitarget.sv1.sv1_targetmask import desi_mask\n",
    "from prospect import utilities,plotframes, myspecselect, myspecupdate\n",
    "from desispec.coaddition import coadd_cameras\n",
    "from prospect import utilities ,plotframes\n",
    "# from prospect_my import plotframes"
   ]
  },
  {
   "cell_type": "code",
   "execution_count": 2,
   "metadata": {},
   "outputs": [],
   "source": [
    "data_path = Path(\"/global/cfs/cdirs/desi/spectro/redux/cascades/tiles/\")\n",
    "my_path = Path(\"/global/cscratch1/sd/bid13/stack-spectra\")"
   ]
  },
  {
   "cell_type": "code",
   "execution_count": 3,
   "metadata": {},
   "outputs": [
    {
     "name": "stdout",
     "output_type": "stream",
     "text": [
      "500\n",
      "INFO:spectra.py:253:read_spectra: iotime 0.801 sec to read coadd-2-80609-deep.fits at 2021-04-04T13:38:01.175953\n",
      "500\n",
      "INFO:spectra.py:253:read_spectra: iotime 0.657 sec to read coadd-5-80609-deep.fits at 2021-04-04T13:38:02.502269\n",
      "500\n",
      "INFO:spectra.py:253:read_spectra: iotime 0.743 sec to read coadd-3-80609-deep.fits at 2021-04-04T13:38:03.886707\n",
      "500\n",
      "INFO:spectra.py:253:read_spectra: iotime 0.780 sec to read coadd-9-80609-deep.fits at 2021-04-04T13:38:05.391274\n",
      "500\n",
      "INFO:spectra.py:253:read_spectra: iotime 0.642 sec to read coadd-4-80609-deep.fits at 2021-04-04T13:38:06.784861\n",
      "500\n",
      "INFO:spectra.py:253:read_spectra: iotime 0.591 sec to read coadd-7-80609-deep.fits at 2021-04-04T13:38:08.032452\n",
      "500\n",
      "INFO:spectra.py:253:read_spectra: iotime 0.593 sec to read coadd-1-80609-deep.fits at 2021-04-04T13:38:09.356823\n",
      "500\n",
      "INFO:spectra.py:253:read_spectra: iotime 0.642 sec to read coadd-6-80609-deep.fits at 2021-04-04T13:38:10.738408\n",
      "500\n",
      "INFO:spectra.py:253:read_spectra: iotime 0.631 sec to read coadd-8-80609-deep.fits at 2021-04-04T13:38:12.227326\n",
      "500\n",
      "INFO:spectra.py:253:read_spectra: iotime 0.637 sec to read coadd-0-80609-deep.fits at 2021-04-04T13:38:13.794033\n"
     ]
    }
   ],
   "source": [
    "tile = \"80609\"\n",
    "tile_path = data_path / tile /\"deep\"\n",
    "\n",
    "z_table = Table()\n",
    "spectra = desispec.spectra.Spectra()\n",
    "\n",
    "for file_path in tile_path.glob(\"zbest-*\"):\n",
    "\n",
    "    z_petal = Table.read(file_path, hdu=\"ZBEST\")\n",
    "    fibermap_petal = Table.read(file_path, hdu=\"FIBERMAP\")[0:500]\n",
    "\n",
    "    merged_table = join(z_petal, fibermap_petal, keys=\"TARGETID\", metadata_conflicts=\"silent\")\n",
    "    print(len(merged_table))\n",
    "    mask = ((merged_table[\"SV1_DESI_TARGET\"] & desi_mask.mask(\"LRG\"))>0) & (merged_table[\"FIBERSTATUS\"] == 0)\n",
    "    mask &= (merged_table[\"Z\"]>0.9) & (merged_table[\"Z\"]<1)\n",
    "    mask &= (merged_table[\"SPECTYPE\"]==\"GALAXY\")\n",
    "    mask &= (merged_table[\"DELTACHI2\"]>15)\n",
    "    merged_table = merged_table[mask]\n",
    "    \n",
    "\n",
    "    if np.sum(mask):\n",
    "        spec = desispec.io.read_spectra(str(file_path).replace(\"zbest\",\"coadd\") )\n",
    "        # CAUTION desispec uses EXPID + FIBER to determine uniqueness\n",
    "        spec.fibermap[\"NIGHT\"] = np.arange(len(spec.fibermap))\n",
    "        spec.fibermap[\"EXPID\"] = np.arange(len(spec.fibermap))\n",
    "        spec = spec.select(targets= merged_table[\"TARGETID\"])\n",
    "\n",
    "        z_table = vstack([z_table, merged_table])\n",
    "        spectra.update(spec)"
   ]
  },
  {
   "cell_type": "code",
   "execution_count": 4,
   "metadata": {},
   "outputs": [
    {
     "data": {
      "text/plain": [
       "315"
      ]
     },
     "execution_count": 4,
     "metadata": {},
     "output_type": "execute_result"
    }
   ],
   "source": [
    "len(z_table)"
   ]
  },
  {
   "cell_type": "code",
   "execution_count": 5,
   "metadata": {},
   "outputs": [
    {
     "data": {
      "text/plain": [
       "315"
      ]
     },
     "execution_count": 5,
     "metadata": {},
     "output_type": "execute_result"
    }
   ],
   "source": [
    "spectra.num_targets()"
   ]
  },
  {
   "cell_type": "code",
   "execution_count": 6,
   "metadata": {},
   "outputs": [
    {
     "data": {
      "text/plain": [
       "Text(0.5, 0, 'Spec-Z')"
      ]
     },
     "execution_count": 6,
     "metadata": {},
     "output_type": "execute_result"
    },
    {
     "data": {
      "image/png": "[encoded data removed]",
      "text/plain": [
       "<Figure size 432x288 with 1 Axes>"
      ]
     },
     "metadata": {
      "needs_background": "light"
     },
     "output_type": "display_data"
    }
   ],
   "source": [
    "_=plt.hist(z_table[\"Z\"], histtype=\"step\", color=\"k\", bins=50)\n",
    "plt.xlabel(\"Spec-Z\")"
   ]
  },
  {
   "cell_type": "code",
   "execution_count": 9,
   "metadata": {},
   "outputs": [
    {
     "ename": "OSError",
     "evalue": "File exists: /global/cscratch1/sd/bid13/stack-spectra/zcat.fits",
     "output_type": "error",
     "traceback": [
      "\u001b[0;31m---------------------------------------------------------------------------\u001b[0m",
      "\u001b[0;31mOSError\u001b[0m                                   Traceback (most recent call last)",
      "\u001b[0;32m<ipython-input-9-c6899644ac0a>\u001b[0m in \u001b[0;36m<module>\u001b[0;34m\u001b[0m\n\u001b[0;32m----> 1\u001b[0;31m \u001b[0mz_table\u001b[0m\u001b[0;34m.\u001b[0m\u001b[0mwrite\u001b[0m\u001b[0;34m(\u001b[0m\u001b[0mmy_path\u001b[0m\u001b[0;34m/\u001b[0m\u001b[0;34m\"zcat.fits\"\u001b[0m\u001b[0;34m)\u001b[0m\u001b[0;34m\u001b[0m\u001b[0;34m\u001b[0m\u001b[0m\n\u001b[0m\u001b[1;32m      2\u001b[0m \u001b[0mdesispec\u001b[0m\u001b[0;34m.\u001b[0m\u001b[0mio\u001b[0m\u001b[0;34m.\u001b[0m\u001b[0mwrite_spectra\u001b[0m\u001b[0;34m(\u001b[0m\u001b[0mmy_path\u001b[0m\u001b[0;34m/\u001b[0m\u001b[0;34m\"spectra.fits\"\u001b[0m\u001b[0;34m,\u001b[0m \u001b[0mspectra\u001b[0m\u001b[0;34m)\u001b[0m\u001b[0;34m\u001b[0m\u001b[0;34m\u001b[0m\u001b[0m\n",
      "\u001b[0;32m/global/common/software/desi/cori/desiconda/20200801-1.4.0-spec/conda/lib/python3.8/site-packages/astropy/table/connect.py\u001b[0m in \u001b[0;36m__call__\u001b[0;34m(self, serialize_method, *args, **kwargs)\u001b[0m\n\u001b[1;32m    111\u001b[0m         \u001b[0minstance\u001b[0m \u001b[0;34m=\u001b[0m \u001b[0mself\u001b[0m\u001b[0;34m.\u001b[0m\u001b[0m_instance\u001b[0m\u001b[0;34m\u001b[0m\u001b[0;34m\u001b[0m\u001b[0m\n\u001b[1;32m    112\u001b[0m         \u001b[0;32mwith\u001b[0m \u001b[0mserialize_method_as\u001b[0m\u001b[0;34m(\u001b[0m\u001b[0minstance\u001b[0m\u001b[0;34m,\u001b[0m \u001b[0mserialize_method\u001b[0m\u001b[0;34m)\u001b[0m\u001b[0;34m:\u001b[0m\u001b[0;34m\u001b[0m\u001b[0;34m\u001b[0m\u001b[0m\n\u001b[0;32m--> 113\u001b[0;31m             \u001b[0mregistry\u001b[0m\u001b[0;34m.\u001b[0m\u001b[0mwrite\u001b[0m\u001b[0;34m(\u001b[0m\u001b[0minstance\u001b[0m\u001b[0;34m,\u001b[0m \u001b[0;34m*\u001b[0m\u001b[0margs\u001b[0m\u001b[0;34m,\u001b[0m \u001b[0;34m**\u001b[0m\u001b[0mkwargs\u001b[0m\u001b[0;34m)\u001b[0m\u001b[0;34m\u001b[0m\u001b[0;34m\u001b[0m\u001b[0m\n\u001b[0m",
      "\u001b[0;32m/global/common/software/desi/cori/desiconda/20200801-1.4.0-spec/conda/lib/python3.8/site-packages/astropy/io/registry.py\u001b[0m in \u001b[0;36mwrite\u001b[0;34m(data, format, *args, **kwargs)\u001b[0m\n\u001b[1;32m    564\u001b[0m \u001b[0;34m\u001b[0m\u001b[0m\n\u001b[1;32m    565\u001b[0m     \u001b[0mwriter\u001b[0m \u001b[0;34m=\u001b[0m \u001b[0mget_writer\u001b[0m\u001b[0;34m(\u001b[0m\u001b[0mformat\u001b[0m\u001b[0;34m,\u001b[0m \u001b[0mdata\u001b[0m\u001b[0;34m.\u001b[0m\u001b[0m__class__\u001b[0m\u001b[0;34m)\u001b[0m\u001b[0;34m\u001b[0m\u001b[0;34m\u001b[0m\u001b[0m\n\u001b[0;32m--> 566\u001b[0;31m     \u001b[0mwriter\u001b[0m\u001b[0;34m(\u001b[0m\u001b[0mdata\u001b[0m\u001b[0;34m,\u001b[0m \u001b[0;34m*\u001b[0m\u001b[0margs\u001b[0m\u001b[0;34m,\u001b[0m \u001b[0;34m**\u001b[0m\u001b[0mkwargs\u001b[0m\u001b[0;34m)\u001b[0m\u001b[0;34m\u001b[0m\u001b[0;34m\u001b[0m\u001b[0m\n\u001b[0m\u001b[1;32m    567\u001b[0m \u001b[0;34m\u001b[0m\u001b[0m\n\u001b[1;32m    568\u001b[0m \u001b[0;34m\u001b[0m\u001b[0m\n",
      "\u001b[0;32m/global/common/software/desi/cori/desiconda/20200801-1.4.0-spec/conda/lib/python3.8/site-packages/astropy/io/fits/connect.py\u001b[0m in \u001b[0;36mwrite_table_fits\u001b[0;34m(input, output, overwrite)\u001b[0m\n\u001b[1;32m    409\u001b[0m             \u001b[0mos\u001b[0m\u001b[0;34m.\u001b[0m\u001b[0mremove\u001b[0m\u001b[0;34m(\u001b[0m\u001b[0moutput\u001b[0m\u001b[0;34m)\u001b[0m\u001b[0;34m\u001b[0m\u001b[0;34m\u001b[0m\u001b[0m\n\u001b[1;32m    410\u001b[0m         \u001b[0;32melse\u001b[0m\u001b[0;34m:\u001b[0m\u001b[0;34m\u001b[0m\u001b[0;34m\u001b[0m\u001b[0m\n\u001b[0;32m--> 411\u001b[0;31m             \u001b[0;32mraise\u001b[0m \u001b[0mOSError\u001b[0m\u001b[0;34m(\u001b[0m\u001b[0;34mf\"File exists: {output}\"\u001b[0m\u001b[0;34m)\u001b[0m\u001b[0;34m\u001b[0m\u001b[0;34m\u001b[0m\u001b[0m\n\u001b[0m\u001b[1;32m    412\u001b[0m \u001b[0;34m\u001b[0m\u001b[0m\n\u001b[1;32m    413\u001b[0m     \u001b[0mtable_hdu\u001b[0m\u001b[0;34m.\u001b[0m\u001b[0mwriteto\u001b[0m\u001b[0;34m(\u001b[0m\u001b[0moutput\u001b[0m\u001b[0;34m)\u001b[0m\u001b[0;34m\u001b[0m\u001b[0;34m\u001b[0m\u001b[0m\n",
      "\u001b[0;31mOSError\u001b[0m: File exists: /global/cscratch1/sd/bid13/stack-spectra/zcat.fits"
     ]
    }
   ],
   "source": [
    "z_table.write(my_path/\"zcat.fits\")\n",
    "desispec.io.write_spectra(my_path/\"spectra.fits\", spectra)"
   ]
  },
  {
   "cell_type": "code",
   "execution_count": 8,
   "metadata": {},
   "outputs": [
    {
     "name": "stdout",
     "output_type": "stream",
     "text": [
      "INFO:spectra.py:154:write_spectra: iotime 63.860 sec to write spectra_coadd_cam.fits at 2021-04-04T13:44:13.829998\n"
     ]
    },
    {
     "data": {
      "text/plain": [
       "'/global/cscratch1/sd/bid13/stack-spectra/spectra_coadd_cam.fits'"
      ]
     },
     "execution_count": 8,
     "metadata": {},
     "output_type": "execute_result"
    }
   ],
   "source": [
    "spectra = coadd_cameras(spectra) #Coadding the cameras now but needs to be treated separately in future\n",
    "                                # Moreover this needs a whole DESI spectra object and is very slow. Possible way out is to reimplrment a lighter version of this.\n",
    "desispec.io.write_spectra(my_path / \"spectra_coadd_cam.fits\", spectra)"
   ]
  },
  {
   "cell_type": "code",
   "execution_count": null,
   "metadata": {},
   "outputs": [],
   "source": []
  }
 ],
 "metadata": {
  "kernelspec": {
   "display_name": "DESI master",
   "language": "python",
   "name": "desi-master"
  },
  "language_info": {
   "codemirror_mode": {
    "name": "ipython",
    "version": 3
   },
   "file_extension": ".py",
   "mimetype": "text/x-python",
   "name": "python",
   "nbconvert_exporter": "python",
   "pygments_lexer": "ipython3",
   "version": "3.8.3"
  }
 },
 "nbformat": 4,
 "nbformat_minor": 4
}
