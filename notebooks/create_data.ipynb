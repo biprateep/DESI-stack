{
 "cells": [
  {
   "cell_type": "markdown",
   "metadata": {},
   "source": [
    "# Create data for stacking code testing"
   ]
  },
  {
   "cell_type": "code",
   "execution_count": 1,
   "metadata": {},
   "outputs": [],
   "source": [
    "import numpy as np\n",
    "from pathlib import Path\n",
    "from astropy.io import fits\n",
    "from astropy.table import Table, vstack, hstack, unique,join\n",
    "import matplotlib.pyplot as plt\n",
    "import pandas as pd\n",
    "import sys\n",
    "\n",
    "# sys.path.append(\"/global/u2/b/bid13/VI/prospect/py\")\n",
    "\n",
    "import desispec.coaddition\n",
    "import desispec.io\n",
    "import desispec.spectra\n",
    "# from desitarget.cmx.cmx_targetmask import cmx_mask\n",
    "from desitarget.sv1.sv1_targetmask import desi_mask\n",
    "from prospect import utilities,plotframes, myspecselect, myspecupdate\n",
    "from desispec.coaddition import coadd_cameras\n",
    "from prospect import utilities ,plotframes\n",
    "# from prospect_my import plotframes"
   ]
  },
  {
   "cell_type": "code",
   "execution_count": 2,
   "metadata": {},
   "outputs": [],
   "source": [
    "data_path = Path(\"/global/cfs/cdirs/desi/spectro/redux/cascades/tiles/\")\n",
    "my_path = Path(\"/global/cscratch1/sd/bid13/stack-spectra\")"
   ]
  },
  {
   "cell_type": "code",
   "execution_count": 3,
   "metadata": {},
   "outputs": [],
   "source": [
    "tile = \"80609\"\n",
    "tile_path = data_path / tile /\"deep\""
   ]
  },
  {
   "cell_type": "code",
   "execution_count": null,
   "metadata": {},
   "outputs": [],
   "source": [
    "z_table = Table()\n",
    "spectra = desispec.spectra.Spectra()\n",
    "\n",
    "for file_path in tile_path.glob(\"zbest-*\"):\n",
    "\n",
    "    z_petal = Table.read(file_path, hdu=\"ZBEST\")\n",
    "    fibermap_petal = Table.read(file_path, hdu=\"FIBERMAP\")[0:500]\n",
    "\n",
    "    merged_table = join(z_petal, fibermap_petal, keys=\"TARGETID\", metadata_conflicts=\"silent\")\n",
    "    print(len(merged_table))\n",
    "    mask = ((merged_table[\"SV1_DESI_TARGET\"] & desi_mask.mask(\"LRG\"))>0) & (merged_table[\"FIBERSTATUS\"] == 0)\n",
    "    mask &= (merged_table[\"Z\"]>0.9) & (merged_table[\"Z\"]<1)\n",
    "    mask &= (merged_table[\"SPECTYPE\"]==\"GALAXY\")\n",
    "    mask &= (merged_table[\"DELTACHI2\"]>15)\n",
    "    merged_table = merged_table[mask]\n",
    "    \n",
    "\n",
    "    if np.sum(mask):\n",
    "        spec = desispec.io.read_spectra(str(file_path).replace(\"zbest\",\"coadd\") )\n",
    "        # CAUTION desispec uses EXPID + FIBER to determine uniqueness\n",
    "        spec.fibermap[\"NIGHT\"] = np.arange(len(spec.fibermap))\n",
    "        spec.fibermap[\"EXPID\"] = np.arange(len(spec.fibermap))\n",
    "        spec = spec.select(targets= merged_table[\"TARGETID\"])\n",
    "\n",
    "        z_table = vstack([z_table, merged_table])\n",
    "        spectra.update(spec)"
   ]
  },
  {
   "cell_type": "code",
   "execution_count": null,
   "metadata": {},
   "outputs": [],
   "source": [
    "len(z_table)"
   ]
  },
  {
   "cell_type": "code",
   "execution_count": null,
   "metadata": {},
   "outputs": [],
   "source": [
    "spectra.num_targets()"
   ]
  },
  {
   "cell_type": "code",
   "execution_count": null,
   "metadata": {},
   "outputs": [],
   "source": [
    "_=plt.hist(z_table[\"Z\"], histtype=\"step\", color=\"k\", bins=50)\n",
    "plt.xlabel(\"Spec-Z\")"
   ]
  },
  {
   "cell_type": "code",
   "execution_count": null,
   "metadata": {},
   "outputs": [],
   "source": [
    "z_table.write(my_path/\"zcat.fits\")\n",
    "desispec.io.write_spectra(my_path/\"spectra.fits\", spectra)"
   ]
  },
  {
   "cell_type": "code",
   "execution_count": null,
   "metadata": {},
   "outputs": [],
   "source": [
    "spectra = coadd_cameras(spectra) #Coadding the cameras now but needs to be treated separately in future\n",
    "                                # Moreover this needs a whole DESI spectra object and is very slow. Possible way out is to reimplrment a lighter version of this.\n",
    "desispec.io.write_spectra(my_path / \"spectra_coadd_cam.fits\", spectra)"
   ]
  },
  {
   "cell_type": "code",
   "execution_count": 5,
   "metadata": {},
   "outputs": [
    {
     "name": "stdout",
     "output_type": "stream",
     "text": [
      "INFO:spectra.py:253:read_spectra: iotime 0.758 sec to read coadd-0-80609-deep.fits at 2021-04-01T15:28:56.568203\n"
     ]
    }
   ],
   "source": [
    "sky = desispec.io.read_spectra(\"/global/cfs/cdirs/desi/spectro/redux/cascades/tiles/80609/deep/coadd-0-80609-deep.fits\")"
   ]
  },
  {
   "cell_type": "code",
   "execution_count": 15,
   "metadata": {},
   "outputs": [],
   "source": [
    "x = sky.flux[\"b\"][sky.fibermap[\"OBJTYPE\"]==\"SKY\"]"
   ]
  },
  {
   "cell_type": "code",
   "execution_count": 17,
   "metadata": {},
   "outputs": [
    {
     "data": {
      "text/plain": [
       "[<matplotlib.lines.Line2D at 0x2aaaec77ae50>]"
      ]
     },
     "execution_count": 17,
     "metadata": {},
     "output_type": "execute_result"
    },
    {
     "data": {
      "image/png": "[encoded data removed]",
      "text/plain": [
       "<Figure size 432x288 with 1 Axes>"
      ]
     },
     "metadata": {
      "needs_background": "light"
     },
     "output_type": "display_data"
    }
   ],
   "source": [
    "plt.plot(x[0])"
   ]
  },
  {
   "cell_type": "markdown",
   "metadata": {},
   "source": [
    "# Curate the sky spectra"
   ]
  },
  {
   "cell_type": "code",
   "execution_count": null,
   "metadata": {},
   "outputs": [],
   "source": []
  }
 ],
 "metadata": {
  "kernelspec": {
   "display_name": "DESI master",
   "language": "python",
   "name": "desi-master"
  },
  "language_info": {
   "codemirror_mode": {
    "name": "ipython",
    "version": 3
   },
   "file_extension": ".py",
   "mimetype": "text/x-python",
   "name": "python",
   "nbconvert_exporter": "python",
   "pygments_lexer": "ipython3",
   "version": "3.8.3"
  }
 },
 "nbformat": 4,
 "nbformat_minor": 4
}
