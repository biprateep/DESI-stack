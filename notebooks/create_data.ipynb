{
 "cells": [
  {
   "cell_type": "markdown",
   "metadata": {},
   "source": [
    "# Create data for stacking code testing"
   ]
  },
  {
   "cell_type": "code",
   "execution_count": 11,
   "metadata": {},
   "outputs": [],
   "source": [
    "import numpy as np\n",
    "from pathlib import Path\n",
    "from astropy.io import fits\n",
    "from astropy.table import Table, vstack, hstack, unique,join\n",
    "import matplotlib.pyplot as plt\n",
    "import pandas as pd\n",
    "import sys\n",
    "\n",
    "# sys.path.append(\"/global/u2/b/bid13/VI/prospect/py\")\n",
    "\n",
    "import desispec.coaddition\n",
    "import desispec.io\n",
    "import desispec.spectra\n",
    "# from desitarget.cmx.cmx_targetmask import cmx_mask\n",
    "from desitarget.sv1.sv1_targetmask import desi_mask, bgs_mask\n",
    "from prospect import utilities,plotframes, myspecselect, myspecupdate\n",
    "from desispec.coaddition import coadd_cameras\n",
    "from prospect import utilities ,plotframes\n",
    "# from prospect_my import plotframes"
   ]
  },
  {
   "cell_type": "code",
   "execution_count": 12,
   "metadata": {},
   "outputs": [],
   "source": [
    "data_path = Path(\"/global/cfs/cdirs/desi/spectro/redux/cascades/tiles/\")\n",
    "my_path = Path(\"/global/cscratch1/sd/bid13/stack-spectra\")"
   ]
  },
  {
   "cell_type": "code",
   "execution_count": 13,
   "metadata": {},
   "outputs": [],
   "source": [
    "tile = \"80613\"\n",
    "tile_path = data_path / tile /\"deep\""
   ]
  },
  {
   "cell_type": "code",
   "execution_count": 14,
   "metadata": {},
   "outputs": [
    {
     "name": "stdout",
     "output_type": "stream",
     "text": [
      "500\n"
     ]
    },
    {
     "name": "stderr",
     "output_type": "stream",
     "text": [
      "<ipython-input-14-1740dec2fd6a>:12: RuntimeWarning: invalid value encountered in log10\n",
      "  rfmag = 22.5 - 2.5 * np.log10(merged_table[\"FIBERFLUX_R\"])\n"
     ]
    },
    {
     "name": "stdout",
     "output_type": "stream",
     "text": [
      "INFO:spectra.py:253:read_spectra: iotime 0.852 sec to read coadd-0-80613-deep.fits at 2021-04-07T12:56:00.123937\n",
      "500\n",
      "INFO:spectra.py:253:read_spectra: iotime 0.917 sec to read coadd-1-80613-deep.fits at 2021-04-07T12:56:01.890292\n",
      "500\n",
      "INFO:spectra.py:253:read_spectra: iotime 0.980 sec to read coadd-7-80613-deep.fits at 2021-04-07T12:56:03.550325\n",
      "500\n",
      "INFO:spectra.py:253:read_spectra: iotime 0.909 sec to read coadd-3-80613-deep.fits at 2021-04-07T12:56:05.224832\n",
      "500\n"
     ]
    },
    {
     "name": "stderr",
     "output_type": "stream",
     "text": [
      "<ipython-input-14-1740dec2fd6a>:12: RuntimeWarning: divide by zero encountered in log10\n",
      "  rfmag = 22.5 - 2.5 * np.log10(merged_table[\"FIBERFLUX_R\"])\n"
     ]
    },
    {
     "name": "stdout",
     "output_type": "stream",
     "text": [
      "INFO:spectra.py:253:read_spectra: iotime 0.902 sec to read coadd-5-80613-deep.fits at 2021-04-07T12:56:06.938103\n",
      "500\n",
      "INFO:spectra.py:253:read_spectra: iotime 0.890 sec to read coadd-9-80613-deep.fits at 2021-04-07T12:56:08.529514\n",
      "500\n",
      "500\n",
      "INFO:spectra.py:253:read_spectra: iotime 0.738 sec to read coadd-8-80613-deep.fits at 2021-04-07T12:56:10.177747\n",
      "500\n",
      "INFO:spectra.py:253:read_spectra: iotime 0.844 sec to read coadd-4-80613-deep.fits at 2021-04-07T12:56:11.763279\n",
      "500\n"
     ]
    }
   ],
   "source": [
    "z_table = Table()\n",
    "spectra = desispec.spectra.Spectra()\n",
    "\n",
    "for file_path in tile_path.glob(\"zbest-*\"):\n",
    "\n",
    "    z_petal = Table.read(file_path, hdu=\"ZBEST\")\n",
    "    fibermap_petal = Table.read(file_path, hdu=\"FIBERMAP\")[0:500]\n",
    "\n",
    "    merged_table = join(z_petal, fibermap_petal, keys=\"TARGETID\", metadata_conflicts=\"silent\")\n",
    "    print(len(merged_table))\n",
    "    mask = ((merged_table[\"SV1_BGS_TARGET\"] & bgs_mask.mask(\"BGS_BRIGHT\"))>0) & (merged_table[\"FIBERSTATUS\"] == 0)\n",
    "    rfmag = 22.5 - 2.5 * np.log10(merged_table[\"FIBERFLUX_R\"])\n",
    "    mask &= (rfmag<19)\n",
    "    mask &= (merged_table[\"Z\"]>0.1) & (merged_table[\"Z\"]<0.2)\n",
    "    mask &= (merged_table[\"SPECTYPE\"]==\"GALAXY\")\n",
    "    mask &= (merged_table[\"DELTACHI2\"]>1000)\n",
    "    merged_table = merged_table[mask]\n",
    "#     z_table = vstack([z_table, merged_table])\n",
    "\n",
    "    if np.sum(mask):\n",
    "        spec = desispec.io.read_spectra(str(file_path).replace(\"zbest\",\"coadd\") )\n",
    "        # CAUTION desispec uses EXPID + FIBER to determine uniqueness\n",
    "#         spec.fibermap[\"NIGHT\"] = np.arange(len(spec.fibermap))\n",
    "#         spec.fibermap[\"EXPID\"] = np.arange(len(spec.fibermap))\n",
    "        spec = myspecselect.myspecselect(spec,targets= merged_table[\"TARGETID\"])\n",
    "\n",
    "        z_table = vstack([z_table, merged_table])\n",
    "        spectra = myspecupdate.myspecupdate(spectra, spec)"
   ]
  },
  {
   "cell_type": "code",
   "execution_count": 21,
   "metadata": {},
   "outputs": [
    {
     "data": {
      "text/plain": [
       "<TableColumns names=('TARGETID','CHI2','COEFF','Z','ZERR','ZWARN','NPIXELS','SPECTYPE','SUBTYPE','NCOEFF','DELTACHI2','NUMEXP','NUMTILE','PETAL_LOC','DEVICE_LOC','LOCATION','FIBER','FIBERSTATUS','TARGET_RA','TARGET_DEC','PMRA','PMDEC','REF_EPOCH','LAMBDA_REF','FA_TARGET','FA_TYPE','OBJTYPE','FIBERASSIGN_X','FIBERASSIGN_Y','PRIORITY','SUBPRIORITY','OBSCONDITIONS','RELEASE','BRICKID','BRICK_OBJID','MORPHTYPE','FLUX_G','FLUX_R','FLUX_Z','FLUX_IVAR_G','FLUX_IVAR_R','FLUX_IVAR_Z','REF_ID','REF_CAT','GAIA_PHOT_G_MEAN_MAG','GAIA_PHOT_BP_MEAN_MAG','GAIA_PHOT_RP_MEAN_MAG','PARALLAX','BRICKNAME','EBV','FLUX_W1','FLUX_W2','FIBERFLUX_G','FIBERFLUX_R','FIBERFLUX_Z','FIBERTOTFLUX_G','FIBERTOTFLUX_R','FIBERTOTFLUX_Z','MASKBITS','SERSIC','SHAPE_R','SHAPE_E1','SHAPE_E2','PHOTSYS','PRIORITY_INIT','NUMOBS_INIT','SV1_DESI_TARGET','SV1_BGS_TARGET','SV1_MWS_TARGET','DESI_TARGET','BGS_TARGET','MWS_TARGET','NUM_ITER','FIBER_X','FIBER_Y','DELTA_X','DELTA_Y','FIBER_RA','FIBER_DEC','EXPTIME','NIGHT','EXPID','MJD','TILEID')>"
      ]
     },
     "execution_count": 21,
     "metadata": {},
     "output_type": "execute_result"
    }
   ],
   "source": [
    "z_table.columns"
   ]
  },
  {
   "cell_type": "code",
   "execution_count": 16,
   "metadata": {},
   "outputs": [
    {
     "data": {
      "text/plain": [
       "16"
      ]
     },
     "execution_count": 16,
     "metadata": {},
     "output_type": "execute_result"
    }
   ],
   "source": [
    "spectra.num_targets()"
   ]
  },
  {
   "cell_type": "code",
   "execution_count": 17,
   "metadata": {},
   "outputs": [
    {
     "data": {
      "text/plain": [
       "Text(0.5, 0, 'Spec-Z')"
      ]
     },
     "execution_count": 17,
     "metadata": {},
     "output_type": "execute_result"
    },
    {
     "data": {
      "image/png": "[encoded data removed]",
      "text/plain": [
       "<Figure size 432x288 with 1 Axes>"
      ]
     },
     "metadata": {
      "needs_background": "light"
     },
     "output_type": "display_data"
    }
   ],
   "source": [
    "_=plt.hist(z_table[\"Z\"], histtype=\"step\", color=\"k\", bins=50)\n",
    "plt.xlabel(\"Spec-Z\")"
   ]
  },
  {
   "cell_type": "code",
   "execution_count": 8,
   "metadata": {},
   "outputs": [
    {
     "data": {
      "text/plain": [
       "Text(0.5, 0, 'Spec-Z')"
      ]
     },
     "execution_count": 8,
     "metadata": {},
     "output_type": "execute_result"
    },
    {
     "data": {
      "image/png": "[encoded data removed]",
      "text/plain": [
       "<Figure size 432x288 with 1 Axes>"
      ]
     },
     "metadata": {
      "needs_background": "light"
     },
     "output_type": "display_data"
    }
   ],
   "source": [
    "_=plt.hist(rfmag, histtype=\"step\", color=\"k\", bins=50)\n",
    "plt.xlabel(\"Spec-Z\")"
   ]
  },
  {
   "cell_type": "code",
   "execution_count": 18,
   "metadata": {},
   "outputs": [
    {
     "name": "stdout",
     "output_type": "stream",
     "text": [
      "INFO:spectra.py:154:write_spectra: iotime 5.347 sec to write spectra_bright.fits at 2021-04-07T12:57:29.485401\n"
     ]
    },
    {
     "data": {
      "text/plain": [
       "'/global/cscratch1/sd/bid13/stack-spectra/spectra_bright.fits'"
      ]
     },
     "execution_count": 18,
     "metadata": {},
     "output_type": "execute_result"
    }
   ],
   "source": [
    "z_table.write(my_path/\"zcat_bright.fits\")\n",
    "desispec.io.write_spectra(my_path/\"spectra_bright.fits\", spectra)"
   ]
  },
  {
   "cell_type": "code",
   "execution_count": 19,
   "metadata": {},
   "outputs": [
    {
     "name": "stdout",
     "output_type": "stream",
     "text": [
      "INFO:spectra.py:154:write_spectra: iotime 16.245 sec to write spectra_coadd_cam_bright.fits at 2021-04-07T12:57:50.548688\n"
     ]
    },
    {
     "data": {
      "text/plain": [
       "'/global/cscratch1/sd/bid13/stack-spectra/spectra_coadd_cam_bright.fits'"
      ]
     },
     "execution_count": 19,
     "metadata": {},
     "output_type": "execute_result"
    }
   ],
   "source": [
    "spectra = coadd_cameras(spectra) #Coadding the cameras now but needs to be treated separately in future\n",
    "                                # Moreover this needs a whole DESI spectra object and is very slow. Possible way out is to reimplrment a lighter version of this.\n",
    "desispec.io.write_spectra(my_path / \"spectra_coadd_cam_bright.fits\", spectra)"
   ]
  },
  {
   "cell_type": "code",
   "execution_count": null,
   "metadata": {},
   "outputs": [],
   "source": [
    "plt.plot(spectra.flux[\"brz\"][8])"
   ]
  },
  {
   "cell_type": "code",
   "execution_count": null,
   "metadata": {},
   "outputs": [],
   "source": [
    "sky = desispec.io.read_spectra(\"/global/cfs/cdirs/desi/spectro/redux/cascades/tiles/80609/deep/coadd-0-80609-deep.fits\")"
   ]
  },
  {
   "cell_type": "code",
   "execution_count": null,
   "metadata": {},
   "outputs": [],
   "source": [
    "x = sky.flux[\"b\"][sky.fibermap[\"OBJTYPE\"]==\"SKY\"]"
   ]
  },
  {
   "cell_type": "code",
   "execution_count": null,
   "metadata": {},
   "outputs": [],
   "source": [
    "plt.plot(x[0])"
   ]
  },
  {
   "cell_type": "markdown",
   "metadata": {},
   "source": [
    "# Curate the sky spectra"
   ]
  },
  {
   "cell_type": "code",
   "execution_count": null,
   "metadata": {},
   "outputs": [],
   "source": []
  }
 ],
 "metadata": {
  "kernelspec": {
   "display_name": "DESI master",
   "language": "python",
   "name": "desi-master"
  },
  "language_info": {
   "codemirror_mode": {
    "name": "ipython",
    "version": 3
   },
   "file_extension": ".py",
   "mimetype": "text/x-python",
   "name": "python",
   "nbconvert_exporter": "python",
   "pygments_lexer": "ipython3",
   "version": "3.8.3"
  }
 },
 "nbformat": 4,
 "nbformat_minor": 4
}
