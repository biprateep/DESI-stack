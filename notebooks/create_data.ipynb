{
 "cells": [
  {
   "cell_type": "markdown",
   "metadata": {},
   "source": [
    "# Create data for stacking code testing"
   ]
  },
  {
   "cell_type": "code",
   "execution_count": null,
   "metadata": {},
   "outputs": [],
   "source": [
    "import numpy as np\n",
    "from pathlib import Path\n",
    "from astropy.io import fits\n",
    "from astropy.table import Table, vstack, hstack, unique,join\n",
    "import matplotlib.pyplot as plt\n",
    "import pandas as pd\n",
    "import sys\n",
    "\n",
    "# sys.path.append(\"/global/u2/b/bid13/VI/prospect/py\")\n",
    "\n",
    "import desispec.coaddition\n",
    "import desispec.io\n",
    "import desispec.spectra\n",
    "# from desitarget.cmx.cmx_targetmask import cmx_mask\n",
    "from desitarget.sv1.sv1_targetmask import desi_mask\n",
    "from prospect import utilities ,plotframes\n",
    "# from prospect_my import plotframes"
   ]
  },
  {
   "cell_type": "code",
   "execution_count": null,
   "metadata": {},
   "outputs": [],
   "source": [
    "data_path = Path(\"/global/cfs/cdirs/desi/spectro/redux/cascades/tiles/\")\n",
    "my_path = Path(\"/global/cscratch1/sd/bid13/stack-spectra\")"
   ]
  },
  {
   "cell_type": "code",
   "execution_count": null,
   "metadata": {},
   "outputs": [],
   "source": [
    "tile = \"80605\"\n",
    "date = \"20201215\"\n",
    "tile_path = data_path / tile /\"deep\"\n",
    "\n",
    "z_table = Table()\n",
    "for file_path in tile_path.glob(\"zbest-*\"):\n",
    "    z_petal = Table.read(file_path, hdu=\"ZBEST\")\n",
    "    fibermap_petal = Table.read(file_path, hdu=\"FIBERMAP\")\n",
    "    mask = ((fibermap_petal[\"SV1_DESI_TARGET\"] & desi_mask.mask(\"LRG\"))>0) & (fibermap_petal[\"FIBERSTATUS\"] == 0)\n",
    "    fibermap_petal = fibermap_petal[mask]\n",
    "    fibermap_petal = unique(fibermap_petal, keys=\"TARGETID\")\n",
    "    \n",
    "    spec = desispec.io.read_spectra(str(file_path).replace(\"zbest\",\"coadd\") )\n",
    "    spec = spec.select(targets= fibermap_petal[\"TARGETID\"])\n",
    "    snr_b = np.median( spec.flux[\"b\"]*np.sqrt(spec.ivar[\"b\"]), axis=-1)\n",
    "    fibermap_petal[\"SNR_B\"] = snr_b\n",
    "    snr_r = np.median( spec.flux[\"r\"]*np.sqrt(spec.ivar[\"r\"]), axis=-1)\n",
    "    fibermap_petal[\"SNR_R\"] = snr_r\n",
    "    snr_z = np.median( spec.flux[\"z\"]*np.sqrt(spec.ivar[\"z\"]), axis=-1)\n",
    "    fibermap_petal[\"SNR_Z\"] = snr_z\n",
    "    fibermap_petal[\"SNR_MAX\"] = np.max([snr_b,snr_r,snr_z], axis=0)\n",
    "    merged_table = join(z_petal, fibermap_petal, keys=\"TARGETID\", metadata_conflicts=\"silent\")\n",
    "    \n",
    "    z_table = vstack([z_table, merged_table])"
   ]
  },
  {
   "cell_type": "code",
   "execution_count": null,
   "metadata": {},
   "outputs": [],
   "source": [
    "_=plt.hist(z_table[\"Z\"], histtype=\"step\", color=\"k\", bins=50)\n",
    "plt.xlabel(\"Spec-Z\")"
   ]
  },
  {
   "cell_type": "code",
   "execution_count": null,
   "metadata": {},
   "outputs": [],
   "source": [
    "zmag = 22.5 - 2.5*np.log10(z_table[\"FIBERTOTFLUX_Z\"]) #/z_table[\"MW_TRANSMISSION_Z\"])\n",
    "plt.figure(figsize=(15,10))\n",
    "plt.scatter(zmag, z_table[\"SNR_MAX\"], marker=\".\", s=0.8, color=\"k\")\n",
    "# plt.axhline(2, c=\"k\", ls =\"--\")\n",
    "plt.xlim(16, 23)\n",
    "plt.ylim(-1,50)\n",
    "plt.xlabel(\"z Fiber total mag\", size=15)\n",
    "plt.ylabel(\"SNR_MAX\", size=15)\n"
   ]
  },
  {
   "cell_type": "code",
   "execution_count": null,
   "metadata": {},
   "outputs": [],
   "source": [
    "plt.figure(figsize=(15,10))\n",
    "plt.scatter(zmag, z_table[\"DELTACHI2\"], marker=\".\", s=0.8, color=\"k\")\n",
    "plt.yscale(\"log\")\n",
    "plt.axhline(9, c=\"k\", ls =\"--\")\n",
    "plt.xlim(16, 23)\n",
    "# plt.ylim(-1,50)\n",
    "plt.xlabel(\"z Fiber total mag\", size=15)\n",
    "plt.ylabel(\"Delta Chi ^2\", size=15)"
   ]
  },
  {
   "cell_type": "code",
   "execution_count": null,
   "metadata": {},
   "outputs": [],
   "source": [
    "plt.figure(figsize=(15,10))\n",
    "plt.scatter(z_table[\"Z\"], z_table[\"DELTACHI2\"], marker=\".\", s=0.8, color=\"k\")\n",
    "plt.yscale(\"log\")\n",
    "plt.axhline(9, c=\"k\", ls =\"--\")\n",
    "plt.xlim(-0.1, 2)\n",
    "plt.xlabel(\"Spec-Z\")\n",
    "plt.ylabel(\"Delta Chi ^2\", size=15)"
   ]
  },
  {
   "cell_type": "code",
   "execution_count": null,
   "metadata": {},
   "outputs": [],
   "source": [
    "plt.figure(figsize=(15,10))\n",
    "plt.scatter(z_table[\"SNR_MAX\"], z_table[\"DELTACHI2\"], marker=\".\", s=0.8, color=\"k\")\n",
    "plt.yscale(\"log\")\n",
    "# plt.axhline(15, c=\"k\", ls =\"--\")\n",
    "plt.xlim(-1,50)\n",
    "plt.xlabel(\"SNR_MAX\")\n",
    "plt.ylabel(\"Delta Chi ^2\", size=15)"
   ]
  },
  {
   "cell_type": "code",
   "execution_count": null,
   "metadata": {},
   "outputs": [],
   "source": [
    "# Select objects with redshift 1-ish\n",
    "z_targets = z_table[(z_table[\"Z\"]>=1)&(z_table[\"Z\"]<=1.2)&(z_table[\"DELTACHI2\"]>15)][\"TARGETID\"]"
   ]
  },
  {
   "cell_type": "code",
   "execution_count": null,
   "metadata": {},
   "outputs": [],
   "source": [
    "obs_db = utilities.make_targetdict(str(data_path), tiles=[tile], nights=[date]) # petals, tiles = optional arguments\n",
    "\n",
    "spectra, zcat= utilities.load_spectra_zcat_from_targets(z_targets, str(data_path), obs_db)"
   ]
  },
  {
   "cell_type": "code",
   "execution_count": null,
   "metadata": {},
   "outputs": [],
   "source": [
    "# zcat.write(my_path/\"zcat.fits\")\n",
    "# desispec.io.write_spectra(my_path/\"spectra.fits\", spectra)"
   ]
  }
 ],
 "metadata": {
  "kernelspec": {
   "display_name": "DESI master",
   "language": "python",
   "name": "desi-master"
  },
  "language_info": {
   "codemirror_mode": {
    "name": "ipython",
    "version": 3
   },
   "file_extension": ".py",
   "mimetype": "text/x-python",
   "name": "python",
   "nbconvert_exporter": "python",
   "pygments_lexer": "ipython3",
   "version": "3.8.3"
  }
 },
 "nbformat": 4,
 "nbformat_minor": 4
}
