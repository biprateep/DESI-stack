{
 "cells": [
  {
   "cell_type": "code",
   "execution_count": null,
   "metadata": {},
   "outputs": [],
   "source": [
    "import numpy as np\n",
    "from pathlib import Path\n",
    "from astropy.io import fits\n",
    "from astropy.table import Table, vstack, hstack, unique,join\n",
    "import matplotlib.pyplot as plt\n",
    "import pandas as pd\n",
    "import sys\n",
    "\n",
    "# sys.path.append(\"/global/u2/b/bid13/VI/prospect/py\")\n",
    "\n",
    "import desispec.coaddition\n",
    "import desispec.io\n",
    "import desispec.spectra\n",
    "# from desitarget.cmx.cmx_targetmask import cmx_mask\n",
    "from desitarget.sv1.sv1_targetmask import desi_mask\n",
    "from prospect import utilities,plotframes, myspecselect, myspecupdate\n",
    "from scipy.interpolate import interp1d\n",
    "from scipy.ndimage import median_filter\n",
    "from scipy.stats import binned_statistic\n",
    "from desispec.coaddition import coadd_cameras\n",
    "from prospect import utilities ,plotframes\n",
    "# from prospect_my import plotframes\n",
    "from bokeh.plotting import figure, show, save\n",
    "from bokeh.io import output_notebook\n",
    "from astropy.convolution import convolve, Box1DKernel, Gaussian1DKernel\n",
    "output_notebook()\n",
    "from sklearn.preprocessing import StandardScaler, PolynomialFeatures\n",
    "from sklearn.linear_model import LinearRegression, LassoCV\n",
    "\n",
    "sys.path.append(\"../\")\n",
    "from importlib import reload\n",
    "import stack_spectra\n",
    "reload(stack_spectra)"
   ]
  },
  {
   "cell_type": "code",
   "execution_count": null,
   "metadata": {},
   "outputs": [],
   "source": [
    "my_path = Path(\"/global/cscratch1/sd/bid13/stack-spectra\")"
   ]
  },
  {
   "cell_type": "code",
   "execution_count": null,
   "metadata": {},
   "outputs": [],
   "source": [
    "spec = desispec.io.read_spectra(my_path /  \"spectra_bright.fits\")\n",
    "zcat = Table.read(my_path / \"zcat_bright.fits\")\n",
    "flux_cam = spec.flux\n",
    "wave_cam = spec.wave\n",
    "ivar_cam = spec.ivar"
   ]
  },
  {
   "cell_type": "code",
   "execution_count": null,
   "metadata": {},
   "outputs": [],
   "source": [
    "red = [0,2,4,5,6,8,9,11, 12, 13, 14, 15]\n",
    "blue = [1,3,7,10]\n",
    "# test = [7,10]\n",
    "test =[0,10]"
   ]
  },
  {
   "cell_type": "code",
   "execution_count": null,
   "metadata": {},
   "outputs": [],
   "source": [
    "flux, wave, ivar = stack_spectra._coadd_cameras(flux_cam, wave_cam, ivar_cam)"
   ]
  },
  {
   "cell_type": "code",
   "execution_count": null,
   "metadata": {},
   "outputs": [],
   "source": [
    "flux = flux[test]\n",
    "ivar = ivar[test]\n",
    "z = zcat[test][\"Z\"]"
   ]
  },
  {
   "cell_type": "code",
   "execution_count": null,
   "metadata": {},
   "outputs": [],
   "source": [
    "plt.figure(figsize=(10,4))\n",
    "for i in range(2):\n",
    "    plt.plot(wave, flux[i])\n",
    "# plt.xlim(5000, 7000)\n",
    "# plt.axvline(5896)"
   ]
  },
  {
   "cell_type": "code",
   "execution_count": null,
   "metadata": {},
   "outputs": [],
   "source": [
    "new_f,new_i,new_wl = stack_spectra._common_grid(flux, wave, ivar, z, z_out=0.0, wave_grid=None)"
   ]
  },
  {
   "cell_type": "code",
   "execution_count": null,
   "metadata": {},
   "outputs": [],
   "source": [
    "plt.figure(figsize=(10,4))\n",
    "for i in range(2):\n",
    "    plt.plot(new_wl, new_f[i])\n",
    "plt.xlim(5250, 6750)"
   ]
  },
  {
   "cell_type": "code",
   "execution_count": null,
   "metadata": {},
   "outputs": [],
   "source": [
    "new_f, new_i = stack_spectra._normalize(new_f,new_i)"
   ]
  },
  {
   "cell_type": "code",
   "execution_count": null,
   "metadata": {},
   "outputs": [],
   "source": [
    "plt.figure(figsize=(10,4))\n",
    "for i in range(2):\n",
    "    plt.plot(new_wl, new_f[i])"
   ]
  },
  {
   "cell_type": "code",
   "execution_count": null,
   "metadata": {},
   "outputs": [],
   "source": [
    "wavg_f = stack_spectra._wavg(new_f,new_i)"
   ]
  },
  {
   "cell_type": "code",
   "execution_count": null,
   "metadata": {},
   "outputs": [],
   "source": [
    "plt.figure(figsize=(15,4))\n",
    "plt.plot(new_wl,wavg_f)\n",
    "plt.ylim(-0.25,1.25)"
   ]
  },
  {
   "cell_type": "code",
   "execution_count": null,
   "metadata": {},
   "outputs": [],
   "source": [
    "# index =1\n",
    "p = figure(title=\"Spectra\", x_axis_label='Wavelength', y_axis_label='Flux', plot_width=1000, plot_height=300, \n",
    "           y_range=(-1, 3)\n",
    "          )\n",
    "p.line(new_wl, wavg_f, legend_label=\"Temp.\", line_width=2)\n",
    "# p.line(new_wl, convolve(wavg_f,Gaussian1DKernel(3)), legend_label=\"Temp.\", line_width=2, color=\"orange\")\n",
    "\n",
    "show(p)"
   ]
  },
  {
   "cell_type": "code",
   "execution_count": null,
   "metadata": {},
   "outputs": [],
   "source": [
    "# save(p, \"plot.html\")"
   ]
  },
  {
   "cell_type": "markdown",
   "metadata": {},
   "source": [
    "### Model Ivar using sky"
   ]
  },
  {
   "cell_type": "code",
   "execution_count": null,
   "metadata": {},
   "outputs": [],
   "source": [
    "sky = desispec.io.read_spectra(my_path /  \"sky_bright.fits\")"
   ]
  },
  {
   "cell_type": "code",
   "execution_count": null,
   "metadata": {},
   "outputs": [],
   "source": [
    "sky_f = sky.flux\n",
    "sky_i = sky.ivar\n",
    "sky_w = sky.wave"
   ]
  },
  {
   "cell_type": "code",
   "execution_count": null,
   "metadata": {},
   "outputs": [],
   "source": [
    "sky_f, wave, sky_i = stack_spectra._coadd_cameras(sky_f, sky_w, sky_i)"
   ]
  },
  {
   "cell_type": "code",
   "execution_count": null,
   "metadata": {},
   "outputs": [],
   "source": [
    "sky_f = sky_f[test]\n",
    "sky_i = sky_i[test]"
   ]
  },
  {
   "cell_type": "code",
   "execution_count": null,
   "metadata": {},
   "outputs": [],
   "source": [
    "def process_sky_ivar(sky_ivar, sky_wave):\n",
    "    n_obj = len(sky_ivar)\n",
    "#     sky_wave = np.tile(sky_wave, (n_obj,1))\n",
    "    sky_var = 1/sky_ivar\n",
    "    for i in range(n_obj):\n",
    "        mask = np.isfinite(sky_var[i])\n",
    "        sky_var_interp = interp1d(sky_wave[mask], sky_var[i][mask], fill_value=\"extrapolate\", axis=-1)\n",
    "        sky_var[i] = sky_var_interp(sky_wave)\n",
    "        sky_var[i] = sky_var[i]/median_filter(sky_var[i], 100)\n",
    "    return sky_var"
   ]
  },
  {
   "cell_type": "code",
   "execution_count": null,
   "metadata": {},
   "outputs": [],
   "source": [
    "sky_var = process_sky_ivar(sky_i, wave)"
   ]
  },
  {
   "cell_type": "code",
   "execution_count": null,
   "metadata": {},
   "outputs": [],
   "source": [
    "plt.plot(sky_var[0])\n",
    "plt.plot(sky_var[1])"
   ]
  },
  {
   "cell_type": "code",
   "execution_count": null,
   "metadata": {},
   "outputs": [],
   "source": [
    "index = 0\n",
    "plt.figure(figsize=(20,8))\n",
    "plt.plot(wave, sky_var[index], label=\"Normalized Sky Var\")\n",
    "plt.plot(wave, (1/ivar)[index], label=\"spectra var\")\n",
    "plt.plot(wave, median_filter((1/ivar)[index],200, mode=\"nearest\"), label=\"spectra var\")\n",
    "plt.ylim(0,10)\n",
    "plt.legend()"
   ]
  },
  {
   "cell_type": "code",
   "execution_count": null,
   "metadata": {},
   "outputs": [],
   "source": [
    "poly_feat_m = PolynomialFeatures(3)\n",
    "poly_feat_c = PolynomialFeatures(3)"
   ]
  },
  {
   "cell_type": "code",
   "execution_count": null,
   "metadata": {},
   "outputs": [],
   "source": [
    "coef_m = poly_feat_m.fit_transform(wave[:,np.newaxis])\n",
    "coef_c = poly_feat_c.fit_transform(wave[:,np.newaxis])"
   ]
  },
  {
   "cell_type": "code",
   "execution_count": null,
   "metadata": {},
   "outputs": [],
   "source": [
    "back = median_filter((1/ivar)[index],200, mode=\"nearest\")\n",
    "X = np.concatenate([coef_m*sky_var[index][:,np.newaxis], coef_c], axis =1)+back[:, np.newaxis]\n",
    "Y = (1/ivar)[index]"
   ]
  },
  {
   "cell_type": "code",
   "execution_count": null,
   "metadata": {},
   "outputs": [],
   "source": [
    "model = LinearRegression(fit_intercept=False, n_jobs=-1)\n",
    "# model = LassoCV(fit_intercept=False, normalize=True, n_jobs=-1, n_alphas=200)"
   ]
  },
  {
   "cell_type": "code",
   "execution_count": null,
   "metadata": {},
   "outputs": [],
   "source": [
    "model.fit(X,Y)"
   ]
  },
  {
   "cell_type": "code",
   "execution_count": null,
   "metadata": {},
   "outputs": [],
   "source": [
    "y_predict = model.predict(X)"
   ]
  },
  {
   "cell_type": "code",
   "execution_count": null,
   "metadata": {},
   "outputs": [],
   "source": [
    "residual = (Y-y_predict)/Y"
   ]
  },
  {
   "cell_type": "code",
   "execution_count": null,
   "metadata": {},
   "outputs": [],
   "source": [
    "wave_bins = np.arange(wave.min(), wave.max(), 500)\n",
    "binned_residual, _, _ = binned_statistic(wave, residual, statistic=\"median\", bins=wave_bins)"
   ]
  },
  {
   "cell_type": "code",
   "execution_count": null,
   "metadata": {},
   "outputs": [],
   "source": [
    "interp_binned_res = interp1d((wave_bins[1:]+wave_bins[:-1])/2, binned_residual, kind=\"cubic\", fill_value=\"extrapolate\")"
   ]
  },
  {
   "cell_type": "code",
   "execution_count": null,
   "metadata": {},
   "outputs": [],
   "source": [
    "large_res = interp_binned_res(wave)"
   ]
  },
  {
   "cell_type": "code",
   "execution_count": null,
   "metadata": {},
   "outputs": [],
   "source": [
    "plt.plot((wave_bins[1:]+wave_bins[:-1])/2, binned_residual)\n",
    "plt.plot(wave, large_res)"
   ]
  },
  {
   "cell_type": "code",
   "execution_count": null,
   "metadata": {},
   "outputs": [],
   "source": [
    "y_pred_adjust = large_res*Y + y_predict"
   ]
  },
  {
   "cell_type": "code",
   "execution_count": null,
   "metadata": {},
   "outputs": [],
   "source": [
    "plt.figure(figsize=(15,4))\n",
    "# plt.plot(sky_w, sky_f, c=\"gray\", alpha=0.5)\n",
    "\n",
    "plt.plot(wave, Y+1, label=\"Y\")\n",
    "# plt.plot(wave, flux[index] +2, c=\"gray\", alpha=0.5)\n",
    "# plt.plot(wave, y_predict+1, label=\"Y_predict\")\n",
    "plt.plot(wave, y_pred_adjust, label=\"Y_predict_adjusted\")\n",
    "plt.plot(wave, (Y-y_pred_adjust)/Y , label=\"fractional Residual\")\n",
    "plt.axhline(0,ls=\"--\",c=\"k\")\n",
    "plt.legend()\n",
    "# plt.xlim(8000,10000)\n",
    "plt.ylim(-1, 2)"
   ]
  },
  {
   "cell_type": "code",
   "execution_count": null,
   "metadata": {},
   "outputs": [],
   "source": [
    "plt.figure(figsize=(15,4))\n",
    "# plt.plot(sky_w, sky_f, c=\"gray\", alpha=0.5)\n",
    "\n",
    "\n",
    "\n",
    "# plt.ylim(-1, 2)"
   ]
  },
  {
   "cell_type": "code",
   "execution_count": null,
   "metadata": {},
   "outputs": [],
   "source": [
    "# index =1\n",
    "p = figure(title=\"Spectra\", x_axis_label='Wavelength', y_axis_label='Flux', plot_width=1000, plot_height=300, \n",
    "           y_range=(-1, 3)\n",
    "          )\n",
    "p.line(sky_w, Y, legend_label=\"Temp.\", line_width=2)\n",
    "p.line(sky_w, y_predict, legend_label=\"Temp.\", line_width=2, color=\"orange\")\n",
    "\n",
    "show(p)"
   ]
  },
  {
   "cell_type": "code",
   "execution_count": 24,
   "metadata": {},
   "outputs": [],
   "source": [
    "from astropy.io import fits"
   ]
  },
  {
   "cell_type": "code",
   "execution_count": 25,
   "metadata": {},
   "outputs": [],
   "source": [
    "hdu = fits.open(\"/global/common/software/desi/cori/desiconda/20180709-1.2.6-spec/code/redrock-templates/master/rrtemplate-galaxy.fits\")"
   ]
  },
  {
   "cell_type": "code",
   "execution_count": 26,
   "metadata": {},
   "outputs": [
    {
     "name": "stdout",
     "output_type": "stream",
     "text": [
      "Filename: /global/common/software/desi/cori/desiconda/20180709-1.2.6-spec/code/redrock-templates/master/rrtemplate-galaxy.fits\n",
      "No.    Name      Ver    Type      Cards   Dimensions   Format\n",
      "  0  BASIS_VECTORS    1 PrimaryHDU      15   (97720, 10)   float64   \n",
      "  1  ARCHETYPE_COEFF    1 ImageHDU         8   (10, 20000)   float64   \n"
     ]
    }
   ],
   "source": [
    "hdu.info()"
   ]
  },
  {
   "cell_type": "code",
   "execution_count": 27,
   "metadata": {},
   "outputs": [
    {
     "data": {
      "text/plain": [
       "SIMPLE  =                    T / conforms to FITS standard                      \n",
       "BITPIX  =                  -64 / array data type                                \n",
       "NAXIS   =                    2 / number of array dimensions                     \n",
       "NAXIS1  =                97720                                                  \n",
       "NAXIS2  =                   10                                                  \n",
       "EXTEND  =                    T                                                  \n",
       "CRVAL1  =    1228.070175438596 / restframe starting wavelength [Angstroms]      \n",
       "CDELT1  =                  0.1                                                  \n",
       "RRTYPE  = 'GALAXY  '                                                            \n",
       "RRSUBTYP= ''                                                                    \n",
       "RRVER   = '0.13.0.dev529'                                                       \n",
       "VERSION = '2.6     '           / Template version                               \n",
       "INSPEC  = '/scratch1/scratchdirs/hdumasde/desi/spectro/templates/basis_templat&'\n",
       "CONTINUE  'es/v2.6/'                                                            \n",
       "SEED    =               123456                                                  \n",
       "EXTNAME = 'BASIS_VECTORS'                                                       "
      ]
     },
     "execution_count": 27,
     "metadata": {},
     "output_type": "execute_result"
    }
   ],
   "source": [
    "hdu[0].header"
   ]
  },
  {
   "cell_type": "code",
   "execution_count": 28,
   "metadata": {},
   "outputs": [],
   "source": [
    "flux = hdu[0].data"
   ]
  },
  {
   "cell_type": "code",
   "execution_count": 29,
   "metadata": {},
   "outputs": [],
   "source": [
    "#- Generate templates and resample to 0.1A grid that covers\n",
    "#- z=0 to 1.85 for obsframe wavelengths 3500 to 11000, purposefully\n",
    "#- avoiding Lyman-alpha to focus PCA variations on other lines\n",
    "dw = 0.1\n",
    "wave = np.arange(3500/(1+1.85), 11000+dw/2, dw)"
   ]
  },
  {
   "cell_type": "code",
   "execution_count": 30,
   "metadata": {},
   "outputs": [
    {
     "data": {
      "text/plain": [
       "(3700.0, 3740.0)"
      ]
     },
     "execution_count": 30,
     "metadata": {},
     "output_type": "execute_result"
    },
    {
     "data": {
      "image/png": "[encoded data removed]",
      "text/plain": [
       "<Figure size 1440x576 with 1 Axes>"
      ]
     },
     "metadata": {
      "needs_background": "light"
     },
     "output_type": "display_data"
    }
   ],
   "source": [
    "plt.figure(figsize=(20,8))\n",
    "plt.plot(wave, flux[0,:]) # there are 10 templates. Any spectra can be a linear combination of these 10\n",
    "plt.xlim(3700, 3740)"
   ]
  },
  {
   "cell_type": "code",
   "execution_count": 31,
   "metadata": {},
   "outputs": [
    {
     "data": {
      "text/plain": [
       "(10, 97720)"
      ]
     },
     "execution_count": 31,
     "metadata": {},
     "output_type": "execute_result"
    }
   ],
   "source": [
    "flux.shape"
   ]
  },
  {
   "cell_type": "code",
   "execution_count": null,
   "metadata": {},
   "outputs": [],
   "source": []
  }
 ],
 "metadata": {
  "kernelspec": {
   "display_name": "DESI master",
   "language": "python",
   "name": "desi-master"
  },
  "language_info": {
   "codemirror_mode": {
    "name": "ipython",
    "version": 3
   },
   "file_extension": ".py",
   "mimetype": "text/x-python",
   "name": "python",
   "nbconvert_exporter": "python",
   "pygments_lexer": "ipython3",
   "version": "3.8.3"
  }
 },
 "nbformat": 4,
 "nbformat_minor": 4
}
