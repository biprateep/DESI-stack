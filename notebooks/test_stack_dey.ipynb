{
 "cells": [
  {
   "cell_type": "markdown",
   "metadata": {},
   "source": [
    "# Notebook to test DESI stack algorithm"
   ]
  },
  {
   "cell_type": "code",
   "execution_count": null,
   "metadata": {},
   "outputs": [],
   "source": [
    "from pathlib import Path\n",
    "\n",
    "import numpy as np\n",
    "import matplotlib.pyplot as plt\n",
    "from astropy.table import Table\n",
    "\n",
    "import speclite\n",
    "import desispec.io\n",
    "import sys\n",
    "from bokeh.plotting import figure, show\n",
    "from bokeh.io import output_notebook\n",
    "from astropy.convolution import convolve, Box1DKernel, Gaussian1DKernel\n",
    "output_notebook()"
   ]
  },
  {
   "cell_type": "code",
   "execution_count": null,
   "metadata": {},
   "outputs": [],
   "source": [
    "my_path = Path(\"/global/cscratch1/sd/bid13/stack-spectra\")"
   ]
  },
  {
   "cell_type": "code",
   "execution_count": null,
   "metadata": {},
   "outputs": [],
   "source": [
    "zcat = Table.read(my_path / \"zcat.fits\")\n",
    "spectra = desispec.io.read_spectra(my_path / \"spectra_coadd_cam.fits\")"
   ]
  },
  {
   "cell_type": "code",
   "execution_count": null,
   "metadata": {},
   "outputs": [],
   "source": [
    "def random_plot_spec(flux, wave, num_plot=1, **args):\n",
    "    fig = plt.figure(figsize=(20,8))\n",
    "    if flux.ndim==1:\n",
    "        plt.plot(wave,flux, **args)\n",
    "    else:\n",
    "        num_spec=flux.shape[0]\n",
    "        if wave.ndim==1:\n",
    "            wave = np.repeat(wave[np.newaxis,:], num_spec, axis=0)\n",
    "        idx = np.random.choice(num_spec, size=num_plot, replace=False)\n",
    "        for count, i in enumerate(idx):\n",
    "            plt.plot(wave[i],flux[i], lw=0.5)\n",
    "    plt.ylim(5,-5)\n",
    "#     return fig"
   ]
  },
  {
   "cell_type": "code",
   "execution_count": null,
   "metadata": {},
   "outputs": [],
   "source": [
    "flux = spectra.flux[\"brz\"]\n",
    "wave = spectra.wave[\"brz\"]\n",
    "ivar = spectra.ivar[\"brz\"]\n",
    "z = zcat[\"Z\"]"
   ]
  },
  {
   "cell_type": "code",
   "execution_count": null,
   "metadata": {},
   "outputs": [],
   "source": [
    "index =1\n",
    "p = figure(title=\"Spectra\", x_axis_label='Wavelength', y_axis_label='Flux', plot_width=1000, plot_height=300, y_range=(-1, 1))\n",
    "p.line(wave, flux[index], legend_label=\"Temp.\", line_width=2)\n",
    "p.line(wave, convolve(flux[index],Gaussian1DKernel(9)), legend_label=\"Temp.\", line_width=2, color=\"orange\")\n",
    "\n",
    "show(p)"
   ]
  },
  {
   "cell_type": "code",
   "execution_count": null,
   "metadata": {},
   "outputs": [],
   "source": [
    "random_plot_spec(flux, wave, 10)"
   ]
  },
  {
   "cell_type": "code",
   "execution_count": null,
   "metadata": {},
   "outputs": [],
   "source": [
    "from importlib import reload\n",
    "import sys\n",
    "sys.path.append(\"../\")\n",
    "\n",
    "import stack_spectra\n",
    "reload(stack_spectra)\n",
    "import spectral_resampling \n",
    "reload(spectral_resampling)"
   ]
  },
  {
   "cell_type": "code",
   "execution_count": null,
   "metadata": {},
   "outputs": [],
   "source": [
    "# wavegrid = np.arange(3000, 5000, 0.8)\n",
    "flux_new, ivar_new, wave_new = stack_spectra._common_grid(flux,wave,ivar,z)"
   ]
  },
  {
   "cell_type": "code",
   "execution_count": null,
   "metadata": {},
   "outputs": [],
   "source": [
    "index =3\n",
    "p = figure(title=\"Spectra\", x_axis_label='Wavelength', y_axis_label='Flux', plot_width=1000, plot_height=300, y_range=(-1, 1), tooltips=[('Flux', '$x'), ('Wavelength', '$y')])\n",
    "p.line(wave_new, flux_new[index], legend_label=\"Temp.\", line_width=2)\n",
    "p.line(wave_new, convolve(flux_new[index],Gaussian1DKernel(2)), legend_label=\"Temp.\", line_width=2, color=\"orange\")\n",
    "\n",
    "show(p)"
   ]
  },
  {
   "cell_type": "code",
   "execution_count": null,
   "metadata": {},
   "outputs": [],
   "source": [
    "x = np.nanmean(flux_new/np.nanmedian(flux_new, axis=1, keepdims=True),axis=0)\n",
    "from astropy.convolution import convolve, Box1DKernel\n",
    "smoothed_signal = convolve(x, Box1DKernel(5))\n",
    "random_plot_spec(x, wave_new)\n",
    "plt.ylim(-5,5)\n",
    "plt.xlim(3900,4000)"
   ]
  },
  {
   "cell_type": "code",
   "execution_count": null,
   "metadata": {},
   "outputs": [],
   "source": []
  },
  {
   "cell_type": "code",
   "execution_count": null,
   "metadata": {},
   "outputs": [],
   "source": [
    "random_plot_spec(flux_new, wave_new, 10)\n",
    "plt.xlim(3000, 4000)"
   ]
  }
 ],
 "metadata": {
  "kernelspec": {
   "display_name": "DESI master",
   "language": "python",
   "name": "desi-master"
  },
  "language_info": {
   "codemirror_mode": {
    "name": "ipython",
    "version": 3
   },
   "file_extension": ".py",
   "mimetype": "text/x-python",
   "name": "python",
   "nbconvert_exporter": "python",
   "pygments_lexer": "ipython3",
   "version": "3.8.3"
  }
 },
 "nbformat": 4,
 "nbformat_minor": 4
}
