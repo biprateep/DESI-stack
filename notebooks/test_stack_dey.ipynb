{
 "cells": [
  {
   "cell_type": "markdown",
   "metadata": {},
   "source": [
    "### Model Ivar using sky"
   ]
  },
  {
   "cell_type": "code",
   "execution_count": 1,
   "metadata": {},
   "outputs": [
    {
     "data": {
      "text/html": [
       "\n",
       "    <div class=\"bk-root\">\n",
       "        <a href=\"https://bokeh.org\" target=\"_blank\" class=\"bk-logo bk-logo-small bk-logo-notebook\"></a>\n",
       "        <span id=\"1001\">Loading BokehJS ...</span>\n",
       "    </div>"
      ]
     },
     "metadata": {},
     "output_type": "display_data"
    },
    {
     "data": {
      "application/javascript": [
       "\n",
       "(function(root) {\n",
       "  function now() {\n",
       "    return new Date();\n",
       "  }\n",
       "\n",
       "  var force = true;\n",
       "\n",
       "  if (typeof root._bokeh_onload_callbacks === \"undefined\" || force === true) {\n",
       "    root._bokeh_onload_callbacks = [];\n",
       "    root._bokeh_is_loading = undefined;\n",
       "  }\n",
       "\n",
       "  var JS_MIME_TYPE = 'application/javascript';\n",
       "  var HTML_MIME_TYPE = 'text/html';\n",
       "  var EXEC_MIME_TYPE = 'application/vnd.bokehjs_exec.v0+json';\n",
       "  var CLASS_NAME = 'output_bokeh rendered_html';\n",
       "\n",
       "  /**\n",
       "   * Render data to the DOM node\n",
       "   */\n",
       "  function render(props, node) {\n",
       "    var script = document.createElement(\"script\");\n",
       "    node.appendChild(script);\n",
       "  }\n",
       "\n",
       "  /**\n",
       "   * Handle when an output is cleared or removed\n",
       "   */\n",
       "  function handleClearOutput(event, handle) {\n",
       "    var cell = handle.cell;\n",
       "\n",
       "    var id = cell.output_area._bokeh_element_id;\n",
       "    var server_id = cell.output_area._bokeh_server_id;\n",
       "    // Clean up Bokeh references\n",
       "    if (id != null && id in Bokeh.index) {\n",
       "      Bokeh.index[id].model.document.clear();\n",
       "      delete Bokeh.index[id];\n",
       "    }\n",
       "\n",
       "    if (server_id !== undefined) {\n",
       "      // Clean up Bokeh references\n",
       "      var cmd = \"from bokeh.io.state import curstate; print(curstate().uuid_to_server['\" + server_id + \"'].get_sessions()[0].document.roots[0]._id)\";\n",
       "      cell.notebook.kernel.execute(cmd, {\n",
       "        iopub: {\n",
       "          output: function(msg) {\n",
       "            var id = msg.content.text.trim();\n",
       "            if (id in Bokeh.index) {\n",
       "              Bokeh.index[id].model.document.clear();\n",
       "              delete Bokeh.index[id];\n",
       "            }\n",
       "          }\n",
       "        }\n",
       "      });\n",
       "      // Destroy server and session\n",
       "      var cmd = \"import bokeh.io.notebook as ion; ion.destroy_server('\" + server_id + \"')\";\n",
       "      cell.notebook.kernel.execute(cmd);\n",
       "    }\n",
       "  }\n",
       "\n",
       "  /**\n",
       "   * Handle when a new output is added\n",
       "   */\n",
       "  function handleAddOutput(event, handle) {\n",
       "    var output_area = handle.output_area;\n",
       "    var output = handle.output;\n",
       "\n",
       "    // limit handleAddOutput to display_data with EXEC_MIME_TYPE content only\n",
       "    if ((output.output_type != \"display_data\") || (!output.data.hasOwnProperty(EXEC_MIME_TYPE))) {\n",
       "      return\n",
       "    }\n",
       "\n",
       "    var toinsert = output_area.element.find(\".\" + CLASS_NAME.split(' ')[0]);\n",
       "\n",
       "    if (output.metadata[EXEC_MIME_TYPE][\"id\"] !== undefined) {\n",
       "      toinsert[toinsert.length - 1].firstChild.textContent = output.data[JS_MIME_TYPE];\n",
       "      // store reference to embed id on output_area\n",
       "      output_area._bokeh_element_id = output.metadata[EXEC_MIME_TYPE][\"id\"];\n",
       "    }\n",
       "    if (output.metadata[EXEC_MIME_TYPE][\"server_id\"] !== undefined) {\n",
       "      var bk_div = document.createElement(\"div\");\n",
       "      bk_div.innerHTML = output.data[HTML_MIME_TYPE];\n",
       "      var script_attrs = bk_div.children[0].attributes;\n",
       "      for (var i = 0; i < script_attrs.length; i++) {\n",
       "        toinsert[toinsert.length - 1].firstChild.setAttribute(script_attrs[i].name, script_attrs[i].value);\n",
       "        toinsert[toinsert.length - 1].firstChild.textContent = bk_div.children[0].textContent\n",
       "      }\n",
       "      // store reference to server id on output_area\n",
       "      output_area._bokeh_server_id = output.metadata[EXEC_MIME_TYPE][\"server_id\"];\n",
       "    }\n",
       "  }\n",
       "\n",
       "  function register_renderer(events, OutputArea) {\n",
       "\n",
       "    function append_mime(data, metadata, element) {\n",
       "      // create a DOM node to render to\n",
       "      var toinsert = this.create_output_subarea(\n",
       "        metadata,\n",
       "        CLASS_NAME,\n",
       "        EXEC_MIME_TYPE\n",
       "      );\n",
       "      this.keyboard_manager.register_events(toinsert);\n",
       "      // Render to node\n",
       "      var props = {data: data, metadata: metadata[EXEC_MIME_TYPE]};\n",
       "      render(props, toinsert[toinsert.length - 1]);\n",
       "      element.append(toinsert);\n",
       "      return toinsert\n",
       "    }\n",
       "\n",
       "    /* Handle when an output is cleared or removed */\n",
       "    events.on('clear_output.CodeCell', handleClearOutput);\n",
       "    events.on('delete.Cell', handleClearOutput);\n",
       "\n",
       "    /* Handle when a new output is added */\n",
       "    events.on('output_added.OutputArea', handleAddOutput);\n",
       "\n",
       "    /**\n",
       "     * Register the mime type and append_mime function with output_area\n",
       "     */\n",
       "    OutputArea.prototype.register_mime_type(EXEC_MIME_TYPE, append_mime, {\n",
       "      /* Is output safe? */\n",
       "      safe: true,\n",
       "      /* Index of renderer in `output_area.display_order` */\n",
       "      index: 0\n",
       "    });\n",
       "  }\n",
       "\n",
       "  // register the mime type if in Jupyter Notebook environment and previously unregistered\n",
       "  if (root.Jupyter !== undefined) {\n",
       "    var events = require('base/js/events');\n",
       "    var OutputArea = require('notebook/js/outputarea').OutputArea;\n",
       "\n",
       "    if (OutputArea.prototype.mime_types().indexOf(EXEC_MIME_TYPE) == -1) {\n",
       "      register_renderer(events, OutputArea);\n",
       "    }\n",
       "  }\n",
       "\n",
       "  \n",
       "  if (typeof (root._bokeh_timeout) === \"undefined\" || force === true) {\n",
       "    root._bokeh_timeout = Date.now() + 5000;\n",
       "    root._bokeh_failed_load = false;\n",
       "  }\n",
       "\n",
       "  var NB_LOAD_WARNING = {'data': {'text/html':\n",
       "     \"<div style='background-color: #fdd'>\\n\"+\n",
       "     \"<p>\\n\"+\n",
       "     \"BokehJS does not appear to have successfully loaded. If loading BokehJS from CDN, this \\n\"+\n",
       "     \"may be due to a slow or bad network connection. Possible fixes:\\n\"+\n",
       "     \"</p>\\n\"+\n",
       "     \"<ul>\\n\"+\n",
       "     \"<li>re-rerun `output_notebook()` to attempt to load from CDN again, or</li>\\n\"+\n",
       "     \"<li>use INLINE resources instead, as so:</li>\\n\"+\n",
       "     \"</ul>\\n\"+\n",
       "     \"<code>\\n\"+\n",
       "     \"from bokeh.resources import INLINE\\n\"+\n",
       "     \"output_notebook(resources=INLINE)\\n\"+\n",
       "     \"</code>\\n\"+\n",
       "     \"</div>\"}};\n",
       "\n",
       "  function display_loaded() {\n",
       "    var el = document.getElementById(\"1001\");\n",
       "    if (el != null) {\n",
       "      el.textContent = \"BokehJS is loading...\";\n",
       "    }\n",
       "    if (root.Bokeh !== undefined) {\n",
       "      if (el != null) {\n",
       "        el.textContent = \"BokehJS \" + root.Bokeh.version + \" successfully loaded.\";\n",
       "      }\n",
       "    } else if (Date.now() < root._bokeh_timeout) {\n",
       "      setTimeout(display_loaded, 100)\n",
       "    }\n",
       "  }\n",
       "\n",
       "\n",
       "  function run_callbacks() {\n",
       "    try {\n",
       "      root._bokeh_onload_callbacks.forEach(function(callback) {\n",
       "        if (callback != null)\n",
       "          callback();\n",
       "      });\n",
       "    } finally {\n",
       "      delete root._bokeh_onload_callbacks\n",
       "    }\n",
       "    console.debug(\"Bokeh: all callbacks have finished\");\n",
       "  }\n",
       "\n",
       "  function load_libs(css_urls, js_urls, callback) {\n",
       "    if (css_urls == null) css_urls = [];\n",
       "    if (js_urls == null) js_urls = [];\n",
       "\n",
       "    root._bokeh_onload_callbacks.push(callback);\n",
       "    if (root._bokeh_is_loading > 0) {\n",
       "      console.debug(\"Bokeh: BokehJS is being loaded, scheduling callback at\", now());\n",
       "      return null;\n",
       "    }\n",
       "    if (js_urls == null || js_urls.length === 0) {\n",
       "      run_callbacks();\n",
       "      return null;\n",
       "    }\n",
       "    console.debug(\"Bokeh: BokehJS not loaded, scheduling load and callback at\", now());\n",
       "    root._bokeh_is_loading = css_urls.length + js_urls.length;\n",
       "\n",
       "    function on_load() {\n",
       "      root._bokeh_is_loading--;\n",
       "      if (root._bokeh_is_loading === 0) {\n",
       "        console.debug(\"Bokeh: all BokehJS libraries/stylesheets loaded\");\n",
       "        run_callbacks()\n",
       "      }\n",
       "    }\n",
       "\n",
       "    function on_error() {\n",
       "      console.error(\"failed to load \" + url);\n",
       "    }\n",
       "\n",
       "    for (var i = 0; i < css_urls.length; i++) {\n",
       "      var url = css_urls[i];\n",
       "      const element = document.createElement(\"link\");\n",
       "      element.onload = on_load;\n",
       "      element.onerror = on_error;\n",
       "      element.rel = \"stylesheet\";\n",
       "      element.type = \"text/css\";\n",
       "      element.href = url;\n",
       "      console.debug(\"Bokeh: injecting link tag for BokehJS stylesheet: \", url);\n",
       "      document.body.appendChild(element);\n",
       "    }\n",
       "\n",
       "    const hashes = {\"https://cdn.bokeh.org/bokeh/release/bokeh-2.1.1.min.js\": \"kLr4fYcqcSpbuI95brIH3vnnYCquzzSxHPU6XGQCIkQRGJwhg0StNbj1eegrHs12\", \"https://cdn.bokeh.org/bokeh/release/bokeh-widgets-2.1.1.min.js\": \"xIGPmVtaOm+z0BqfSOMn4lOR6ciex448GIKG4eE61LsAvmGj48XcMQZtKcE/UXZe\", \"https://cdn.bokeh.org/bokeh/release/bokeh-tables-2.1.1.min.js\": \"Dc9u1wF/0zApGIWoBbH77iWEHtdmkuYWG839Uzmv8y8yBLXebjO9ZnERsde5Ln/P\", \"https://cdn.bokeh.org/bokeh/release/bokeh-gl-2.1.1.min.js\": \"cT9JaBz7GiRXdENrJLZNSC6eMNF3nh3fa5fTF51Svp+ukxPdwcU5kGXGPBgDCa2j\"};\n",
       "\n",
       "    for (var i = 0; i < js_urls.length; i++) {\n",
       "      var url = js_urls[i];\n",
       "      var element = document.createElement('script');\n",
       "      element.onload = on_load;\n",
       "      element.onerror = on_error;\n",
       "      element.async = false;\n",
       "      element.src = url;\n",
       "      if (url in hashes) {\n",
       "        element.crossOrigin = \"anonymous\";\n",
       "        element.integrity = \"sha384-\" + hashes[url];\n",
       "      }\n",
       "      console.debug(\"Bokeh: injecting script tag for BokehJS library: \", url);\n",
       "      document.head.appendChild(element);\n",
       "    }\n",
       "  };\n",
       "\n",
       "  function inject_raw_css(css) {\n",
       "    const element = document.createElement(\"style\");\n",
       "    element.appendChild(document.createTextNode(css));\n",
       "    document.body.appendChild(element);\n",
       "  }\n",
       "\n",
       "  \n",
       "  var js_urls = [\"https://cdn.bokeh.org/bokeh/release/bokeh-2.1.1.min.js\", \"https://cdn.bokeh.org/bokeh/release/bokeh-widgets-2.1.1.min.js\", \"https://cdn.bokeh.org/bokeh/release/bokeh-tables-2.1.1.min.js\", \"https://cdn.bokeh.org/bokeh/release/bokeh-gl-2.1.1.min.js\"];\n",
       "  var css_urls = [];\n",
       "  \n",
       "\n",
       "  var inline_js = [\n",
       "    function(Bokeh) {\n",
       "      Bokeh.set_log_level(\"info\");\n",
       "    },\n",
       "    function(Bokeh) {\n",
       "    \n",
       "    \n",
       "    }\n",
       "  ];\n",
       "\n",
       "  function run_inline_js() {\n",
       "    \n",
       "    if (root.Bokeh !== undefined || force === true) {\n",
       "      \n",
       "    for (var i = 0; i < inline_js.length; i++) {\n",
       "      inline_js[i].call(root, root.Bokeh);\n",
       "    }\n",
       "    if (force === true) {\n",
       "        display_loaded();\n",
       "      }} else if (Date.now() < root._bokeh_timeout) {\n",
       "      setTimeout(run_inline_js, 100);\n",
       "    } else if (!root._bokeh_failed_load) {\n",
       "      console.log(\"Bokeh: BokehJS failed to load within specified timeout.\");\n",
       "      root._bokeh_failed_load = true;\n",
       "    } else if (force !== true) {\n",
       "      var cell = $(document.getElementById(\"1001\")).parents('.cell').data().cell;\n",
       "      cell.output_area.append_execute_result(NB_LOAD_WARNING)\n",
       "    }\n",
       "\n",
       "  }\n",
       "\n",
       "  if (root._bokeh_is_loading === 0) {\n",
       "    console.debug(\"Bokeh: BokehJS loaded, going straight to plotting\");\n",
       "    run_inline_js();\n",
       "  } else {\n",
       "    load_libs(css_urls, js_urls, function() {\n",
       "      console.debug(\"Bokeh: BokehJS plotting callback run at\", now());\n",
       "      run_inline_js();\n",
       "    });\n",
       "  }\n",
       "}(window));"
      ],
      "application/vnd.bokehjs_load.v0+json": "\n(function(root) {\n  function now() {\n    return new Date();\n  }\n\n  var force = true;\n\n  if (typeof root._bokeh_onload_callbacks === \"undefined\" || force === true) {\n    root._bokeh_onload_callbacks = [];\n    root._bokeh_is_loading = undefined;\n  }\n\n  \n\n  \n  if (typeof (root._bokeh_timeout) === \"undefined\" || force === true) {\n    root._bokeh_timeout = Date.now() + 5000;\n    root._bokeh_failed_load = false;\n  }\n\n  var NB_LOAD_WARNING = {'data': {'text/html':\n     \"<div style='background-color: #fdd'>\\n\"+\n     \"<p>\\n\"+\n     \"BokehJS does not appear to have successfully loaded. If loading BokehJS from CDN, this \\n\"+\n     \"may be due to a slow or bad network connection. Possible fixes:\\n\"+\n     \"</p>\\n\"+\n     \"<ul>\\n\"+\n     \"<li>re-rerun `output_notebook()` to attempt to load from CDN again, or</li>\\n\"+\n     \"<li>use INLINE resources instead, as so:</li>\\n\"+\n     \"</ul>\\n\"+\n     \"<code>\\n\"+\n     \"from bokeh.resources import INLINE\\n\"+\n     \"output_notebook(resources=INLINE)\\n\"+\n     \"</code>\\n\"+\n     \"</div>\"}};\n\n  function display_loaded() {\n    var el = document.getElementById(\"1001\");\n    if (el != null) {\n      el.textContent = \"BokehJS is loading...\";\n    }\n    if (root.Bokeh !== undefined) {\n      if (el != null) {\n        el.textContent = \"BokehJS \" + root.Bokeh.version + \" successfully loaded.\";\n      }\n    } else if (Date.now() < root._bokeh_timeout) {\n      setTimeout(display_loaded, 100)\n    }\n  }\n\n\n  function run_callbacks() {\n    try {\n      root._bokeh_onload_callbacks.forEach(function(callback) {\n        if (callback != null)\n          callback();\n      });\n    } finally {\n      delete root._bokeh_onload_callbacks\n    }\n    console.debug(\"Bokeh: all callbacks have finished\");\n  }\n\n  function load_libs(css_urls, js_urls, callback) {\n    if (css_urls == null) css_urls = [];\n    if (js_urls == null) js_urls = [];\n\n    root._bokeh_onload_callbacks.push(callback);\n    if (root._bokeh_is_loading > 0) {\n      console.debug(\"Bokeh: BokehJS is being loaded, scheduling callback at\", now());\n      return null;\n    }\n    if (js_urls == null || js_urls.length === 0) {\n      run_callbacks();\n      return null;\n    }\n    console.debug(\"Bokeh: BokehJS not loaded, scheduling load and callback at\", now());\n    root._bokeh_is_loading = css_urls.length + js_urls.length;\n\n    function on_load() {\n      root._bokeh_is_loading--;\n      if (root._bokeh_is_loading === 0) {\n        console.debug(\"Bokeh: all BokehJS libraries/stylesheets loaded\");\n        run_callbacks()\n      }\n    }\n\n    function on_error() {\n      console.error(\"failed to load \" + url);\n    }\n\n    for (var i = 0; i < css_urls.length; i++) {\n      var url = css_urls[i];\n      const element = document.createElement(\"link\");\n      element.onload = on_load;\n      element.onerror = on_error;\n      element.rel = \"stylesheet\";\n      element.type = \"text/css\";\n      element.href = url;\n      console.debug(\"Bokeh: injecting link tag for BokehJS stylesheet: \", url);\n      document.body.appendChild(element);\n    }\n\n    const hashes = {\"https://cdn.bokeh.org/bokeh/release/bokeh-2.1.1.min.js\": \"kLr4fYcqcSpbuI95brIH3vnnYCquzzSxHPU6XGQCIkQRGJwhg0StNbj1eegrHs12\", \"https://cdn.bokeh.org/bokeh/release/bokeh-widgets-2.1.1.min.js\": \"xIGPmVtaOm+z0BqfSOMn4lOR6ciex448GIKG4eE61LsAvmGj48XcMQZtKcE/UXZe\", \"https://cdn.bokeh.org/bokeh/release/bokeh-tables-2.1.1.min.js\": \"Dc9u1wF/0zApGIWoBbH77iWEHtdmkuYWG839Uzmv8y8yBLXebjO9ZnERsde5Ln/P\", \"https://cdn.bokeh.org/bokeh/release/bokeh-gl-2.1.1.min.js\": \"cT9JaBz7GiRXdENrJLZNSC6eMNF3nh3fa5fTF51Svp+ukxPdwcU5kGXGPBgDCa2j\"};\n\n    for (var i = 0; i < js_urls.length; i++) {\n      var url = js_urls[i];\n      var element = document.createElement('script');\n      element.onload = on_load;\n      element.onerror = on_error;\n      element.async = false;\n      element.src = url;\n      if (url in hashes) {\n        element.crossOrigin = \"anonymous\";\n        element.integrity = \"sha384-\" + hashes[url];\n      }\n      console.debug(\"Bokeh: injecting script tag for BokehJS library: \", url);\n      document.head.appendChild(element);\n    }\n  };\n\n  function inject_raw_css(css) {\n    const element = document.createElement(\"style\");\n    element.appendChild(document.createTextNode(css));\n    document.body.appendChild(element);\n  }\n\n  \n  var js_urls = [\"https://cdn.bokeh.org/bokeh/release/bokeh-2.1.1.min.js\", \"https://cdn.bokeh.org/bokeh/release/bokeh-widgets-2.1.1.min.js\", \"https://cdn.bokeh.org/bokeh/release/bokeh-tables-2.1.1.min.js\", \"https://cdn.bokeh.org/bokeh/release/bokeh-gl-2.1.1.min.js\"];\n  var css_urls = [];\n  \n\n  var inline_js = [\n    function(Bokeh) {\n      Bokeh.set_log_level(\"info\");\n    },\n    function(Bokeh) {\n    \n    \n    }\n  ];\n\n  function run_inline_js() {\n    \n    if (root.Bokeh !== undefined || force === true) {\n      \n    for (var i = 0; i < inline_js.length; i++) {\n      inline_js[i].call(root, root.Bokeh);\n    }\n    if (force === true) {\n        display_loaded();\n      }} else if (Date.now() < root._bokeh_timeout) {\n      setTimeout(run_inline_js, 100);\n    } else if (!root._bokeh_failed_load) {\n      console.log(\"Bokeh: BokehJS failed to load within specified timeout.\");\n      root._bokeh_failed_load = true;\n    } else if (force !== true) {\n      var cell = $(document.getElementById(\"1001\")).parents('.cell').data().cell;\n      cell.output_area.append_execute_result(NB_LOAD_WARNING)\n    }\n\n  }\n\n  if (root._bokeh_is_loading === 0) {\n    console.debug(\"Bokeh: BokehJS loaded, going straight to plotting\");\n    run_inline_js();\n  } else {\n    load_libs(css_urls, js_urls, function() {\n      console.debug(\"Bokeh: BokehJS plotting callback run at\", now());\n      run_inline_js();\n    });\n  }\n}(window));"
     },
     "metadata": {},
     "output_type": "display_data"
    },
    {
     "data": {
      "text/plain": [
       "<module 'stack_spectra' from '../stack_spectra.py'>"
      ]
     },
     "execution_count": 1,
     "metadata": {},
     "output_type": "execute_result"
    }
   ],
   "source": [
    "import numpy as np\n",
    "from pathlib import Path\n",
    "from astropy.io import fits\n",
    "from astropy.table import Table, vstack, hstack, unique,join\n",
    "import matplotlib.pyplot as plt\n",
    "import pandas as pd\n",
    "import sys\n",
    "\n",
    "# sys.path.append(\"/global/u2/b/bid13/VI/prospect/py\")\n",
    "\n",
    "import desispec.coaddition\n",
    "import desispec.io\n",
    "import desispec.spectra\n",
    "# from desitarget.cmx.cmx_targetmask import cmx_mask\n",
    "from desitarget.sv1.sv1_targetmask import desi_mask\n",
    "from prospect import utilities,plotframes, myspecselect, myspecupdate\n",
    "from scipy.interpolate import interp1d\n",
    "from scipy.ndimage import median_filter\n",
    "from scipy.stats import binned_statistic\n",
    "from desispec.coaddition import coadd_cameras\n",
    "from prospect import utilities ,plotframes\n",
    "# from prospect_my import plotframes\n",
    "from bokeh.plotting import figure, show, save\n",
    "from bokeh.io import output_notebook\n",
    "from astropy.convolution import convolve, Box1DKernel, Gaussian1DKernel\n",
    "output_notebook()\n",
    "from sklearn.preprocessing import StandardScaler, PolynomialFeatures\n",
    "from sklearn.linear_model import LinearRegression, LassoCV\n",
    "\n",
    "sys.path.append(\"../\")\n",
    "from importlib import reload\n",
    "import stack_spectra\n",
    "reload(stack_spectra)"
   ]
  },
  {
   "cell_type": "code",
   "execution_count": 2,
   "metadata": {},
   "outputs": [],
   "source": [
    "my_path = Path(\"/global/cscratch1/sd/bid13/stack_spectra\")"
   ]
  },
  {
   "cell_type": "code",
   "execution_count": 3,
   "metadata": {},
   "outputs": [
    {
     "name": "stdout",
     "output_type": "stream",
     "text": [
      "INFO:spectra.py:253:read_spectra: iotime 0.078 sec to read spectra_bright.fits at 2021-05-01T07:42:33.739594\n"
     ]
    }
   ],
   "source": [
    "spec = desispec.io.read_spectra(my_path /  \"spectra_bright.fits\")\n",
    "zcat = Table.read(my_path / \"zcat_bright.fits\")\n",
    "flux_cam = spec.flux\n",
    "wave_cam = spec.wave\n",
    "ivar_cam = spec.ivar"
   ]
  },
  {
   "cell_type": "code",
   "execution_count": 4,
   "metadata": {},
   "outputs": [
    {
     "name": "stdout",
     "output_type": "stream",
     "text": [
      "INFO:spectra.py:253:read_spectra: iotime 0.071 sec to read sky_bright.fits at 2021-05-01T07:42:33.900253\n"
     ]
    }
   ],
   "source": [
    "sky = desispec.io.read_spectra(my_path /  \"sky_bright.fits\")"
   ]
  },
  {
   "cell_type": "code",
   "execution_count": 5,
   "metadata": {},
   "outputs": [],
   "source": [
    "sky_flux_cam = sky.flux\n",
    "sky_ivar_cam = sky.ivar\n",
    "sky_wave_cam = sky.wave"
   ]
  },
  {
   "cell_type": "code",
   "execution_count": 6,
   "metadata": {},
   "outputs": [],
   "source": [
    "sky_flux, wave, sky_ivar = stack_spectra._coadd_cameras(sky_flux_cam, sky_wave_cam, sky_ivar_cam)\n",
    "\n",
    "flux, wave, ivar = stack_spectra._coadd_cameras(flux_cam, wave_cam, ivar_cam)\n",
    "\n",
    "# _, _, ivar_model = stack_spectra._coadd_cameras(flux_cam, wave_cam, proc_ivar)"
   ]
  },
  {
   "cell_type": "code",
   "execution_count": 7,
   "metadata": {},
   "outputs": [
    {
     "data": {
      "image/png": "[encoded data removed]",
      "text/plain": [
       "<Figure size 1080x288 with 1 Axes>"
      ]
     },
     "metadata": {
      "needs_background": "light"
     },
     "output_type": "display_data"
    }
   ],
   "source": [
    "plt.figure(figsize=(15,4))\n",
    "plt.plot(wave, flux[0])\n",
    "plt.plot(stack_spectra._redshift(wave, zcat[\"Z\"][0], 0, \"wave\")[0], stack_spectra._redshift(flux[0], zcat[\"Z\"][0], 0, \"flux\")[0])\n",
    "plt.xlabel(\"Wavelength ($\\AA$)\", size=20)\n",
    "plt.ylabel(\"Flux\", size=20)\n",
    "plt.savefig(\"../../figs/redshift.jpg\", bbox_inches='tight')"
   ]
  },
  {
   "cell_type": "code",
   "execution_count": 8,
   "metadata": {},
   "outputs": [
    {
     "name": "stderr",
     "output_type": "stream",
     "text": [
      "<ipython-input-8-50298917278f>:19: RuntimeWarning: divide by zero encountered in true_divide\n",
      "  obj_var = 1/(ivar[i])\n"
     ]
    }
   ],
   "source": [
    "n_obj = len(sky_ivar)\n",
    "sky_var = 1/sky_ivar\n",
    "\n",
    "ivar_model = np.zeros_like(ivar)\n",
    "\n",
    "for i in range(n_obj):\n",
    "    sky_mask = np.isfinite(sky_var[i])\n",
    "    sky_var_interp = interp1d(wave[sky_mask], sky_var[i][sky_mask], fill_value=\"extrapolate\", axis=-1)\n",
    "    sky_var[i] = sky_var_interp(wave)\n",
    "    sky_var[i] = sky_var[i]/median_filter(sky_var[i], 100) #takes out the overall shape of sky var\n",
    "\n",
    "    #Create polunomial function of wavelength\n",
    "    poly_feat_m = PolynomialFeatures(3)\n",
    "    poly_feat_c = PolynomialFeatures(3)\n",
    "    coef_m = poly_feat_m.fit_transform(wave[:,np.newaxis])\n",
    "    coef_c = poly_feat_c.fit_transform(wave[:,np.newaxis])\n",
    "\n",
    "    \n",
    "    obj_var = 1/(ivar[i])\n",
    "    obj_mask = np.isfinite(obj_var) #TODO Check for Nan values here\n",
    "    obj_back = median_filter(obj_var[obj_mask],100, mode=\"nearest\") \n",
    "    X = np.concatenate([(coef_m*sky_var[i][:,np.newaxis])[obj_mask], coef_c[obj_mask]], axis =1)+obj_back[:, np.newaxis]\n",
    "    Y = obj_var[obj_mask]\n",
    "    model = LinearRegression(fit_intercept=False, n_jobs=-1)\n",
    "    model.fit(X,Y)\n",
    "    y_predict = model.predict(X)\n",
    "    residual = (Y-y_predict)/Y\n",
    "    #correct for the overall shape of the residuals\n",
    "    wave_bins = np.arange(wave.min(), wave.max(), 500)\n",
    "    binned_residual, _, _ = binned_statistic(wave[obj_mask], residual, statistic=\"median\", bins=wave_bins)\n",
    "    interp_binned_res = interp1d((wave_bins[1:]+wave_bins[:-1])/2, binned_residual, kind=\"cubic\", fill_value=\"extrapolate\")\n",
    "    large_res = interp_binned_res(wave[obj_mask])\n",
    "    y_pred_adjust = large_res*Y + y_predict\n",
    "    ivar_model[i][obj_mask] = 1/y_pred_adjust\n",
    "    ivar_model[i][~obj_mask] = 0"
   ]
  },
  {
   "cell_type": "code",
   "execution_count": 9,
   "metadata": {},
   "outputs": [
    {
     "ename": "NameError",
     "evalue": "name 'new_wl' is not defined",
     "output_type": "error",
     "traceback": [
      "\u001b[0;31m---------------------------------------------------------------------------\u001b[0m",
      "\u001b[0;31mNameError\u001b[0m                                 Traceback (most recent call last)",
      "\u001b[0;32m<ipython-input-9-aa9c44a0c845>\u001b[0m in \u001b[0;36m<module>\u001b[0;34m\u001b[0m\n\u001b[1;32m      3\u001b[0m            \u001b[0my_range\u001b[0m\u001b[0;34m=\u001b[0m\u001b[0;34m(\u001b[0m\u001b[0;34m-\u001b[0m\u001b[0;36m1\u001b[0m\u001b[0;34m,\u001b[0m \u001b[0;36m3\u001b[0m\u001b[0;34m)\u001b[0m\u001b[0;34m\u001b[0m\u001b[0;34m\u001b[0m\u001b[0m\n\u001b[1;32m      4\u001b[0m           )\n\u001b[0;32m----> 5\u001b[0;31m \u001b[0mp\u001b[0m\u001b[0;34m.\u001b[0m\u001b[0mline\u001b[0m\u001b[0;34m(\u001b[0m\u001b[0mnew_wl\u001b[0m\u001b[0;34m,\u001b[0m \u001b[0mwavg_f\u001b[0m\u001b[0;34m,\u001b[0m \u001b[0mlegend_label\u001b[0m\u001b[0;34m=\u001b[0m\u001b[0;34m\"Temp.\"\u001b[0m\u001b[0;34m,\u001b[0m \u001b[0mline_width\u001b[0m\u001b[0;34m=\u001b[0m\u001b[0;36m2\u001b[0m\u001b[0;34m)\u001b[0m\u001b[0;34m\u001b[0m\u001b[0;34m\u001b[0m\u001b[0m\n\u001b[0m\u001b[1;32m      6\u001b[0m \u001b[0;31m# p.line(new_wl, convolve(wavg_f,Gaussian1DKernel(3)), legend_label=\"Temp.\", line_width=2, color=\"orange\")\u001b[0m\u001b[0;34m\u001b[0m\u001b[0;34m\u001b[0m\u001b[0;34m\u001b[0m\u001b[0m\n\u001b[1;32m      7\u001b[0m \u001b[0;34m\u001b[0m\u001b[0m\n",
      "\u001b[0;31mNameError\u001b[0m: name 'new_wl' is not defined"
     ]
    }
   ],
   "source": [
    "# index =1\n",
    "p = figure(title=\"Spectra\", x_axis_label='Wavelength', y_axis_label='Flux', plot_width=1000, plot_height=300, \n",
    "           y_range=(-1, 3)\n",
    "          )\n",
    "p.line(new_wl, wavg_f, legend_label=\"Temp.\", line_width=2)\n",
    "# p.line(new_wl, convolve(wavg_f,Gaussian1DKernel(3)), legend_label=\"Temp.\", line_width=2, color=\"orange\")\n",
    "\n",
    "show(p)"
   ]
  },
  {
   "cell_type": "code",
   "execution_count": 10,
   "metadata": {},
   "outputs": [
    {
     "ename": "NameError",
     "evalue": "name 'model_ivar' is not defined",
     "output_type": "error",
     "traceback": [
      "\u001b[0;31m---------------------------------------------------------------------------\u001b[0m",
      "\u001b[0;31mNameError\u001b[0m                                 Traceback (most recent call last)",
      "\u001b[0;32m<ipython-input-10-e32d5c868646>\u001b[0m in \u001b[0;36m<module>\u001b[0;34m\u001b[0m\n\u001b[0;32m----> 1\u001b[0;31m \u001b[0mproc_ivar\u001b[0m\u001b[0;34m=\u001b[0m \u001b[0mmodel_ivar\u001b[0m\u001b[0;34m(\u001b[0m\u001b[0msky_i\u001b[0m\u001b[0;34m,\u001b[0m \u001b[0mivar\u001b[0m\u001b[0;34m,\u001b[0m \u001b[0mwave\u001b[0m\u001b[0;34m)\u001b[0m\u001b[0;34m\u001b[0m\u001b[0;34m\u001b[0m\u001b[0m\n\u001b[0m",
      "\u001b[0;31mNameError\u001b[0m: name 'model_ivar' is not defined"
     ]
    }
   ],
   "source": [
    "proc_ivar= model_ivar(sky_i, ivar, wave)"
   ]
  },
  {
   "cell_type": "code",
   "execution_count": 21,
   "metadata": {},
   "outputs": [
    {
     "data": {
      "text/plain": [
       "<matplotlib.lines.Line2D at 0x2aaae4209af0>"
      ]
     },
     "execution_count": 21,
     "metadata": {},
     "output_type": "execute_result"
    },
    {
     "data": {
      "image/png": "[encoded data removed]",
      "text/plain": [
       "<Figure size 1080x432 with 1 Axes>"
      ]
     },
     "metadata": {
      "needs_background": "light"
     },
     "output_type": "display_data"
    }
   ],
   "source": [
    "index = 0\n",
    "\n",
    "plt.figure(figsize=(15,6))\n",
    "plt.plot(wave, (1/ivar_model[index])+5, label=\"model\")\n",
    "plt.plot(wave, (1/ivar[index])+5, label =\"observed\")\n",
    "\n",
    "# plt.figure(figsize=(15,4))\n",
    "plt.plot(wave, ((1/ivar_model[index])-(1/ivar[index]))/(1/ivar[index]), label=\"Fractional residual\")\n",
    "plt.legend(fontsize=20)\n",
    "plt.ylabel(\"Variance (arbitrary units)\",size=20)\n",
    "plt.xlabel(\"Wavelength ($\\AA$)\", size=20)\n",
    "plt.axhline(0, ls=\"--\", c=\"k\")\n",
    "\n",
    "# for c in [\"b\", \"r\", \"z\"]:\n",
    "#     plt.plot(wave_cam[c], 1/ivar_cam[c][index], c=\"C0\", label=\"observed\")\n",
    "#     plt.plot(wave_cam[c], 1/proc_ivar[c][index], c=\"C1\", label=\"modelled\")\n",
    "# plt.ylim(0,10)\n"
   ]
  },
  {
   "cell_type": "code",
   "execution_count": 12,
   "metadata": {},
   "outputs": [],
   "source": [
    "def model_ivar(ivar, sky_ivar, wave):\n",
    "    n_obj = len(sky_ivar)\n",
    "    sky_var = 1/sky_ivar\n",
    "\n",
    "    ivar_model = np.zeros_like(ivar)\n",
    "\n",
    "    for i in range(n_obj):\n",
    "        sky_mask = np.isfinite(sky_var[i])\n",
    "        sky_var_interp = interp1d(wave[sky_mask], sky_var[i][sky_mask], fill_value=\"extrapolate\", axis=-1)\n",
    "        sky_var[i] = sky_var_interp(wave)\n",
    "        sky_var[i] = sky_var[i]/median_filter(sky_var[i], 100) #takes out the overall shape of sky var\n",
    "\n",
    "        #Create polunomial function of wavelength\n",
    "        poly_feat_m = PolynomialFeatures(3)\n",
    "        poly_feat_c = PolynomialFeatures(3)\n",
    "        coef_m = poly_feat_m.fit_transform(wave[:,np.newaxis])\n",
    "        coef_c = poly_feat_c.fit_transform(wave[:,np.newaxis])\n",
    "\n",
    "\n",
    "        obj_var = 1/(ivar[i])\n",
    "        obj_mask = np.isfinite(obj_var) #TODO Check for Nan values here\n",
    "        obj_back = median_filter(obj_var[obj_mask],200, mode=\"nearest\") \n",
    "        X = np.concatenate([(coef_m*sky_var[i][:,np.newaxis])[obj_mask], coef_c[obj_mask]], axis =1)+obj_back[:, np.newaxis]\n",
    "        Y = obj_var[obj_mask]\n",
    "        model = LinearRegression(fit_intercept=False, n_jobs=-1)\n",
    "        model.fit(X,Y)\n",
    "        y_predict = model.predict(X)\n",
    "        residual = (Y-y_predict)/Y\n",
    "        #correct for the overall shape of the residuals\n",
    "        wave_bins = np.arange(wave.min(), wave.max(), 400)\n",
    "        binned_residual, _, _ = binned_statistic(wave[obj_mask], residual, statistic=\"median\", bins=wave_bins)\n",
    "        interp_binned_res = interp1d((wave_bins[1:]+wave_bins[:-1])/2, binned_residual, kind=\"cubic\", fill_value=\"extrapolate\")\n",
    "        large_res = interp_binned_res(wave[obj_mask])\n",
    "        y_pred_adjust = large_res*Y + y_predict\n",
    "        ivar_model[i][obj_mask] = 1/y_pred_adjust\n",
    "        ivar_model[i][~obj_mask] = 0\n",
    "        \n",
    "    return ivar_model"
   ]
  },
  {
   "cell_type": "code",
   "execution_count": null,
   "metadata": {},
   "outputs": [],
   "source": [
    "proc_ivar = {}\n",
    "for cam in [\"b\", \"r\", \"z\"]:\n",
    "    proc_ivar[cam] = model_ivar(ivar_cam[cam], sky_ivar_cam[cam], wave_cam[cam])"
   ]
  },
  {
   "cell_type": "code",
   "execution_count": null,
   "metadata": {},
   "outputs": [],
   "source": [
    "_, _, model_ivar_cam = stack_spectra._coadd_cameras(flux_cam, wave_cam, proc_ivar)"
   ]
  },
  {
   "cell_type": "code",
   "execution_count": null,
   "metadata": {},
   "outputs": [],
   "source": [
    "index = 1\n",
    "\n",
    "plt.figure(figsize=(15,4))\n",
    "plt.plot(wave, (1/model_ivar_cam[index])+5, label=\"model\")\n",
    "plt.plot(wave, (1/ivar[index])+5, label =\"observed\")\n",
    "plt.legend()\n",
    "# plt.figure(figsize=(15,4))\n",
    "plt.plot(wave, ((1/model_ivar_cam[index])-(1/ivar[index]))/(1/ivar[index]), label=\"model\")\n",
    "\n",
    "\n",
    "# for c in [\"b\", \"r\", \"z\"]:\n",
    "#     plt.plot(wave_cam[c], 1/ivar_cam[c][index], c=\"C0\", label=\"observed\")\n",
    "#     plt.plot(wave_cam[c], 1/proc_ivar[c][index], c=\"C1\", label=\"modelled\")\n",
    "# plt.ylim(0,10)\n"
   ]
  },
  {
   "cell_type": "code",
   "execution_count": null,
   "metadata": {},
   "outputs": [],
   "source": [
    "sky_f = sky_f[test]\n",
    "sky_i = sky_i[test]"
   ]
  },
  {
   "cell_type": "code",
   "execution_count": null,
   "metadata": {},
   "outputs": [],
   "source": [
    "def process_sky_ivar(sky_ivar, sky_wave):\n",
    "    n_obj = len(sky_ivar)\n",
    "#     sky_wave = np.tile(sky_wave, (n_obj,1))\n",
    "    sky_var = 1/sky_ivar\n",
    "    for i in range(n_obj):\n",
    "        mask = np.isfinite(sky_var[i])\n",
    "        sky_var_interp = interp1d(sky_wave[mask], sky_var[i][mask], fill_value=\"extrapolate\", axis=-1)\n",
    "        sky_var[i] = sky_var_interp(sky_wave)\n",
    "        sky_var[i] = sky_var[i]/median_filter(sky_var[i], 100)\n",
    "    return sky_var"
   ]
  },
  {
   "cell_type": "code",
   "execution_count": null,
   "metadata": {},
   "outputs": [],
   "source": [
    "sky_var = process_sky_ivar(sky_i, wave)"
   ]
  },
  {
   "cell_type": "code",
   "execution_count": null,
   "metadata": {},
   "outputs": [],
   "source": [
    "plt.plot(sky_var[0])\n",
    "plt.plot(sky_var[1])"
   ]
  },
  {
   "cell_type": "code",
   "execution_count": null,
   "metadata": {},
   "outputs": [],
   "source": [
    "index = 0\n",
    "plt.figure(figsize=(20,8))\n",
    "plt.plot(wave, sky_var[index], label=\"Normalized Sky Var\")\n",
    "plt.plot(wave, (1/ivar)[index], label=\"spectra var\")\n",
    "plt.plot(wave, median_filter((1/ivar)[index],200, mode=\"nearest\"), label=\"spectra var\")\n",
    "plt.ylim(0,10)\n",
    "plt.legend()"
   ]
  },
  {
   "cell_type": "code",
   "execution_count": null,
   "metadata": {},
   "outputs": [],
   "source": [
    "poly_feat_m = PolynomialFeatures(3)\n",
    "poly_feat_c = PolynomialFeatures(3)"
   ]
  },
  {
   "cell_type": "code",
   "execution_count": null,
   "metadata": {},
   "outputs": [],
   "source": [
    "coef_m = poly_feat_m.fit_transform(wave[:,np.newaxis])\n",
    "coef_c = poly_feat_c.fit_transform(wave[:,np.newaxis])"
   ]
  },
  {
   "cell_type": "code",
   "execution_count": null,
   "metadata": {},
   "outputs": [],
   "source": [
    "back = median_filter((1/ivar)[index],200, mode=\"nearest\")\n",
    "X = np.concatenate([coef_m*sky_var[index][:,np.newaxis], coef_c], axis =1)+back[:, np.newaxis]\n",
    "Y = (1/ivar)[index]"
   ]
  },
  {
   "cell_type": "code",
   "execution_count": null,
   "metadata": {},
   "outputs": [],
   "source": [
    "model = LinearRegression(fit_intercept=False, n_jobs=-1)\n",
    "# model = LassoCV(fit_intercept=False, normalize=True, n_jobs=-1, n_alphas=200)"
   ]
  },
  {
   "cell_type": "code",
   "execution_count": null,
   "metadata": {},
   "outputs": [],
   "source": [
    "model.fit(X,Y)"
   ]
  },
  {
   "cell_type": "code",
   "execution_count": null,
   "metadata": {},
   "outputs": [],
   "source": [
    "y_predict = model.predict(X)"
   ]
  },
  {
   "cell_type": "code",
   "execution_count": null,
   "metadata": {},
   "outputs": [],
   "source": [
    "residual = (Y-y_predict)/Y"
   ]
  },
  {
   "cell_type": "code",
   "execution_count": null,
   "metadata": {},
   "outputs": [],
   "source": [
    "wave_bins = np.arange(wave.min(), wave.max(), 500)\n",
    "binned_residual, _, _ = binned_statistic(wave, residual, statistic=\"median\", bins=wave_bins)"
   ]
  },
  {
   "cell_type": "code",
   "execution_count": null,
   "metadata": {},
   "outputs": [],
   "source": [
    "interp_binned_res = interp1d((wave_bins[1:]+wave_bins[:-1])/2, binned_residual, kind=\"cubic\", fill_value=\"extrapolate\")"
   ]
  },
  {
   "cell_type": "code",
   "execution_count": null,
   "metadata": {},
   "outputs": [],
   "source": [
    "large_res = interp_binned_res(wave)"
   ]
  },
  {
   "cell_type": "code",
   "execution_count": null,
   "metadata": {},
   "outputs": [],
   "source": [
    "plt.plot((wave_bins[1:]+wave_bins[:-1])/2, binned_residual)\n",
    "plt.plot(wave, large_res)"
   ]
  },
  {
   "cell_type": "code",
   "execution_count": null,
   "metadata": {},
   "outputs": [],
   "source": [
    "y_pred_adjust = large_res*Y + y_predict"
   ]
  },
  {
   "cell_type": "code",
   "execution_count": null,
   "metadata": {},
   "outputs": [],
   "source": [
    "plt.figure(figsize=(15,4))\n",
    "# plt.plot(sky_w, sky_f, c=\"gray\", alpha=0.5)\n",
    "\n",
    "plt.plot(wave, Y+1, label=\"Y\")\n",
    "# plt.plot(wave, flux[index] +2, c=\"gray\", alpha=0.5)\n",
    "# plt.plot(wave, y_predict+1, label=\"Y_predict\")\n",
    "plt.plot(wave, y_pred_adjust, label=\"Y_predict_adjusted\")\n",
    "plt.plot(wave, (Y-y_pred_adjust)/Y , label=\"fractional Residual\")\n",
    "plt.axhline(0,ls=\"--\",c=\"k\")\n",
    "plt.legend()\n",
    "# plt.xlim(8000,10000)\n",
    "plt.ylim(-1, 2)"
   ]
  },
  {
   "cell_type": "code",
   "execution_count": null,
   "metadata": {},
   "outputs": [],
   "source": [
    "plt.figure(figsize=(15,4))\n",
    "# plt.plot(sky_w, sky_f, c=\"gray\", alpha=0.5)\n",
    "\n",
    "\n",
    "\n",
    "# plt.ylim(-1, 2)"
   ]
  },
  {
   "cell_type": "code",
   "execution_count": null,
   "metadata": {},
   "outputs": [],
   "source": [
    "# index =1\n",
    "p = figure(title=\"Spectra\", x_axis_label='Wavelength', y_axis_label='Flux', plot_width=1000, plot_height=300, \n",
    "           y_range=(-1, 3)\n",
    "          )\n",
    "p.line(sky_w, Y, legend_label=\"Temp.\", line_width=2)\n",
    "p.line(sky_w, y_predict, legend_label=\"Temp.\", line_width=2, color=\"orange\")\n",
    "\n",
    "show(p)"
   ]
  },
  {
   "cell_type": "code",
   "execution_count": null,
   "metadata": {},
   "outputs": [],
   "source": [
    "from astropy.io import fits"
   ]
  },
  {
   "cell_type": "code",
   "execution_count": null,
   "metadata": {},
   "outputs": [],
   "source": [
    "hdu = fits.open(\"/global/common/software/desi/cori/desiconda/20180709-1.2.6-spec/code/redrock-templates/master/rrtemplate-galaxy.fits\")"
   ]
  },
  {
   "cell_type": "code",
   "execution_count": null,
   "metadata": {},
   "outputs": [],
   "source": [
    "hdu.info()"
   ]
  },
  {
   "cell_type": "code",
   "execution_count": null,
   "metadata": {},
   "outputs": [],
   "source": [
    "hdu[0].header"
   ]
  },
  {
   "cell_type": "code",
   "execution_count": null,
   "metadata": {},
   "outputs": [],
   "source": [
    "flux = hdu[0].data"
   ]
  },
  {
   "cell_type": "code",
   "execution_count": null,
   "metadata": {},
   "outputs": [],
   "source": [
    "#- Generate templates and resample to 0.1A grid that covers\n",
    "#- z=0 to 1.85 for obsframe wavelengths 3500 to 11000, purposefully\n",
    "#- avoiding Lyman-alpha to focus PCA variations on other lines\n",
    "dw = 0.1\n",
    "wave = np.arange(3500/(1+1.85), 11000+dw/2, dw)"
   ]
  },
  {
   "cell_type": "code",
   "execution_count": null,
   "metadata": {},
   "outputs": [],
   "source": [
    "plt.figure(figsize=(20,8))\n",
    "plt.plot(wave, flux[0,:]) # there are 10 templates. Any spectra can be a linear combination of these 10\n",
    "plt.xlim(3700, 3740)"
   ]
  },
  {
   "cell_type": "code",
   "execution_count": null,
   "metadata": {},
   "outputs": [],
   "source": [
    "flux.shape"
   ]
  },
  {
   "cell_type": "code",
   "execution_count": null,
   "metadata": {},
   "outputs": [],
   "source": []
  }
 ],
 "metadata": {
  "kernelspec": {
   "display_name": "DESI master",
   "language": "python",
   "name": "desi-master"
  },
  "language_info": {
   "codemirror_mode": {
    "name": "ipython",
    "version": 3
   },
   "file_extension": ".py",
   "mimetype": "text/x-python",
   "name": "python",
   "nbconvert_exporter": "python",
   "pygments_lexer": "ipython3",
   "version": "3.8.3"
  }
 },
 "nbformat": 4,
 "nbformat_minor": 4
}
