{
 "cells": [
  {
   "cell_type": "code",
   "execution_count": 3,
   "metadata": {},
   "outputs": [],
   "source": [
    "import numpy as np\n",
    "from pathlib import Path\n",
    "from astropy.io import fits\n",
    "from astropy.table import Table, vstack, hstack, unique,join\n",
    "import matplotlib.pyplot as plt\n",
    "import pandas as pd\n",
    "import sys\n",
    "\n",
    "# sys.path.append(\"/global/u2/b/bid13/VI/prospect/py\")\n",
    "\n",
    "import desispec.coaddition\n",
    "import desispec.io\n",
    "import desispec.spectra\n",
    "# from desitarget.cmx.cmx_targetmask import cmx_mask\n",
    "from desitarget.sv1.sv1_targetmask import desi_mask\n",
    "from prospect import utilities,plotframes, myspecselect, myspecupdate\n",
    "from desispec.coaddition import coadd_cameras\n",
    "from prospect import utilities ,plotframes\n",
    "# from prospect_my import plotframes\n",
    "\n",
    "from stack_spectra import _common_grid"
   ]
  },
  {
   "cell_type": "code",
   "execution_count": 4,
   "metadata": {},
   "outputs": [],
   "source": [
    "my_path = Path(\"/global/cscratch1/sd/bid13/stack-spectra\")"
   ]
  },
  {
   "cell_type": "code",
   "execution_count": 92,
   "metadata": {},
   "outputs": [
    {
     "name": "stdout",
     "output_type": "stream",
     "text": [
      "INFO:spectra.py:253:read_spectra: iotime 0.082 sec to read spectra_bright.fits at 2021-04-13T11:45:13.716780\n"
     ]
    }
   ],
   "source": [
    "spec = desispec.io.read_spectra(my_path /  \"spectra_bright.fits\")#coadd_cam_bright.fits\")\n",
    "zcat = Table.read(my_path / \"zcat_bright.fits\")\n",
    "flux = spec.flux['r']\n",
    "wl = spec.wave['r']\n",
    "ivar = spec.ivar['r']"
   ]
  },
  {
   "cell_type": "code",
   "execution_count": null,
   "metadata": {},
   "outputs": [],
   "source": []
  },
  {
   "cell_type": "code",
   "execution_count": 6,
   "metadata": {},
   "outputs": [
    {
     "name": "stdout",
     "output_type": "stream",
     "text": [
      "(16, 2326) (16, 2326) (16,)\n"
     ]
    }
   ],
   "source": [
    "print(np.shape(flux),np.shape(ivar),np.shape(zcat['Z']))"
   ]
  },
  {
   "cell_type": "code",
   "execution_count": 7,
   "metadata": {},
   "outputs": [
    {
     "data": {
      "text/plain": [
       "[<matplotlib.lines.Line2D at 0x2aaae0ae9e20>]"
      ]
     },
     "execution_count": 7,
     "metadata": {},
     "output_type": "execute_result"
    },
    {
     "data": {
      "image/png": "[encoded data removed]",
      "text/plain": [
       "<Figure size 432x288 with 1 Axes>"
      ]
     },
     "metadata": {
      "needs_background": "light"
     },
     "output_type": "display_data"
    }
   ],
   "source": [
    "plt.plot(wl,flux[1])"
   ]
  },
  {
   "cell_type": "code",
   "execution_count": 8,
   "metadata": {},
   "outputs": [],
   "source": [
    "def normalize(flux,ivar):\n",
    "    norm = np.nanmedian(flux,axis=1).reshape(np.shape(flux)[0],1)\n",
    "    flux = flux/norm\n",
    "    ivar = ivar*norm**2\n",
    "    \n",
    "    return ivar, flux"
   ]
  },
  {
   "cell_type": "code",
   "execution_count": 105,
   "metadata": {},
   "outputs": [],
   "source": [
    "def wavg(flux,ivar=None,weighted=False, weights = None):\n",
    "    if weighted:\n",
    "        num = np.nansum(flux*weights,axis=0)\n",
    "        denom = np.nansum(weights,axis=0)\n",
    "    \n",
    "        if 0. in denom:\n",
    "            denom[denom==0.0] = np.nan\n",
    "    \n",
    "        avg = np.nan_to_num(num/denom)\n",
    "    else:\n",
    "        avg = np.mean(flux,axis=0)\n",
    "        \n",
    "    ivar = np.nansum(ivar,axis = 0)\n",
    "    \n",
    "    return avg, ivar"
   ]
  },
  {
   "cell_type": "code",
   "execution_count": 98,
   "metadata": {},
   "outputs": [],
   "source": [
    "new_f,new_i,new_wl = _common_grid(flux, wl, ivar, zcat['Z'], z_out=0.0, wave_grid=None)"
   ]
  },
  {
   "cell_type": "code",
   "execution_count": 99,
   "metadata": {},
   "outputs": [],
   "source": [
    "i,f = normalize(new_f,new_i)"
   ]
  },
  {
   "cell_type": "code",
   "execution_count": 106,
   "metadata": {},
   "outputs": [],
   "source": [
    "wavg_f, wavg_ivar = wavg(f,ivar = ivar)"
   ]
  },
  {
   "cell_type": "code",
   "execution_count": 112,
   "metadata": {},
   "outputs": [],
   "source": [
    "## Bootstrap"
   ]
  },
  {
   "cell_type": "code",
   "execution_count": 75,
   "metadata": {},
   "outputs": [],
   "source": [
    "ndata = np.shape(new_f)[0]\n",
    "len_spec = np.shape(new_f)[1]\n",
    "nbootstraps=10\n",
    "boot = np.zeros((nbootstraps,len_spec))\n",
    "nsamples=int(1E2)"
   ]
  },
  {
   "cell_type": "code",
   "execution_count": 83,
   "metadata": {},
   "outputs": [],
   "source": [
    "def _bootstrap(flux_spec,ndata,nbootstraps,nsamples,len_spec):\n",
    "    \n",
    "    stacks = np.zeros((nbootstraps,len_spec))\n",
    "    for j in range(nbootstraps):\n",
    "        boot = np.zeros((nsamples,len_spec))\n",
    "        for i in range(nsamples):\n",
    "            idx=np.random.choice(ndata,1,replace=True)\n",
    "            boot[i]+=flux_spec[idx][0]\n",
    "        stacks[j] += wavg(boot)\n",
    "    \n",
    "    ivar = 1.0/(np.nanstd(stacks,axis=0))**2\n",
    "    \n",
    "    return stacks,ivar"
   ]
  },
  {
   "cell_type": "code",
   "execution_count": 84,
   "metadata": {},
   "outputs": [
    {
     "name": "stderr",
     "output_type": "stream",
     "text": [
      "/global/common/software/desi/cori/desiconda/20200801-1.4.0-spec/conda/lib/python3.8/site-packages/numpy/lib/nanfunctions.py:1664: RuntimeWarning: Degrees of freedom <= 0 for slice.\n",
      "  var = nanvar(a, axis=axis, dtype=dtype, out=out, ddof=ddof,\n"
     ]
    }
   ],
   "source": [
    "stacks, ivar = _bootstrap(new_f,ndata,nbootstraps,nsamples,len_spec)"
   ]
  },
  {
   "cell_type": "code",
   "execution_count": 87,
   "metadata": {},
   "outputs": [
    {
     "data": {
      "text/plain": [
       "array([nan, nan, nan, ..., nan, nan, nan])"
      ]
     },
     "execution_count": 87,
     "metadata": {},
     "output_type": "execute_result"
    }
   ],
   "source": [
    "ivar"
   ]
  },
  {
   "cell_type": "code",
   "execution_count": 88,
   "metadata": {},
   "outputs": [
    {
     "data": {
      "text/plain": [
       "[<matplotlib.lines.Line2D at 0x2aaae2f39970>]"
      ]
     },
     "execution_count": 88,
     "metadata": {},
     "output_type": "execute_result"
    },
    {
     "data": {
      "image/png": "[encoded data removed]",
      "text/plain": [
       "<Figure size 432x288 with 1 Axes>"
      ]
     },
     "metadata": {
      "needs_background": "light"
     },
     "output_type": "display_data"
    }
   ],
   "source": [
    "#for i in range(nbootstraps):\n",
    "plt.plot(ivar)\n",
    "#plt.plot(new_wl,wavg_f)"
   ]
  },
  {
   "cell_type": "code",
   "execution_count": null,
   "metadata": {},
   "outputs": [],
   "source": []
  },
  {
   "cell_type": "code",
   "execution_count": null,
   "metadata": {},
   "outputs": [],
   "source": []
  }
 ],
 "metadata": {
  "kernelspec": {
   "display_name": "DESI master",
   "language": "python",
   "name": "desi-master"
  },
  "language_info": {
   "codemirror_mode": {
    "name": "ipython",
    "version": 3
   },
   "file_extension": ".py",
   "mimetype": "text/x-python",
   "name": "python",
   "nbconvert_exporter": "python",
   "pygments_lexer": "ipython3",
   "version": "3.8.3"
  }
 },
 "nbformat": 4,
 "nbformat_minor": 4
}
