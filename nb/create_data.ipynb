{
 "cells": [
  {
   "cell_type": "markdown",
   "metadata": {},
   "source": [
    "# Create data for stacking code testing"
   ]
  },
  {
   "cell_type": "code",
   "execution_count": 2,
   "metadata": {},
   "outputs": [],
   "source": [
    "import numpy as np\n",
    "#wow\n",
    "from pathlib import Path\n",
    "from astropy.io import fits\n",
    "from astropy.table import Table, vstack, hstack, unique,join\n",
    "import matplotlib.pyplot as plt\n",
    "import pandas as pd\n",
    "import sys\n",
    "\n",
    "# sys.path.append(\"/global/u2/b/bid13/VI/prospect/py\")\n",
    "\n",
    "import desispec.coaddition\n",
    "import desispec.io\n",
    "import desispec.spectra\n",
    "# from desitarget.cmx.cmx_targetmask import cmx_mask\n",
    "from desitarget.sv1.sv1_targetmask import desi_mask, bgs_mask\n",
    "from prospect import utilities,plotframes, myspecselect, myspecupdate\n",
    "from desispec.coaddition import coadd_cameras\n",
    "from prospect import utilities ,plotframes\n",
    "# from prospect_my import plotframes"
   ]
  },
  {
   "cell_type": "code",
   "execution_count": 3,
   "metadata": {},
   "outputs": [],
   "source": [
    "data_path = Path(\"/global/cfs/cdirs/desi/spectro/redux/cascades/tiles/\")\n",
    "my_path = Path(\"/global/cscratch1/sd/bid13/stack-spectra\")"
   ]
  },
  {
   "cell_type": "code",
   "execution_count": 4,
   "metadata": {},
   "outputs": [],
   "source": [
    "tile = \"80613\"\n",
    "tile_path = data_path / tile /\"deep\""
   ]
  },
  {
   "cell_type": "code",
   "execution_count": 14,
   "metadata": {},
   "outputs": [
    {
     "name": "stdout",
     "output_type": "stream",
     "text": [
      "500\n"
     ]
    },
    {
     "name": "stderr",
     "output_type": "stream",
     "text": [
      "<ipython-input-14-1740dec2fd6a>:12: RuntimeWarning: invalid value encountered in log10\n",
      "  rfmag = 22.5 - 2.5 * np.log10(merged_table[\"FIBERFLUX_R\"])\n"
     ]
    },
    {
     "name": "stdout",
     "output_type": "stream",
     "text": [
      "INFO:spectra.py:253:read_spectra: iotime 0.852 sec to read coadd-0-80613-deep.fits at 2021-04-07T12:56:00.123937\n",
      "500\n",
      "INFO:spectra.py:253:read_spectra: iotime 0.917 sec to read coadd-1-80613-deep.fits at 2021-04-07T12:56:01.890292\n",
      "500\n",
      "INFO:spectra.py:253:read_spectra: iotime 0.980 sec to read coadd-7-80613-deep.fits at 2021-04-07T12:56:03.550325\n",
      "500\n",
      "INFO:spectra.py:253:read_spectra: iotime 0.909 sec to read coadd-3-80613-deep.fits at 2021-04-07T12:56:05.224832\n",
      "500\n"
     ]
    },
    {
     "name": "stderr",
     "output_type": "stream",
     "text": [
      "<ipython-input-14-1740dec2fd6a>:12: RuntimeWarning: divide by zero encountered in log10\n",
      "  rfmag = 22.5 - 2.5 * np.log10(merged_table[\"FIBERFLUX_R\"])\n"
     ]
    },
    {
     "name": "stdout",
     "output_type": "stream",
     "text": [
      "INFO:spectra.py:253:read_spectra: iotime 0.902 sec to read coadd-5-80613-deep.fits at 2021-04-07T12:56:06.938103\n",
      "500\n",
      "INFO:spectra.py:253:read_spectra: iotime 0.890 sec to read coadd-9-80613-deep.fits at 2021-04-07T12:56:08.529514\n",
      "500\n",
      "500\n",
      "INFO:spectra.py:253:read_spectra: iotime 0.738 sec to read coadd-8-80613-deep.fits at 2021-04-07T12:56:10.177747\n",
      "500\n",
      "INFO:spectra.py:253:read_spectra: iotime 0.844 sec to read coadd-4-80613-deep.fits at 2021-04-07T12:56:11.763279\n",
      "500\n"
     ]
    }
   ],
   "source": [
    "z_table = Table()\n",
    "spectra = desispec.spectra.Spectra()\n",
    "\n",
    "for file_path in tile_path.glob(\"zbest-*\"):\n",
    "\n",
    "    z_petal = Table.read(file_path, hdu=\"ZBEST\")\n",
    "    fibermap_petal = Table.read(file_path, hdu=\"FIBERMAP\")[0:500]\n",
    "\n",
    "    merged_table = join(z_petal, fibermap_petal, keys=\"TARGETID\", metadata_conflicts=\"silent\")\n",
    "    print(len(merged_table))\n",
    "    mask = ((merged_table[\"SV1_BGS_TARGET\"] & bgs_mask.mask(\"BGS_BRIGHT\"))>0) & (merged_table[\"FIBERSTATUS\"] == 0)\n",
    "    rfmag = 22.5 - 2.5 * np.log10(merged_table[\"FIBERFLUX_R\"])\n",
    "    mask &= (rfmag<19)\n",
    "    mask &= (merged_table[\"Z\"]>0.1) & (merged_table[\"Z\"]<0.2)\n",
    "    mask &= (merged_table[\"SPECTYPE\"]==\"GALAXY\")\n",
    "    mask &= (merged_table[\"DELTACHI2\"]>1000)\n",
    "    merged_table = merged_table[mask]\n",
    "#     z_table = vstack([z_table, merged_table])\n",
    "\n",
    "    if np.sum(mask):\n",
    "        spec = desispec.io.read_spectra(str(file_path).replace(\"zbest\",\"coadd\") )\n",
    "        # CAUTION desispec uses EXPID + FIBER to determine uniqueness\n",
    "#         spec.fibermap[\"NIGHT\"] = np.arange(len(spec.fibermap))\n",
    "#         spec.fibermap[\"EXPID\"] = np.arange(len(spec.fibermap))\n",
    "        spec = myspecselect.myspecselect(spec,targets= merged_table[\"TARGETID\"])\n",
    "\n",
    "        z_table = vstack([z_table, merged_table])\n",
    "        spectra = myspecupdate.myspecupdate(spectra, spec)"
   ]
  },
  {
   "cell_type": "code",
   "execution_count": 21,
   "metadata": {},
   "outputs": [
    {
     "data": {
      "text/plain": [
       "<TableColumns names=('TARGETID','CHI2','COEFF','Z','ZERR','ZWARN','NPIXELS','SPECTYPE','SUBTYPE','NCOEFF','DELTACHI2','NUMEXP','NUMTILE','PETAL_LOC','DEVICE_LOC','LOCATION','FIBER','FIBERSTATUS','TARGET_RA','TARGET_DEC','PMRA','PMDEC','REF_EPOCH','LAMBDA_REF','FA_TARGET','FA_TYPE','OBJTYPE','FIBERASSIGN_X','FIBERASSIGN_Y','PRIORITY','SUBPRIORITY','OBSCONDITIONS','RELEASE','BRICKID','BRICK_OBJID','MORPHTYPE','FLUX_G','FLUX_R','FLUX_Z','FLUX_IVAR_G','FLUX_IVAR_R','FLUX_IVAR_Z','REF_ID','REF_CAT','GAIA_PHOT_G_MEAN_MAG','GAIA_PHOT_BP_MEAN_MAG','GAIA_PHOT_RP_MEAN_MAG','PARALLAX','BRICKNAME','EBV','FLUX_W1','FLUX_W2','FIBERFLUX_G','FIBERFLUX_R','FIBERFLUX_Z','FIBERTOTFLUX_G','FIBERTOTFLUX_R','FIBERTOTFLUX_Z','MASKBITS','SERSIC','SHAPE_R','SHAPE_E1','SHAPE_E2','PHOTSYS','PRIORITY_INIT','NUMOBS_INIT','SV1_DESI_TARGET','SV1_BGS_TARGET','SV1_MWS_TARGET','DESI_TARGET','BGS_TARGET','MWS_TARGET','NUM_ITER','FIBER_X','FIBER_Y','DELTA_X','DELTA_Y','FIBER_RA','FIBER_DEC','EXPTIME','NIGHT','EXPID','MJD','TILEID')>"
      ]
     },
     "execution_count": 21,
     "metadata": {},
     "output_type": "execute_result"
    }
   ],
   "source": [
    "z_table.columns"
   ]
  },
  {
   "cell_type": "code",
   "execution_count": 16,
   "metadata": {},
   "outputs": [
    {
     "data": {
      "text/plain": [
       "16"
      ]
     },
     "execution_count": 16,
     "metadata": {},
     "output_type": "execute_result"
    }
   ],
   "source": [
    "spectra.num_targets()"
   ]
  },
  {
   "cell_type": "code",
   "execution_count": 17,
   "metadata": {},
   "outputs": [
    {
     "data": {
      "text/plain": [
       "Text(0.5, 0, 'Spec-Z')"
      ]
     },
     "execution_count": 17,
     "metadata": {},
     "output_type": "execute_result"
    },
    {
     "data": {
      "image/png": "[encoded data removed]",
      "text/plain": [
       "<Figure size 432x288 with 1 Axes>"
      ]
     },
     "metadata": {
      "needs_background": "light"
     },
     "output_type": "display_data"
    }
   ],
   "source": [
    "_=plt.hist(z_table[\"Z\"], histtype=\"step\", color=\"k\", bins=50)\n",
    "plt.xlabel(\"Spec-Z\")"
   ]
  },
  {
   "cell_type": "code",
   "execution_count": 8,
   "metadata": {},
   "outputs": [
    {
     "data": {
      "text/plain": [
       "Text(0.5, 0, 'Spec-Z')"
      ]
     },
     "execution_count": 8,
     "metadata": {},
     "output_type": "execute_result"
    },
    {
     "data": {
      "image/png": "[encoded data removed]",
      "text/plain": [
       "<Figure size 432x288 with 1 Axes>"
      ]
     },
     "metadata": {
      "needs_background": "light"
     },
     "output_type": "display_data"
    }
   ],
   "source": [
    "_=plt.hist(rfmag, histtype=\"step\", color=\"k\", bins=50)\n",
    "plt.xlabel(\"Spec-Z\")"
   ]
  },
  {
   "cell_type": "code",
   "execution_count": 18,
   "metadata": {},
   "outputs": [
    {
     "name": "stdout",
     "output_type": "stream",
     "text": [
      "INFO:spectra.py:154:write_spectra: iotime 5.347 sec to write spectra_bright.fits at 2021-04-07T12:57:29.485401\n"
     ]
    },
    {
     "data": {
      "text/plain": [
       "'/global/cscratch1/sd/bid13/stack-spectra/spectra_bright.fits'"
      ]
     },
     "execution_count": 18,
     "metadata": {},
     "output_type": "execute_result"
    }
   ],
   "source": [
    "z_table.write(my_path/\"zcat_bright.fits\")\n",
    "desispec.io.write_spectra(my_path/\"spectra_bright.fits\", spectra)"
   ]
  },
  {
   "cell_type": "code",
   "execution_count": null,
   "metadata": {},
   "outputs": [],
   "source": [
    "plt.plot(spectra.flux[\"brz\"][8])"
   ]
  },
  {
   "cell_type": "code",
   "execution_count": null,
   "metadata": {},
   "outputs": [],
   "source": [
    "sky = desispec.io.read_spectra(\"/global/cfs/cdirs/desi/spectro/redux/cascades/tiles/80609/deep/coadd-0-80609-deep.fits\")"
   ]
  },
  {
   "cell_type": "code",
   "execution_count": null,
   "metadata": {},
   "outputs": [],
   "source": [
    "x = sky.flux[\"b\"][sky.fibermap[\"OBJTYPE\"]==\"SKY\"]"
   ]
  },
  {
   "cell_type": "code",
   "execution_count": null,
   "metadata": {},
   "outputs": [],
   "source": [
    "plt.plot(x[0])"
   ]
  },
  {
   "cell_type": "markdown",
   "metadata": {},
   "source": [
    "# Curate the sky spectra"
   ]
  },
  {
   "cell_type": "code",
   "execution_count": 21,
   "metadata": {},
   "outputs": [
    {
     "name": "stdout",
     "output_type": "stream",
     "text": [
      "INFO:spectra.py:253:read_spectra: iotime 0.463 sec to read coadd-2-80613-deep.fits at 2021-04-08T19:30:45.058872\n",
      "INFO:spectra.py:253:read_spectra: iotime 0.433 sec to read coadd-6-80613-deep.fits at 2021-04-08T19:30:46.025279\n",
      "INFO:spectra.py:253:read_spectra: iotime 0.424 sec to read coadd-3-80613-deep.fits at 2021-04-08T19:30:47.135556\n",
      "INFO:spectra.py:253:read_spectra: iotime 0.495 sec to read coadd-5-80613-deep.fits at 2021-04-08T19:30:48.239155\n",
      "INFO:spectra.py:253:read_spectra: iotime 0.426 sec to read coadd-1-80613-deep.fits at 2021-04-08T19:30:49.432993\n",
      "INFO:spectra.py:253:read_spectra: iotime 0.475 sec to read coadd-7-80613-deep.fits at 2021-04-08T19:30:50.545980\n",
      "INFO:spectra.py:253:read_spectra: iotime 0.413 sec to read coadd-0-80613-deep.fits at 2021-04-08T19:30:51.750338\n",
      "INFO:spectra.py:253:read_spectra: iotime 0.477 sec to read coadd-4-80613-deep.fits at 2021-04-08T19:30:52.980376\n",
      "INFO:spectra.py:253:read_spectra: iotime 0.466 sec to read coadd-8-80613-deep.fits at 2021-04-08T19:30:54.388829\n",
      "INFO:spectra.py:253:read_spectra: iotime 0.653 sec to read coadd-9-80613-deep.fits at 2021-04-08T19:30:55.962316\n"
     ]
    }
   ],
   "source": [
    "spectra = desispec.spectra.Spectra()\n",
    "\n",
    "for file_path in tile_path.glob(\"coadd-*.fits\"):\n",
    "    spec = desispec.io.read_spectra(str(file_path))\n",
    "    targets = np.unique(spec.fibermap[(spec.fibermap[\"OBJTYPE\"]==\"SKY\")&(spec.fibermap[\"FIBERSTATUS\"] == 0)][\"TARGETID\"])\n",
    "    spec = myspecselect.myspecselect(spec,targets= targets)\n",
    "    spectra = myspecupdate.myspecupdate(spectra, spec)"
   ]
  },
  {
   "cell_type": "code",
   "execution_count": 22,
   "metadata": {},
   "outputs": [
    {
     "data": {
      "text/html": [
       "<i>Table length=667</i>\n",
       "<table id=\"table46913432028544\" class=\"table-striped table-bordered table-condensed\">\n",
       "<thead><tr><th>TARGETID</th><th>PETAL_LOC</th><th>DEVICE_LOC</th><th>LOCATION</th><th>FIBER</th><th>FIBERSTATUS</th><th>TARGET_RA</th><th>TARGET_DEC</th><th>PMRA</th><th>PMDEC</th><th>REF_EPOCH</th><th>LAMBDA_REF</th><th>FA_TARGET</th><th>FA_TYPE</th><th>OBJTYPE</th><th>PRIORITY</th><th>SUBPRIORITY</th><th>OBSCONDITIONS</th><th>RELEASE</th><th>BRICKID</th><th>BRICK_OBJID</th><th>MORPHTYPE</th><th>FLUX_G</th><th>FLUX_R</th><th>FLUX_Z</th><th>FLUX_IVAR_G</th><th>FLUX_IVAR_R</th><th>FLUX_IVAR_Z</th><th>REF_ID</th><th>REF_CAT</th><th>GAIA_PHOT_G_MEAN_MAG</th><th>GAIA_PHOT_BP_MEAN_MAG</th><th>GAIA_PHOT_RP_MEAN_MAG</th><th>PARALLAX</th><th>BRICKNAME</th><th>EBV</th><th>FLUX_W1</th><th>FLUX_W2</th><th>FIBERFLUX_G</th><th>FIBERFLUX_R</th><th>FIBERFLUX_Z</th><th>FIBERTOTFLUX_G</th><th>FIBERTOTFLUX_R</th><th>FIBERTOTFLUX_Z</th><th>MASKBITS</th><th>SERSIC</th><th>SHAPE_R</th><th>SHAPE_E1</th><th>SHAPE_E2</th><th>PHOTSYS</th><th>PRIORITY_INIT</th><th>NUMOBS_INIT</th><th>SV1_DESI_TARGET</th><th>SV1_BGS_TARGET</th><th>SV1_MWS_TARGET</th><th>DESI_TARGET</th><th>BGS_TARGET</th><th>MWS_TARGET</th><th>TILEID</th><th>COADD_NUMEXP</th><th>COADD_EXPTIME</th><th>MEAN_DELTA_X</th><th>RMS_DELTA_X</th><th>MEAN_DELTA_Y</th><th>RMS_DELTA_Y</th><th>MEAN_FIBER_X</th><th>MEAN_FIBER_Y</th><th>MEAN_FIBER_RA</th><th>MEAN_FIBER_DEC</th><th>MEAN_FIBERASSIGN_X</th><th>MEAN_FIBERASSIGN_Y</th><th>FIRST_NIGHT</th><th>LAST_NIGHT</th><th>NUM_NIGHT</th><th>FIRST_EXPID</th><th>LAST_EXPID</th><th>NUM_EXPID</th><th>FIRST_TILEID</th><th>LAST_TILEID</th><th>NUM_TILEID</th><th>FIRST_FIBER</th><th>LAST_FIBER</th><th>NUM_FIBER</th><th>FIRST_MJD</th><th>LAST_MJD</th><th>NUM_MJD</th></tr></thead>\n",
       "<thead><tr><th>int64</th><th>int16</th><th>int32</th><th>int64</th><th>int32</th><th>int32</th><th>float64</th><th>float64</th><th>float32</th><th>float32</th><th>float32</th><th>float32</th><th>int64</th><th>uint8</th><th>bytes3</th><th>int32</th><th>float64</th><th>int32</th><th>int16</th><th>int32</th><th>int32</th><th>bytes4</th><th>float32</th><th>float32</th><th>float32</th><th>float32</th><th>float32</th><th>float32</th><th>int64</th><th>bytes2</th><th>float32</th><th>float32</th><th>float32</th><th>float32</th><th>bytes8</th><th>float32</th><th>float32</th><th>float32</th><th>float32</th><th>float32</th><th>float32</th><th>float32</th><th>float32</th><th>float32</th><th>int16</th><th>float32</th><th>float32</th><th>float32</th><th>float32</th><th>bytes1</th><th>int64</th><th>int64</th><th>int64</th><th>int64</th><th>int64</th><th>int64</th><th>int64</th><th>int64</th><th>int32</th><th>int16</th><th>float32</th><th>float32</th><th>float32</th><th>float32</th><th>float32</th><th>float32</th><th>float32</th><th>float64</th><th>float64</th><th>float32</th><th>float32</th><th>int32</th><th>int32</th><th>int16</th><th>int32</th><th>int32</th><th>int16</th><th>int32</th><th>int32</th><th>int16</th><th>int32</th><th>int32</th><th>int16</th><th>float32</th><th>float32</th><th>int16</th></tr></thead>\n",
       "<tr><td>616094076919349920</td><td>2</td><td>462</td><td>2462</td><td>1355</td><td>0</td><td>104.32387245935884</td><td>55.26118047634372</td><td>0.0</td><td>0.0</td><td>0.0</td><td>5400.0</td><td>4294967296</td><td>4</td><td>SKY</td><td>-1</td><td>0.9174065276145617</td><td>63</td><td>9011</td><td>602604</td><td>672</td><td></td><td>0.0</td><td>0.0</td><td>0.0</td><td>0.0</td><td>0.0</td><td>0.0</td><td>0</td><td></td><td>0.0</td><td>0.0</td><td>0.0</td><td>0.0</td><td>1041p552</td><td>0.0</td><td>0.0</td><td>0.0</td><td>-0.016076276</td><td>-0.004632345</td><td>-0.06576146</td><td>0.0</td><td>0.0</td><td>0.0</td><td>0</td><td>0.0</td><td>0.0</td><td>0.0</td><td>0.0</td><td></td><td>-1</td><td>-1</td><td>0</td><td>0</td><td>0</td><td>4294967296</td><td>0</td><td>0</td><td>80613</td><td>9</td><td>2700.0</td><td>0.0013333333</td><td>0.0062003583</td><td>0.0076666665</td><td>0.013008544</td><td>349.7378</td><td>-205.3469</td><td>104.32385991614936</td><td>55.261210066229104</td><td>349.8489</td><td>-205.31639</td><td>20201218</td><td>20201221</td><td>2</td><td>68657</td><td>69230</td><td>9</td><td>80613</td><td>80613</td><td>1</td><td>1355</td><td>1355</td><td>1</td><td>59202.25</td><td>59205.184</td><td>9</td></tr>\n",
       "<tr><td>616094076919350333</td><td>2</td><td>421</td><td>2421</td><td>1389</td><td>0</td><td>104.41631947297135</td><td>55.350931904134846</td><td>0.0</td><td>0.0</td><td>0.0</td><td>5400.0</td><td>4294967296</td><td>4</td><td>SKY</td><td>-1</td><td>0.8616787688305988</td><td>63</td><td>9011</td><td>602604</td><td>1085</td><td></td><td>0.0</td><td>0.0</td><td>0.0</td><td>0.0</td><td>0.0</td><td>0.0</td><td>0</td><td></td><td>0.0</td><td>0.0</td><td>0.0</td><td>0.0</td><td>1041p552</td><td>0.0</td><td>0.0</td><td>0.0</td><td>-0.008203445</td><td>0.009926878</td><td>0.092257194</td><td>0.0</td><td>0.0</td><td>0.0</td><td>0</td><td>0.0</td><td>0.0</td><td>0.0</td><td>0.0</td><td></td><td>-1</td><td>-1</td><td>0</td><td>0</td><td>0</td><td>4294967296</td><td>0</td><td>0</td><td>80613</td><td>6</td><td>1800.0</td><td>0.004333333</td><td>0.006871843</td><td>0.006888889</td><td>0.012762793</td><td>333.9222</td><td>-182.21834</td><td>104.4162876940037</td><td>55.35095874931574</td><td>334.03415</td><td>-182.1946</td><td>20201218</td><td>20201221</td><td>2</td><td>68657</td><td>69230</td><td>9</td><td>80613</td><td>80613</td><td>1</td><td>1389</td><td>1389</td><td>1</td><td>59202.25</td><td>59205.184</td><td>9</td></tr>\n",
       "<tr><td>616094076923544310</td><td>2</td><td>375</td><td>2375</td><td>1391</td><td>0</td><td>104.55049527711816</td><td>55.28362990539857</td><td>0.0</td><td>0.0</td><td>0.0</td><td>5400.0</td><td>4294967296</td><td>4</td><td>SKY</td><td>-1</td><td>0.8875003023743516</td><td>63</td><td>9011</td><td>602605</td><td>758</td><td></td><td>0.0</td><td>0.0</td><td>0.0</td><td>0.0</td><td>0.0</td><td>0.0</td><td>0</td><td></td><td>0.0</td><td>0.0</td><td>0.0</td><td>0.0</td><td>1046p552</td><td>0.0</td><td>0.0</td><td>0.0</td><td>-0.008846673</td><td>-0.03795367</td><td>0.044057135</td><td>0.0</td><td>0.0</td><td>0.0</td><td>0</td><td>0.0</td><td>0.0</td><td>0.0</td><td>0.0</td><td></td><td>-1</td><td>-1</td><td>0</td><td>0</td><td>0</td><td>4294967296</td><td>0</td><td>0</td><td>80613</td><td>9</td><td>2700.0</td><td>0.0012222222</td><td>0.0053229067</td><td>0.006888889</td><td>0.012978615</td><td>314.83688</td><td>-199.609</td><td>104.55048402292806</td><td>55.28365670034189</td><td>314.9458</td><td>-199.58557</td><td>20201218</td><td>20201221</td><td>2</td><td>68657</td><td>69230</td><td>9</td><td>80613</td><td>80613</td><td>1</td><td>1391</td><td>1391</td><td>1</td><td>59202.25</td><td>59205.184</td><td>9</td></tr>\n",
       "<tr><td>616094076923544370</td><td>2</td><td>333</td><td>2333</td><td>1399</td><td>0</td><td>104.68277305055021</td><td>55.29718741281881</td><td>0.0</td><td>0.0</td><td>0.0</td><td>5400.0</td><td>4294967296</td><td>4</td><td>SKY</td><td>-1</td><td>0.811166828123253</td><td>63</td><td>9011</td><td>602605</td><td>818</td><td></td><td>0.0</td><td>0.0</td><td>0.0</td><td>0.0</td><td>0.0</td><td>0.0</td><td>0</td><td></td><td>0.0</td><td>0.0</td><td>0.0</td><td>0.0</td><td>1046p552</td><td>0.0</td><td>0.0</td><td>0.0</td><td>0.020868694</td><td>-0.011722391</td><td>0.080163315</td><td>0.0</td><td>0.0</td><td>0.0</td><td>0</td><td>0.0</td><td>0.0</td><td>0.0</td><td>0.0</td><td></td><td>-1</td><td>-1</td><td>0</td><td>0</td><td>0</td><td>4294967296</td><td>0</td><td>0</td><td>80613</td><td>9</td><td>2700.0</td><td>0.0022222223</td><td>0.0046427962</td><td>0.007222222</td><td>0.01288841</td><td>294.75012</td><td>-196.17812</td><td>104.68275505968357</td><td>55.297215634229694</td><td>294.8563</td><td>-196.1574</td><td>20201218</td><td>20201221</td><td>2</td><td>68657</td><td>69230</td><td>9</td><td>80613</td><td>80613</td><td>1</td><td>1399</td><td>1399</td><td>1</td><td>59202.25</td><td>59205.184</td><td>9</td></tr>\n",
       "<tr><td>616094080371261525</td><td>2</td><td>465</td><td>2465</td><td>1379</td><td>0</td><td>104.2970561969515</td><td>55.386936493708184</td><td>0.0</td><td>0.0</td><td>0.0</td><td>5400.0</td><td>4294967296</td><td>4</td><td>SKY</td><td>-1</td><td>0.8199284765065072</td><td>63</td><td>9011</td><td>603427</td><td>85</td><td></td><td>0.0</td><td>0.0</td><td>0.0</td><td>0.0</td><td>0.0</td><td>0.0</td><td>0</td><td></td><td>0.0</td><td>0.0</td><td>0.0</td><td>0.0</td><td>1042p555</td><td>0.0</td><td>0.0</td><td>0.0</td><td>0.0027853826</td><td>0.016839106</td><td>-0.054598745</td><td>0.0</td><td>0.0</td><td>0.0</td><td>0</td><td>0.0</td><td>0.0</td><td>0.0</td><td>0.0</td><td></td><td>-1</td><td>-1</td><td>0</td><td>0</td><td>0</td><td>4294967296</td><td>0</td><td>0</td><td>80613</td><td>9</td><td>2700.0</td><td>0.0026666666</td><td>0.0058878404</td><td>0.007888889</td><td>0.013788079</td><td>351.4178</td><td>-172.85489</td><td>104.29703499529178</td><td>55.386967186033544</td><td>351.52823</td><td>-172.82901</td><td>20201218</td><td>20201221</td><td>2</td><td>68657</td><td>69230</td><td>9</td><td>80613</td><td>80613</td><td>1</td><td>1379</td><td>1379</td><td>1</td><td>59202.25</td><td>59205.184</td><td>9</td></tr>\n",
       "<tr><td>616094080371261551</td><td>2</td><td>422</td><td>2422</td><td>1380</td><td>0</td><td>104.40674492232745</td><td>55.39144665351059</td><td>0.0</td><td>0.0</td><td>0.0</td><td>5400.0</td><td>4294967296</td><td>4</td><td>SKY</td><td>-1</td><td>0.9639491878824038</td><td>63</td><td>9011</td><td>603427</td><td>111</td><td></td><td>0.0</td><td>0.0</td><td>0.0</td><td>0.0</td><td>0.0</td><td>0.0</td><td>0</td><td></td><td>0.0</td><td>0.0</td><td>0.0</td><td>0.0</td><td>1042p555</td><td>0.0</td><td>0.0</td><td>0.0</td><td>0.008248468</td><td>0.011459614</td><td>0.00040917515</td><td>0.0</td><td>0.0</td><td>0.0</td><td>0</td><td>0.0</td><td>0.0</td><td>0.0</td><td>0.0</td><td></td><td>-1</td><td>-1</td><td>0</td><td>0</td><td>0</td><td>4294967296</td><td>0</td><td>0</td><td>80613</td><td>9</td><td>2700.0</td><td>0.0037777778</td><td>0.005830952</td><td>0.007222222</td><td>0.012714821</td><td>334.65054</td><td>-171.81233</td><td>104.40671668153465</td><td>55.39147484316947</td><td>334.76093</td><td>-171.78946</td><td>20201218</td><td>20201221</td><td>2</td><td>68657</td><td>69230</td><td>9</td><td>80613</td><td>80613</td><td>1</td><td>1380</td><td>1380</td><td>1</td><td>59202.25</td><td>59205.184</td><td>9</td></tr>\n",
       "<tr><td>616094080371261975</td><td>2</td><td>424</td><td>2424</td><td>1394</td><td>0</td><td>104.35723006911475</td><td>55.481300271675345</td><td>0.0</td><td>0.0</td><td>0.0</td><td>5400.0</td><td>4294967296</td><td>4</td><td>SKY</td><td>-1</td><td>0.8986557156538921</td><td>63</td><td>9011</td><td>603427</td><td>535</td><td></td><td>0.0</td><td>0.0</td><td>0.0</td><td>0.0</td><td>0.0</td><td>0.0</td><td>0</td><td></td><td>0.0</td><td>0.0</td><td>0.0</td><td>0.0</td><td>1042p555</td><td>0.0</td><td>0.0</td><td>0.0</td><td>0.0011741753</td><td>-0.001415884</td><td>-0.07046164</td><td>0.0</td><td>0.0</td><td>0.0</td><td>0</td><td>0.0</td><td>0.0</td><td>0.0</td><td>0.0</td><td></td><td>-1</td><td>-1</td><td>0</td><td>0</td><td>0</td><td>4294967296</td><td>0</td><td>0</td><td>80613</td><td>9</td><td>2700.0</td><td>0.0036666666</td><td>0.006155395</td><td>0.0052222223</td><td>0.010556725</td><td>340.59155</td><td>-148.77234</td><td>104.3572035317701</td><td>55.48132068987839</td><td>340.70047</td><td>-148.75372</td><td>20201218</td><td>20201221</td><td>2</td><td>68657</td><td>69230</td><td>9</td><td>80613</td><td>80613</td><td>1</td><td>1394</td><td>1394</td><td>1</td><td>59202.25</td><td>59205.184</td><td>9</td></tr>\n",
       "<tr><td>616094080371262062</td><td>2</td><td>503</td><td>2503</td><td>1093</td><td>0</td><td>104.13060820593942</td><td>55.5019969470487</td><td>0.0</td><td>0.0</td><td>0.0</td><td>5400.0</td><td>4294967296</td><td>4</td><td>SKY</td><td>-1</td><td>0.9677229409158518</td><td>63</td><td>9011</td><td>603427</td><td>622</td><td></td><td>0.0</td><td>0.0</td><td>0.0</td><td>0.0</td><td>0.0</td><td>0.0</td><td>0</td><td></td><td>0.0</td><td>0.0</td><td>0.0</td><td>0.0</td><td>1042p555</td><td>0.0</td><td>0.0</td><td>0.0</td><td>-0.009038691</td><td>-0.012828065</td><td>-0.067900844</td><td>0.0</td><td>0.0</td><td>0.0</td><td>0</td><td>0.0</td><td>0.0</td><td>0.0</td><td>0.0</td><td></td><td>-1</td><td>-1</td><td>0</td><td>0</td><td>0</td><td>4294967296</td><td>0</td><td>0</td><td>80613</td><td>9</td><td>2700.0</td><td>0.0013333333</td><td>0.005773503</td><td>0.0036666666</td><td>0.009422196</td><td>374.803</td><td>-143.07422</td><td>104.1305978279331</td><td>55.50201122089324</td><td>374.9104</td><td>-143.05423</td><td>20201218</td><td>20201221</td><td>2</td><td>68657</td><td>69230</td><td>9</td><td>80613</td><td>80613</td><td>1</td><td>1093</td><td>1093</td><td>1</td><td>59202.25</td><td>59205.184</td><td>9</td></tr>\n",
       "<tr><td>616094080371262239</td><td>2</td><td>504</td><td>2504</td><td>1089</td><td>0</td><td>104.10294711394027</td><td>55.540753409734464</td><td>0.0</td><td>0.0</td><td>0.0</td><td>5400.0</td><td>4294967296</td><td>4</td><td>SKY</td><td>-1</td><td>0.7738712402922212</td><td>63</td><td>9011</td><td>603427</td><td>799</td><td></td><td>0.0</td><td>0.0</td><td>0.0</td><td>0.0</td><td>0.0</td><td>0.0</td><td>0</td><td></td><td>0.0</td><td>0.0</td><td>0.0</td><td>0.0</td><td>1042p555</td><td>0.0</td><td>0.0</td><td>0.0</td><td>-0.010925477</td><td>-0.0039037021</td><td>-0.010906144</td><td>0.0</td><td>0.0</td><td>0.0</td><td>0</td><td>0.0</td><td>0.0</td><td>0.0</td><td>0.0</td><td></td><td>-1</td><td>-1</td><td>0</td><td>0</td><td>0</td><td>4294967296</td><td>0</td><td>0</td><td>80613</td><td>9</td><td>2700.0</td><td>0.0022222223</td><td>0.0052915025</td><td>0.006</td><td>0.010327956</td><td>378.3511</td><td>-133.0949</td><td>104.10292991966907</td><td>55.54077678206665</td><td>378.45883</td><td>-133.07405</td><td>20201218</td><td>20201221</td><td>2</td><td>68657</td><td>69230</td><td>9</td><td>80613</td><td>80613</td><td>1</td><td>1089</td><td>1089</td><td>1</td><td>59202.25</td><td>59205.184</td><td>9</td></tr>\n",
       "<tr><td>616094080371262374</td><td>2</td><td>488</td><td>2488</td><td>1055</td><td>0</td><td>104.16990282993144</td><td>55.563604740286124</td><td>0.0</td><td>0.0</td><td>0.0</td><td>5400.0</td><td>4294967296</td><td>4</td><td>SKY</td><td>-1</td><td>0.9659633072449768</td><td>63</td><td>9011</td><td>603427</td><td>934</td><td></td><td>0.0</td><td>0.0</td><td>0.0</td><td>0.0</td><td>0.0</td><td>0.0</td><td>0</td><td></td><td>0.0</td><td>0.0</td><td>0.0</td><td>0.0</td><td>1042p555</td><td>0.0</td><td>0.0</td><td>0.0</td><td>-0.0067047887</td><td>-0.009403012</td><td>-0.019123537</td><td>0.0</td><td>0.0</td><td>0.0</td><td>0</td><td>0.0</td><td>0.0</td><td>0.0</td><td>0.0</td><td></td><td>-1</td><td>-1</td><td>0</td><td>0</td><td>0</td><td>4294967296</td><td>0</td><td>0</td><td>80613</td><td>9</td><td>2700.0</td><td>0.0037777778</td><td>0.005849976</td><td>0.005888889</td><td>0.009492687</td><td>367.67368</td><td>-127.410446</td><td>104.16987551014185</td><td>55.563627694160765</td><td>367.7826</td><td>-127.39141</td><td>20201218</td><td>20201221</td><td>2</td><td>68657</td><td>69230</td><td>9</td><td>80613</td><td>80613</td><td>1</td><td>1055</td><td>1055</td><td>1</td><td>59202.25</td><td>59205.184</td><td>9</td></tr>\n",
       "<tr><td>...</td><td>...</td><td>...</td><td>...</td><td>...</td><td>...</td><td>...</td><td>...</td><td>...</td><td>...</td><td>...</td><td>...</td><td>...</td><td>...</td><td>...</td><td>...</td><td>...</td><td>...</td><td>...</td><td>...</td><td>...</td><td>...</td><td>...</td><td>...</td><td>...</td><td>...</td><td>...</td><td>...</td><td>...</td><td>...</td><td>...</td><td>...</td><td>...</td><td>...</td><td>...</td><td>...</td><td>...</td><td>...</td><td>...</td><td>...</td><td>...</td><td>...</td><td>...</td><td>...</td><td>...</td><td>...</td><td>...</td><td>...</td><td>...</td><td>...</td><td>...</td><td>...</td><td>...</td><td>...</td><td>...</td><td>...</td><td>...</td><td>...</td><td>...</td><td>...</td><td>...</td><td>...</td><td>...</td><td>...</td><td>...</td><td>...</td><td>...</td><td>...</td><td>...</td><td>...</td><td>...</td><td>...</td><td>...</td><td>...</td><td>...</td><td>...</td><td>...</td><td>...</td><td>...</td><td>...</td><td>...</td><td>...</td><td>...</td><td>...</td><td>...</td><td>...</td></tr>\n",
       "<tr><td>616094080409010430</td><td>9</td><td>192</td><td>9192</td><td>4924</td><td>0</td><td>108.31844617302325</td><td>55.42183319108648</td><td>0.0</td><td>0.0</td><td>0.0</td><td>5400.0</td><td>4294967296</td><td>4</td><td>SKY</td><td>-1</td><td>0.9872142281094811</td><td>63</td><td>9011</td><td>603436</td><td>254</td><td></td><td>0.0</td><td>0.0</td><td>0.0</td><td>0.0</td><td>0.0</td><td>0.0</td><td>0</td><td></td><td>0.0</td><td>0.0</td><td>0.0</td><td>0.0</td><td>1082p555</td><td>0.0</td><td>0.0</td><td>0.0</td><td>0.005984091</td><td>0.039482966</td><td>-0.079692475</td><td>0.0</td><td>0.0</td><td>0.0</td><td>0</td><td>0.0</td><td>0.0</td><td>0.0</td><td>0.0</td><td></td><td>-1</td><td>-1</td><td>0</td><td>0</td><td>0</td><td>4294967296</td><td>0</td><td>0</td><td>80613</td><td>3</td><td>900.0</td><td>-0.0017777778</td><td>0.0044472213</td><td>-0.0025555557</td><td>0.0042557153</td><td>-221.46811</td><td>-166.46222</td><td>108.31845782576119</td><td>55.42182297712358</td><td>-221.56995</td><td>-166.51367</td><td>20201218</td><td>20201221</td><td>2</td><td>68657</td><td>69230</td><td>9</td><td>80613</td><td>80613</td><td>1</td><td>4924</td><td>4924</td><td>1</td><td>59202.25</td><td>59205.184</td><td>9</td></tr>\n",
       "<tr><td>616094080409010595</td><td>9</td><td>151</td><td>9151</td><td>4759</td><td>0</td><td>108.00165179873133</td><td>55.45442960524218</td><td>0.0</td><td>0.0</td><td>0.0</td><td>5400.0</td><td>4294967296</td><td>4</td><td>SKY</td><td>-1</td><td>0.975221145448739</td><td>63</td><td>9011</td><td>603436</td><td>419</td><td></td><td>0.0</td><td>0.0</td><td>0.0</td><td>0.0</td><td>0.0</td><td>0.0</td><td>0</td><td></td><td>0.0</td><td>0.0</td><td>0.0</td><td>0.0</td><td>1082p555</td><td>0.0</td><td>0.0</td><td>0.0</td><td>0.0030268598</td><td>0.03548769</td><td>0.023207868</td><td>0.0</td><td>0.0</td><td>0.0</td><td>0</td><td>0.0</td><td>0.0</td><td>0.0</td><td>0.0</td><td></td><td>-1</td><td>-1</td><td>0</td><td>0</td><td>0</td><td>4294967296</td><td>0</td><td>0</td><td>80613</td><td>8</td><td>2400.0</td><td>-0.0018888889</td><td>0.006871843</td><td>-0.0028888888</td><td>0.0051854495</td><td>-175.82123</td><td>-158.26323</td><td>108.00166451657125</td><td>55.454417981874954</td><td>-175.89369</td><td>-158.30576</td><td>20201218</td><td>20201221</td><td>2</td><td>68657</td><td>69230</td><td>9</td><td>80613</td><td>80613</td><td>1</td><td>4759</td><td>4759</td><td>1</td><td>59202.25</td><td>59205.184</td><td>9</td></tr>\n",
       "<tr><td>616094080409010684</td><td>9</td><td>163</td><td>9163</td><td>4922</td><td>0</td><td>108.20930368732186</td><td>55.4750004102621</td><td>0.0</td><td>0.0</td><td>0.0</td><td>5400.0</td><td>4294967296</td><td>4</td><td>SKY</td><td>-1</td><td>0.9838455962174565</td><td>63</td><td>9011</td><td>603436</td><td>508</td><td></td><td>0.0</td><td>0.0</td><td>0.0</td><td>0.0</td><td>0.0</td><td>0.0</td><td>0</td><td></td><td>0.0</td><td>0.0</td><td>0.0</td><td>0.0</td><td>1082p555</td><td>0.0</td><td>0.0</td><td>0.0</td><td>-0.0014503115</td><td>0.0027215672</td><td>0.033314005</td><td>0.0</td><td>0.0</td><td>0.0</td><td>0</td><td>0.0</td><td>0.0</td><td>0.0</td><td>0.0</td><td></td><td>-1</td><td>-1</td><td>0</td><td>0</td><td>0</td><td>4294967296</td><td>0</td><td>0</td><td>80613</td><td>9</td><td>2700.0</td><td>-0.0014444444</td><td>0.005587685</td><td>-0.0024444445</td><td>0.0046666665</td><td>-205.28178</td><td>-153.11333</td><td>108.20931320603214</td><td>55.47499059161603</td><td>-205.3738</td><td>-153.1577</td><td>20201218</td><td>20201221</td><td>2</td><td>68657</td><td>69230</td><td>9</td><td>80613</td><td>80613</td><td>1</td><td>4922</td><td>4922</td><td>1</td><td>59202.25</td><td>59205.184</td><td>9</td></tr>\n",
       "<tr><td>616094080409010902</td><td>9</td><td>136</td><td>9136</td><td>4768</td><td>0</td><td>108.1043809782785</td><td>55.52327129810851</td><td>0.0</td><td>0.0</td><td>0.0</td><td>5400.0</td><td>4294967296</td><td>4</td><td>SKY</td><td>-1</td><td>0.8729695286698426</td><td>63</td><td>9011</td><td>603436</td><td>726</td><td></td><td>0.0</td><td>0.0</td><td>0.0</td><td>0.0</td><td>0.0</td><td>0.0</td><td>0</td><td></td><td>0.0</td><td>0.0</td><td>0.0</td><td>0.0</td><td>1082p555</td><td>0.0</td><td>0.0</td><td>0.0</td><td>-0.0007758938</td><td>-0.008656179</td><td>-0.06283742</td><td>0.0</td><td>0.0</td><td>0.0</td><td>0</td><td>0.0</td><td>0.0</td><td>0.0</td><td>0.0</td><td></td><td>-1</td><td>-1</td><td>0</td><td>0</td><td>0</td><td>4294967296</td><td>0</td><td>0</td><td>80613</td><td>8</td><td>2400.0</td><td>-0.0023333333</td><td>0.005840472</td><td>-0.004</td><td>0.005354126</td><td>-189.909</td><td>-141.06622</td><td>108.10439655807146</td><td>55.52325515486211</td><td>-189.99286</td><td>-141.10628</td><td>20201218</td><td>20201221</td><td>2</td><td>68657</td><td>69230</td><td>9</td><td>80613</td><td>80613</td><td>1</td><td>4768</td><td>4768</td><td>1</td><td>59202.25</td><td>59205.184</td><td>9</td></tr>\n",
       "<tr><td>616094083831562311</td><td>9</td><td>65</td><td>9065</td><td>4563</td><td>0</td><td>107.46340496987702</td><td>55.634058710506224</td><td>0.0</td><td>0.0</td><td>0.0</td><td>5400.0</td><td>4294967296</td><td>4</td><td>SKY</td><td>-1</td><td>0.8672376636636584</td><td>63</td><td>9011</td><td>604252</td><td>71</td><td></td><td>0.0</td><td>0.0</td><td>0.0</td><td>0.0</td><td>0.0</td><td>0.0</td><td>0</td><td></td><td>0.0</td><td>0.0</td><td>0.0</td><td>0.0</td><td>1072p557</td><td>0.0</td><td>0.0</td><td>0.0</td><td>-0.014364495</td><td>-0.0063440823</td><td>0.08450226</td><td>0.0</td><td>0.0</td><td>0.0</td><td>0</td><td>0.0</td><td>0.0</td><td>0.0</td><td>0.0</td><td></td><td>-1</td><td>-1</td><td>0</td><td>0</td><td>0</td><td>4294967296</td><td>0</td><td>0</td><td>80613</td><td>9</td><td>2700.0</td><td>-0.0025555557</td><td>0.00788106</td><td>-0.0024444445</td><td>0.005925463</td><td>-99.37578</td><td>-113.74822</td><td>107.46342317667903</td><td>55.634048686642615</td><td>-99.41096</td><td>-113.768456</td><td>20201218</td><td>20201221</td><td>2</td><td>68657</td><td>69230</td><td>9</td><td>80613</td><td>80613</td><td>1</td><td>4563</td><td>4563</td><td>1</td><td>59202.25</td><td>59205.184</td><td>9</td></tr>\n",
       "<tr><td>616094083831562463</td><td>9</td><td>50</td><td>9050</td><td>4579</td><td>0</td><td>107.29790178071681</td><td>55.66727805579297</td><td>0.0</td><td>0.0</td><td>0.0</td><td>5400.0</td><td>4294967296</td><td>4</td><td>SKY</td><td>-1</td><td>0.979859423134888</td><td>63</td><td>9011</td><td>604252</td><td>223</td><td></td><td>0.0</td><td>0.0</td><td>0.0</td><td>0.0</td><td>0.0</td><td>0.0</td><td>0</td><td></td><td>0.0</td><td>0.0</td><td>0.0</td><td>0.0</td><td>1072p557</td><td>0.0</td><td>0.0</td><td>0.0</td><td>-0.0071698893</td><td>-0.025509315</td><td>-0.06315213</td><td>0.0</td><td>0.0</td><td>0.0</td><td>0</td><td>0.0</td><td>0.0</td><td>0.0</td><td>0.0</td><td></td><td>-1</td><td>-1</td><td>0</td><td>0</td><td>0</td><td>4294967296</td><td>0</td><td>0</td><td>80613</td><td>9</td><td>2700.0</td><td>-0.0012222222</td><td>0.007234178</td><td>-0.003</td><td>0.0055075707</td><td>-76.38878</td><td>-105.586555</td><td>107.2979104565179</td><td>55.66726579657935</td><td>-76.412506</td><td>-105.603455</td><td>20201218</td><td>20201221</td><td>2</td><td>68657</td><td>69230</td><td>9</td><td>80613</td><td>80613</td><td>1</td><td>4579</td><td>4579</td><td>1</td><td>59202.25</td><td>59205.184</td><td>9</td></tr>\n",
       "<tr><td>616094083831562983</td><td>9</td><td>33</td><td>9033</td><td>4582</td><td>0</td><td>107.36132807390584</td><td>55.779968856706155</td><td>0.0</td><td>0.0</td><td>0.0</td><td>5400.0</td><td>4294967296</td><td>4</td><td>SKY</td><td>-1</td><td>0.8097374674341012</td><td>63</td><td>9011</td><td>604252</td><td>743</td><td></td><td>0.0</td><td>0.0</td><td>0.0</td><td>0.0</td><td>0.0</td><td>0.0</td><td>0</td><td></td><td>0.0</td><td>0.0</td><td>0.0</td><td>0.0</td><td>1072p557</td><td>0.0</td><td>0.0</td><td>0.0</td><td>-0.003565599</td><td>-0.004830549</td><td>0.04747088</td><td>0.0</td><td>0.0</td><td>0.0</td><td>0</td><td>0.0</td><td>0.0</td><td>0.0</td><td>0.0</td><td></td><td>-1</td><td>-1</td><td>0</td><td>0</td><td>0</td><td>4294967296</td><td>0</td><td>0</td><td>80613</td><td>9</td><td>2700.0</td><td>-0.0012222222</td><td>0.0071724784</td><td>-0.0033333334</td><td>0.0050990195</td><td>-84.88367</td><td>-77.96211</td><td>107.36133675718554</td><td>55.77995518718285</td><td>-84.91362</td><td>-77.97445</td><td>20201218</td><td>20201221</td><td>2</td><td>68657</td><td>69230</td><td>9</td><td>80613</td><td>80613</td><td>1</td><td>4582</td><td>4582</td><td>1</td><td>59202.25</td><td>59205.184</td><td>9</td></tr>\n",
       "<tr><td>616094083831563237</td><td>9</td><td>22</td><td>9022</td><td>4591</td><td>0</td><td>107.25470114107601</td><td>55.83111060549693</td><td>0.0</td><td>0.0</td><td>0.0</td><td>5400.0</td><td>4294967296</td><td>4</td><td>SKY</td><td>-1</td><td>0.8980180249261804</td><td>63</td><td>9011</td><td>604252</td><td>997</td><td></td><td>0.0</td><td>0.0</td><td>0.0</td><td>0.0</td><td>0.0</td><td>0.0</td><td>0</td><td></td><td>0.0</td><td>0.0</td><td>0.0</td><td>0.0</td><td>1072p557</td><td>0.0</td><td>0.0</td><td>0.0</td><td>0.008550051</td><td>-0.0027653475</td><td>0.08793353</td><td>0.0</td><td>0.0</td><td>0.0</td><td>0</td><td>0.0</td><td>0.0</td><td>0.0</td><td>0.0</td><td></td><td>-1</td><td>-1</td><td>0</td><td>0</td><td>0</td><td>4294967296</td><td>0</td><td>0</td><td>80613</td><td>9</td><td>2700.0</td><td>-0.0008888889</td><td>0.007916228</td><td>-0.004</td><td>0.0048989793</td><td>-70.14222</td><td>-65.485</td><td>107.25470746391133</td><td>55.831094195234876</td><td>-70.16625</td><td>-65.495255</td><td>20201218</td><td>20201221</td><td>2</td><td>68657</td><td>69230</td><td>9</td><td>80613</td><td>80613</td><td>1</td><td>4591</td><td>4591</td><td>1</td><td>59202.25</td><td>59205.184</td><td>9</td></tr>\n",
       "<tr><td>616094087233143487</td><td>9</td><td>0</td><td>9000</td><td>4869</td><td>0</td><td>106.89680544710527</td><td>56.02150709492462</td><td>0.0</td><td>0.0</td><td>0.0</td><td>5400.0</td><td>4294967296</td><td>4</td><td>SKY</td><td>-1</td><td>0.9883555737960068</td><td>63</td><td>9011</td><td>605063</td><td>703</td><td></td><td>0.0</td><td>0.0</td><td>0.0</td><td>0.0</td><td>0.0</td><td>0.0</td><td>0</td><td></td><td>0.0</td><td>0.0</td><td>0.0</td><td>0.0</td><td>1067p560</td><td>0.0</td><td>0.0</td><td>0.0</td><td>-0.020151662</td><td>-0.023434065</td><td>0.050563566</td><td>0.0</td><td>0.0</td><td>0.0</td><td>0</td><td>0.0</td><td>0.0</td><td>0.0</td><td>0.0</td><td></td><td>-1</td><td>-1</td><td>0</td><td>0</td><td>0</td><td>4294967296</td><td>0</td><td>0</td><td>80613</td><td>9</td><td>2700.0</td><td>0.00044444445</td><td>0.008705043</td><td>-0.002111111</td><td>0.0036968456</td><td>-21.218334</td><td>-19.12911</td><td>106.8968022106096</td><td>56.021498428972755</td><td>-21.224552</td><td>-19.129517</td><td>20201218</td><td>20201221</td><td>2</td><td>68657</td><td>69230</td><td>9</td><td>80613</td><td>80613</td><td>1</td><td>4869</td><td>4869</td><td>1</td><td>59202.25</td><td>59205.184</td><td>9</td></tr>\n",
       "<tr><td>616094087237337287</td><td>9</td><td>9</td><td>9009</td><td>4868</td><td>0</td><td>107.05407783324253</td><td>55.906404235298545</td><td>0.0</td><td>0.0</td><td>0.0</td><td>5400.0</td><td>4294967296</td><td>4</td><td>SKY</td><td>-1</td><td>0.9883858588360721</td><td>63</td><td>9011</td><td>605064</td><td>199</td><td></td><td>0.0</td><td>0.0</td><td>0.0</td><td>0.0</td><td>0.0</td><td>0.0</td><td>0</td><td></td><td>0.0</td><td>0.0</td><td>0.0</td><td>0.0</td><td>1071p560</td><td>0.0</td><td>0.0</td><td>0.0</td><td>0.0012684034</td><td>-0.002576175</td><td>-0.0061918143</td><td>0.0</td><td>0.0</td><td>0.0</td><td>0</td><td>0.0</td><td>0.0</td><td>0.0</td><td>0.0</td><td></td><td>-1</td><td>-1</td><td>0</td><td>0</td><td>0</td><td>4294967296</td><td>0</td><td>0</td><td>80613</td><td>3</td><td>900.0</td><td>-2.891206e-19</td><td>0.009309493</td><td>-0.0018888889</td><td>0.004229526</td><td>-42.631554</td><td>-47.145668</td><td>107.05407781916101</td><td>55.90639648304418</td><td>-42.644863</td><td>-47.149673</td><td>20201218</td><td>20201221</td><td>2</td><td>68657</td><td>69230</td><td>9</td><td>80613</td><td>80613</td><td>1</td><td>4868</td><td>4868</td><td>1</td><td>59202.25</td><td>59205.184</td><td>9</td></tr>\n",
       "</table>"
      ],
      "text/plain": [
       "<Table length=667>\n",
       "     TARGETID      PETAL_LOC DEVICE_LOC LOCATION ... FIRST_MJD  LAST_MJD NUM_MJD\n",
       "      int64          int16     int32     int64   ...  float32   float32   int16 \n",
       "------------------ --------- ---------- -------- ... --------- --------- -------\n",
       "616094076919349920         2        462     2462 ...  59202.25 59205.184       9\n",
       "616094076919350333         2        421     2421 ...  59202.25 59205.184       9\n",
       "616094076923544310         2        375     2375 ...  59202.25 59205.184       9\n",
       "616094076923544370         2        333     2333 ...  59202.25 59205.184       9\n",
       "616094080371261525         2        465     2465 ...  59202.25 59205.184       9\n",
       "616094080371261551         2        422     2422 ...  59202.25 59205.184       9\n",
       "616094080371261975         2        424     2424 ...  59202.25 59205.184       9\n",
       "616094080371262062         2        503     2503 ...  59202.25 59205.184       9\n",
       "616094080371262239         2        504     2504 ...  59202.25 59205.184       9\n",
       "616094080371262374         2        488     2488 ...  59202.25 59205.184       9\n",
       "               ...       ...        ...      ... ...       ...       ...     ...\n",
       "616094080409010430         9        192     9192 ...  59202.25 59205.184       9\n",
       "616094080409010595         9        151     9151 ...  59202.25 59205.184       9\n",
       "616094080409010684         9        163     9163 ...  59202.25 59205.184       9\n",
       "616094080409010902         9        136     9136 ...  59202.25 59205.184       9\n",
       "616094083831562311         9         65     9065 ...  59202.25 59205.184       9\n",
       "616094083831562463         9         50     9050 ...  59202.25 59205.184       9\n",
       "616094083831562983         9         33     9033 ...  59202.25 59205.184       9\n",
       "616094083831563237         9         22     9022 ...  59202.25 59205.184       9\n",
       "616094087233143487         9          0     9000 ...  59202.25 59205.184       9\n",
       "616094087237337287         9          9     9009 ...  59202.25 59205.184       9"
      ]
     },
     "execution_count": 22,
     "metadata": {},
     "output_type": "execute_result"
    }
   ],
   "source": [
    "spectra.fibermap"
   ]
  },
  {
   "cell_type": "code",
   "execution_count": 23,
   "metadata": {},
   "outputs": [
    {
     "name": "stdout",
     "output_type": "stream",
     "text": [
      "INFO:spectra.py:253:read_spectra: iotime 0.122 sec to read spectra_bright.fits at 2021-04-08T19:35:30.797839\n"
     ]
    }
   ],
   "source": [
    "old_spec = desispec.io.read_spectra(my_path /  \"spectra_bright.fits\")"
   ]
  },
  {
   "cell_type": "code",
   "execution_count": 25,
   "metadata": {},
   "outputs": [],
   "source": [
    "from astropy.coordinates import SkyCoord\n",
    "from astropy import units as u\n",
    "c = SkyCoord(ra=old_spec.fibermap[\"MEAN_FIBER_RA\"]*u.degree, dec=old_spec.fibermap[\"MEAN_FIBER_DEC\"]*u.degree)\n",
    "catalog = SkyCoord(ra=spectra.fibermap[\"MEAN_FIBER_RA\"]*u.degree, dec=spectra.fibermap[\"MEAN_FIBER_DEC\"]*u.degree)\n",
    "idx, d2d, d3d = c.match_to_catalog_sky(catalog)"
   ]
  },
  {
   "cell_type": "code",
   "execution_count": 28,
   "metadata": {},
   "outputs": [],
   "source": [
    "sky_targets = spectra.fibermap[idx][\"TARGETID\"]"
   ]
  },
  {
   "cell_type": "code",
   "execution_count": 29,
   "metadata": {},
   "outputs": [],
   "source": [
    "sky_spec = myspecselect.myspecselect(spectra,targets= sky_targets)"
   ]
  },
  {
   "cell_type": "code",
   "execution_count": 30,
   "metadata": {},
   "outputs": [
    {
     "name": "stdout",
     "output_type": "stream",
     "text": [
      "INFO:spectra.py:154:write_spectra: iotime 34.361 sec to write sky_bright.fits at 2021-04-08T19:43:07.613755\n"
     ]
    },
    {
     "data": {
      "text/plain": [
       "'/global/cscratch1/sd/bid13/stack-spectra/sky_bright.fits'"
      ]
     },
     "execution_count": 30,
     "metadata": {},
     "output_type": "execute_result"
    }
   ],
   "source": [
    "desispec.io.write_spectra(my_path/\"sky_bright.fits\", sky_spec)"
   ]
  },
  {
   "cell_type": "code",
   "execution_count": 31,
   "metadata": {},
   "outputs": [
    {
     "data": {
      "text/plain": [
       "16"
      ]
     },
     "execution_count": 31,
     "metadata": {},
     "output_type": "execute_result"
    }
   ],
   "source": [
    "sky_spec.num_targets()"
   ]
  },
  {
   "cell_type": "code",
   "execution_count": null,
   "metadata": {},
   "outputs": [],
   "source": []
  }
 ],
 "metadata": {
  "kernelspec": {
   "display_name": "DESI master",
   "language": "python",
   "name": "desi-master"
  },
  "language_info": {
   "codemirror_mode": {
    "name": "ipython",
    "version": 3
   },
   "file_extension": ".py",
   "mimetype": "text/x-python",
   "name": "python",
   "nbconvert_exporter": "python",
   "pygments_lexer": "ipython3",
   "version": "3.8.3"
  }
 },
 "nbformat": 4,
 "nbformat_minor": 4
}
